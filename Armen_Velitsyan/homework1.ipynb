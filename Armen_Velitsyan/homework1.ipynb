{
 "cells": [
  {
   "cell_type": "code",
   "execution_count": 62,
   "metadata": {},
   "outputs": [
    {
     "name": "stdout",
     "output_type": "stream",
     "text": [
      "Please, insert product"
     ]
    },
    {
     "name": "stdin",
     "output_type": "stream",
     "text": [
      " 1st item\n"
     ]
    },
    {
     "name": "stdout",
     "output_type": "stream",
     "text": [
      "Please, insert product"
     ]
    },
    {
     "name": "stdin",
     "output_type": "stream",
     "text": [
      " 2nd item\n"
     ]
    },
    {
     "name": "stdout",
     "output_type": "stream",
     "text": [
      "Please, insert product"
     ]
    },
    {
     "name": "stdin",
     "output_type": "stream",
     "text": [
      " 3rd item\n"
     ]
    },
    {
     "name": "stdout",
     "output_type": "stream",
     "text": [
      "Please, insert product"
     ]
    },
    {
     "name": "stdin",
     "output_type": "stream",
     "text": [
      " 4th item\n"
     ]
    },
    {
     "name": "stdout",
     "output_type": "stream",
     "text": [
      "Please, insert product"
     ]
    },
    {
     "name": "stdin",
     "output_type": "stream",
     "text": [
      " 5th item\n"
     ]
    },
    {
     "name": "stdout",
     "output_type": "stream",
     "text": [
      "Please, insert product"
     ]
    },
    {
     "name": "stdin",
     "output_type": "stream",
     "text": [
      " 6th item\n"
     ]
    },
    {
     "name": "stdout",
     "output_type": "stream",
     "text": [
      "Sorry, basket is full \n"
     ]
    },
    {
     "data": {
      "text/html": [
       "<div class=\"jp-RenderedText\">\n",
       "<pre><code><span style=\"color: rgb(0, 187, 0)\"><span class=\"ansi-green-fg\">import </span></span><span style=\"color: rgb(0, 187, 187)\"><span class=\"ansi-cyan-fg\">io.StdIn._\n",
       "</span></span>\n",
       "<span style=\"color: rgb(0, 187, 187)\"><span class=\"ansi-cyan-fg\">basket</span></span>: <span style=\"color: rgb(0, 187, 0)\"><span class=\"ansi-green-fg\">Array</span></span>[<span style=\"color: rgb(0, 187, 0)\"><span class=\"ansi-green-fg\">String</span></span>] = <span style=\"color: yellow\"><span class=\"ansi-yellow-fg\">Array</span></span>(\n",
       "  <span style=\"color: rgb(0, 187, 0)\"><span class=\"ansi-green-fg\">&quot;1st item&quot;</span></span>,\n",
       "  <span style=\"color: rgb(0, 187, 0)\"><span class=\"ansi-green-fg\">&quot;2nd item&quot;</span></span>,\n",
       "  <span style=\"color: rgb(0, 187, 0)\"><span class=\"ansi-green-fg\">&quot;3rd item&quot;</span></span>,\n",
       "  <span style=\"color: rgb(0, 187, 0)\"><span class=\"ansi-green-fg\">&quot;4th item&quot;</span></span>,\n",
       "  <span style=\"color: rgb(0, 187, 0)\"><span class=\"ansi-green-fg\">&quot;5th item&quot;</span></span>\n",
       ")</code></pre>\n",
       "</div>"
      ],
      "text/plain": [
       "\u001b[32mimport \u001b[39m\u001b[36mio.StdIn._\n",
       "\u001b[39m\n",
       "\u001b[36mbasket\u001b[39m: \u001b[32mArray\u001b[39m[\u001b[32mString\u001b[39m] = \u001b[33mArray\u001b[39m(\n",
       "  \u001b[32m\"1st item\"\u001b[39m,\n",
       "  \u001b[32m\"2nd item\"\u001b[39m,\n",
       "  \u001b[32m\"3rd item\"\u001b[39m,\n",
       "  \u001b[32m\"4th item\"\u001b[39m,\n",
       "  \u001b[32m\"5th item\"\u001b[39m\n",
       ")"
      ]
     },
     "metadata": {},
     "output_type": "display_data"
    }
   ],
   "source": [
    "/*exercise 1\n",
    "Create supermarket basket like function which creates fixed size array and  appends customer products  to\n",
    "this basket printing products. Basket becomes full if products in the basket are  more than  5. \n",
    "If basket is full throw exception by printing “Basket is  full”.\n",
    "*/\n",
    "\n",
    "import io.StdIn._\n",
    "var  basket = new Array[String](5)\n",
    "try{\n",
    "    for (i <- 0.to(999)){ \n",
    "    var product1 = readLine(\"Please, insert product\")\n",
    "    basket(i) = product1\n",
    "  }\n",
    "} catch{\n",
    "  case ex:ArrayIndexOutOfBoundsException => println(\"Sorry, basket is full \")\n",
    "}"
   ]
  },
  {
   "cell_type": "code",
   "execution_count": 66,
   "metadata": {},
   "outputs": [
    {
     "name": "stdout",
     "output_type": "stream",
     "text": [
      "Insert number please"
     ]
    },
    {
     "name": "stdin",
     "output_type": "stream",
     "text": [
      " 2\n"
     ]
    },
    {
     "name": "stdout",
     "output_type": "stream",
     "text": [
      "2\n"
     ]
    },
    {
     "data": {
      "text/plain": [
       "\u001b[32mimport \u001b[39m\u001b[36mio.StdIn._\n",
       "\u001b[39m\n",
       "\u001b[36mnumber\u001b[39m: \u001b[32mString\u001b[39m = \u001b[32m\"2\"\u001b[39m"
      ]
     },
     "execution_count": 66,
     "metadata": {},
     "output_type": "execute_result"
    }
   ],
   "source": [
    "/* exercise 2\n",
    "Create function for converting strings to int. Catch exception if confersion can not be done, \n",
    "otherwise return the converted value.\n",
    "*/\n",
    "import io.StdIn._\n",
    "val number = readLine(\"Insert number please\")\n",
    "try{\n",
    "  println(number.toInt)\n",
    "}\n",
    "catch{\n",
    "  case ex: NumberFormatException => println(\"I'd kindly ask you to run function again and insert INTEGER :)\")\n",
    "}"
   ]
  },
  {
   "cell_type": "code",
   "execution_count": 97,
   "metadata": {},
   "outputs": [
    {
     "name": "stdout",
     "output_type": "stream",
     "text": [
      "\n"
     ]
    },
    {
     "data": {
      "text/html": [
       "<div class=\"jp-RenderedText\">\n",
       "<pre><code><span style=\"color: rgb(0, 187, 187)\"><span class=\"ansi-cyan-fg\">x</span></span>: <span style=\"color: rgb(0, 187, 0)\"><span class=\"ansi-green-fg\">String</span></span> = <span style=\"color: rgb(0, 187, 0)\"><span class=\"ansi-green-fg\">&quot;&quot;</span></span>\n",
       "defined <span style=\"color: rgb(0, 187, 0)\"><span class=\"ansi-green-fg\">function</span></span> <span style=\"color: rgb(0, 187, 187)\"><span class=\"ansi-cyan-fg\">charCount</span></span></code></pre>\n",
       "</div>"
      ],
      "text/plain": [
       "\u001b[36mx\u001b[39m: \u001b[32mString\u001b[39m = \u001b[32m\"\"\u001b[39m\n",
       "defined \u001b[32mfunction\u001b[39m \u001b[36mcharCount\u001b[39m"
      ]
     },
     "metadata": {},
     "output_type": "display_data"
    }
   ],
   "source": [
    "/* exercise 3\n",
    "Write a recursive function that generates the following pattern of letters.\n",
    "Make sure that the user enters an integer between 1 and 26.\n",
    "*/\n",
    "var x = \"\"\n",
    "def charCount(n:Int):String = {\n",
    "  if (n>0 && n < 27)\n",
    "  {\n",
    "    x.concat((n+64).toChar.toString)\n",
    "    charCount(n-1)\n",
    "  }\n",
    "return x.reverse\n",
    "}\n",
    "println(charCount(10))\n",
    "/* Function is not properly running. I think this is due to global variable x, Can we discuss this part in class? */"
   ]
  },
  {
   "cell_type": "code",
   "execution_count": 69,
   "metadata": {},
   "outputs": [
    {
     "data": {
      "text/plain": [
       "\u001b[36mres68\u001b[39m: \u001b[32mList\u001b[39m[\u001b[32mChar\u001b[39m] = \u001b[33mList\u001b[39m(\n",
       "  \u001b[32m'A'\u001b[39m,\n",
       "  \u001b[32m'B'\u001b[39m,\n",
       "  \u001b[32m'C'\u001b[39m,\n",
       "  \u001b[32m'D'\u001b[39m,\n",
       "  \u001b[32m'E'\u001b[39m,\n",
       "  \u001b[32m'F'\u001b[39m,\n",
       "  \u001b[32m'G'\u001b[39m,\n",
       "  \u001b[32m'H'\u001b[39m,\n",
       "  \u001b[32m'I'\u001b[39m,\n",
       "  \u001b[32m'J'\u001b[39m,\n",
       "  \u001b[32m'K'\u001b[39m,\n",
       "  \u001b[32m'L'\u001b[39m,\n",
       "  \u001b[32m'M'\u001b[39m,\n",
       "  \u001b[32m'N'\u001b[39m,\n",
       "  \u001b[32m'O'\u001b[39m,\n",
       "  \u001b[32m'P'\u001b[39m,\n",
       "  \u001b[32m'Q'\u001b[39m,\n",
       "  \u001b[32m'R'\u001b[39m,\n",
       "  \u001b[32m'S'\u001b[39m,\n",
       "  \u001b[32m'T'\u001b[39m,\n",
       "  \u001b[32m'U'\u001b[39m,\n",
       "  \u001b[32m'V'\u001b[39m,\n",
       "  \u001b[32m'W'\u001b[39m,\n",
       "  \u001b[32m'X'\u001b[39m,\n",
       "  \u001b[32m'Y'\u001b[39m,\n",
       "  \u001b[32m'Z'\u001b[39m\n",
       ")"
      ]
     },
     "execution_count": 69,
     "metadata": {},
     "output_type": "execute_result"
    }
   ],
   "source": [
    "/* exercise 4\n",
    "Make a List[Char] that contains ’a’-’z’ without typing in all the characters. \n",
    "(Use toChar to make this work.)\n",
    "*/\n",
    "List.tabulate(26)(i => (i+65).toChar)\n",
    "\n",
    "/* tabulate function was taken from book you provided :)  (on page 141) */"
   ]
  },
  {
   "cell_type": "code",
   "execution_count": 4,
   "metadata": {},
   "outputs": [
    {
     "name": "stdout",
     "output_type": "stream",
     "text": [
      "2.825\n"
     ]
    },
    {
     "data": {
      "text/plain": [
       "defined \u001b[32mfunction\u001b[39m \u001b[36msmx\u001b[39m"
      ]
     },
     "execution_count": 4,
     "metadata": {},
     "output_type": "execute_result"
    }
   ],
   "source": [
    "/* exercise 5\n",
    "Write a function that takes a number of values and returns \n",
    "the average  excluding the largest and smallest values.\n",
    "*/\n",
    "def smx(lst:List[Double]): Double = {\n",
    "  var lst1 = List[Double]()\n",
    "  for (i <- lst){\n",
    "    if (i > lst.min && i < lst.max){\n",
    "      lst1 = lst1:+i           \n",
    "    }\n",
    "  }\n",
    "  var avg = lst1.sum / lst1.length\n",
    "  return avg\n",
    "}\n",
    "\n",
    "println(smx(List[Double](1.1,2.3,2,3,4,5)))"
   ]
  },
  {
   "cell_type": "code",
   "execution_count": 96,
   "metadata": {},
   "outputs": [
    {
     "data": {
      "text/plain": [
       "defined \u001b[32mfunction\u001b[39m \u001b[36mchangeArray\u001b[39m\n",
       "\u001b[36mres95_1\u001b[39m: \u001b[32mArray\u001b[39m[\u001b[32mInt\u001b[39m] = \u001b[33mArray\u001b[39m(\u001b[32m70\u001b[39m, \u001b[32m13\u001b[39m, \u001b[32m56\u001b[39m, \u001b[32m43\u001b[39m, \u001b[32m57\u001b[39m, \u001b[32m44\u001b[39m, \u001b[32m23\u001b[39m, \u001b[32m54\u001b[39m, \u001b[32m67\u001b[39m, \u001b[32m32\u001b[39m, \u001b[32m89\u001b[39m)\n",
       "\u001b[36mres95_2\u001b[39m: \u001b[32mArray\u001b[39m[\u001b[32mInt\u001b[39m] = \u001b[33mArray\u001b[39m(\u001b[32m3\u001b[39m, \u001b[32m4\u001b[39m, \u001b[32m5\u001b[39m, \u001b[32m1\u001b[39m, \u001b[32m2\u001b[39m)\n",
       "\u001b[36mres95_3\u001b[39m: \u001b[32mArray\u001b[39m[\u001b[32mInt\u001b[39m] = \u001b[33mArray\u001b[39m(\u001b[32m45\u001b[39m, \u001b[32m32\u001b[39m, \u001b[32m56\u001b[39m, \u001b[32m87\u001b[39m, \u001b[32m65\u001b[39m, \u001b[32m10\u001b[39m, \u001b[32m11\u001b[39m, \u001b[32m12\u001b[39m)"
      ]
     },
     "execution_count": 96,
     "metadata": {},
     "output_type": "execute_result"
    }
   ],
   "source": [
    "/* exercise 6 \n",
    "Hackerrank excersice\n",
    "A left rotation operation on an array of size  shifts each of the array's elements  unit to the left.\n",
    "For example, if  left rotations are performed on array , then the array would become.\n",
    "Given an array of  integers and a number, , perform  left rotations on the array. \n",
    "Then print the updated array as a single line of space-separated integers.\n",
    "*/\n",
    "\n",
    "def changeArray(mainArr:Array[Int],dropindex:Int): Array[Int] = {\n",
    "  var arr1st = mainArr.drop(dropindex)\n",
    "  var arr2nd = mainArr.dropRight(mainArr.length-dropindex)\n",
    "  var finarray = arr1st ++ arr2nd\n",
    "  return finarray\n",
    "}\n",
    "\n",
    "changeArray(Array[Int](23,54,67,32,89,70,13,56,43,57,44),5)\n",
    "changeArray(Array[Int](1,2,3,4,5),2)\n",
    "changeArray(Array[Int](10,11,12,45,32,56,87,65),3)"
   ]
  },
  {
   "cell_type": "code",
   "execution_count": null,
   "metadata": {},
   "outputs": [],
   "source": []
  }
 ],
 "metadata": {
  "kernelspec": {
   "display_name": "Scala (2.13)",
   "language": "scala",
   "name": "scala213"
  },
  "language_info": {
   "codemirror_mode": "text/x-scala",
   "file_extension": ".scala",
   "mimetype": "text/x-scala",
   "name": "scala",
   "nbconvert_exporter": "script",
   "version": "2.13.1"
  }
 },
 "nbformat": 4,
 "nbformat_minor": 2
}
