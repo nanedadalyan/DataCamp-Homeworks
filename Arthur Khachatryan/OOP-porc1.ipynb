{
 "cells": [
  {
   "cell_type": "code",
   "execution_count": 58,
   "metadata": {},
   "outputs": [
    {
     "name": "stdout",
     "output_type": "stream",
     "text": [
      "TaskType: Study\n",
      "Duration before update: 60 seconds\n",
      "Duration after update: 20 hours\n",
      "Task1 status before update is false\n",
      "Task1 status after update is true\n"
     ]
    },
    {
     "data": {
      "text/html": [
       "<div class=\"jp-RenderedText\">\n",
       "<pre><code><span style=\"color: rgb(0, 187, 0)\"><span class=\"ansi-green-fg\">import </span></span><span style=\"color: rgb(0, 187, 187)\"><span class=\"ansi-cyan-fg\">java.util.Date\n",
       "</span></span>\n",
       "<span style=\"color: rgb(0, 187, 0)\"><span class=\"ansi-green-fg\">import </span></span><span style=\"color: rgb(0, 187, 187)\"><span class=\"ansi-cyan-fg\">scala.concurrent.duration._\n",
       "\n",
       "  \n",
       "  </span></span>\n",
       "<span style=\"color: rgb(0, 187, 187)\"><span class=\"ansi-cyan-fg\">task1</span></span>: <span style=\"color: rgb(0, 187, 0)\"><span class=\"ansi-green-fg\">Task</span></span> = ammonite.$sess.cmd57$Helper$Task@2d0a784d\n",
       "<span style=\"color: rgb(0, 187, 187)\"><span class=\"ansi-cyan-fg\">todoList</span></span>: <span style=\"color: rgb(0, 187, 0)\"><span class=\"ansi-green-fg\">ToDo</span></span> = ammonite.$sess.cmd57$Helper$ToDo@1079ad83\n",
       "<span style=\"color: rgb(0, 187, 187)\"><span class=\"ansi-cyan-fg\">foundedTasks</span></span>: <span style=\"color: rgb(0, 187, 0)\"><span class=\"ansi-green-fg\">Array</span></span>[<span style=\"color: rgb(0, 187, 0)\"><span class=\"ansi-green-fg\">Task</span></span>] = <span style=\"color: yellow\"><span class=\"ansi-yellow-fg\">Array</span></span>(ammonite.$sess.cmd57$Helper$Task@2d0a784d)\n",
       "defined <span style=\"color: rgb(0, 187, 0)\"><span class=\"ansi-green-fg\">class</span></span> <span style=\"color: rgb(0, 187, 187)\"><span class=\"ansi-cyan-fg\">ToDo</span></span>\n",
       "defined <span style=\"color: rgb(0, 187, 0)\"><span class=\"ansi-green-fg\">class</span></span> <span style=\"color: rgb(0, 187, 187)\"><span class=\"ansi-cyan-fg\">Task</span></span>\n",
       "defined <span style=\"color: rgb(0, 187, 0)\"><span class=\"ansi-green-fg\">object</span></span> <span style=\"color: rgb(0, 187, 187)\"><span class=\"ansi-cyan-fg\">TaskType</span></span></code></pre>\n",
       "</div>"
      ],
      "text/plain": [
       "\u001b[32mimport \u001b[39m\u001b[36mjava.util.Date\n",
       "\u001b[39m\n",
       "\u001b[32mimport \u001b[39m\u001b[36mscala.concurrent.duration._\n",
       "\n",
       "  \n",
       "  \u001b[39m\n",
       "\u001b[36mtask1\u001b[39m: \u001b[32mTask\u001b[39m = ammonite.$sess.cmd57$Helper$Task@2d0a784d\n",
       "\u001b[36mtodoList\u001b[39m: \u001b[32mToDo\u001b[39m = ammonite.$sess.cmd57$Helper$ToDo@1079ad83\n",
       "\u001b[36mfoundedTasks\u001b[39m: \u001b[32mArray\u001b[39m[\u001b[32mTask\u001b[39m] = \u001b[33mArray\u001b[39m(ammonite.$sess.cmd57$Helper$Task@2d0a784d)\n",
       "defined \u001b[32mclass\u001b[39m \u001b[36mToDo\u001b[39m\n",
       "defined \u001b[32mclass\u001b[39m \u001b[36mTask\u001b[39m\n",
       "defined \u001b[32mobject\u001b[39m \u001b[36mTaskType\u001b[39m"
      ]
     },
     "metadata": {},
     "output_type": "display_data"
    }
   ],
   "source": [
    "import java.util.Date\n",
    "import scala.concurrent.duration._\n",
    "\n",
    "  \n",
    "  var task1 = new Task\n",
    "  task1.date = new Date()\n",
    "  task1.duration = Duration(60, \"seconds\") //popoxvela\n",
    "  task1.status = false\n",
    "  task1.note = \"will be done ASAP\"\n",
    "  task1.title = \"new Task\"\n",
    "  task1.taskType = TaskType.S  //popoxvela\n",
    "\n",
    "  var todoList = new ToDo()\n",
    "  todoList.insertTask(task1)\n",
    "\n",
    "  var foundedTasks: Array[Task] = todoList.filterByType(TaskType.S)\n",
    "\n",
    "//TaskType\n",
    "  foundedTasks.foreach( it => {\n",
    "      println(\"TaskType: \" + it.taskType)\n",
    "    })\n",
    "\n",
    "//Dartaion before update\n",
    "  foundedTasks.foreach( it => {\n",
    "    println(\"Duration before update: \" + it.duration) //vonc anenq vor sax tvyalner@ tpi u xi erb grumem task1-ov inq@ chi ashxatum\n",
    "  })\n",
    "\n",
    "//update Duration\n",
    "  task1.updateDuration(Duration(20,\"hours\"))\n",
    "\n",
    "//Duration after update\n",
    "  foundedTasks.foreach( it => {\n",
    "    println(\"Duration after update: \" + it.duration)\n",
    "  })\n",
    " \n",
    "//Status before update\n",
    "  println(\"Task1 status before update is \"+task1.status)\n",
    "\n",
    "//Update Status\n",
    "  task1.updateStatus()\n",
    "//Status after update\n",
    "  println(\"Task1 status after update is \"+task1.status)\n",
    "\n",
    "//***********************************************************************\n",
    "\n",
    "class ToDo  {\n",
    "  var todoList: Array[Task] = Array()\n",
    "\n",
    "  def insertTask(task: Task): Unit = {\n",
    "    todoList = todoList :+ task\n",
    "  }\n",
    "\n",
    "  def filterByType(taskType: TaskType.Value): Array[Task] = {\n",
    "    todoList.filter(_.taskType == taskType) //popoxvela\n",
    "  }\n",
    "\n",
    " def getTasksByDate(date: Date): Array[Task] = {\n",
    "    todoList.filter(_.date == date)\n",
    "  }\n",
    "    \n",
    "}\n",
    "\n",
    "class Task {\n",
    "  var date: Date =_\n",
    "  var duration: Duration =_  //popoxvela\n",
    "  var taskType: TaskType.Value =_//popoxvela\n",
    "  var title: String =_\n",
    "  var note: String =_\n",
    "  var status: Boolean =_\n",
    "  \n",
    "  def updateStatus():Unit={\n",
    "    if (this.status==false){\n",
    "      this.status=true\n",
    "    }\n",
    "    else{\n",
    "      this.status=false\n",
    "    }\n",
    "  }\n",
    "   def updateDuration(num:Duration):Unit={\n",
    "    this.duration=num\n",
    "   }\n",
    "  //todo: need to add update functions for duration and status\n",
    "}\n",
    "\n",
    "  //todo: nice to be* (try to alter with Enumeration)\n",
    "object TaskType extends Enumeration {\n",
    "  //type myType=Value  xia toxnum et depqum chgrel es tox@?\n",
    "  val W=Value(\"Work\")\n",
    "  val S=Value(\"Study\")\n",
    "  val R=Value(\"Rest\")\n",
    "}"
   ]
  },
  {
   "cell_type": "code",
   "execution_count": null,
   "metadata": {},
   "outputs": [],
   "source": [
    "\n",
    " "
   ]
  },
  {
   "cell_type": "code",
   "execution_count": 40,
   "metadata": {},
   "outputs": [],
   "source": []
  },
  {
   "cell_type": "code",
   "execution_count": null,
   "metadata": {},
   "outputs": [],
   "source": []
  },
  {
   "cell_type": "code",
   "execution_count": null,
   "metadata": {},
   "outputs": [],
   "source": []
  }
 ],
 "metadata": {
  "kernelspec": {
   "display_name": "Scala (2.13)",
   "language": "scala",
   "name": "scala213"
  },
  "language_info": {
   "codemirror_mode": "text/x-scala",
   "file_extension": ".scala",
   "mimetype": "text/x-scala",
   "name": "scala",
   "nbconvert_exporter": "script",
   "version": "2.13.1"
  }
 },
 "nbformat": 4,
 "nbformat_minor": 2
}
