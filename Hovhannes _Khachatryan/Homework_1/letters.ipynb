{
 "cells": [
  {
   "cell_type": "code",
   "execution_count": 2,
   "metadata": {},
   "outputs": [
    {
     "data": {
      "text/plain": [
       "\u001b[32mimport \u001b[39m\u001b[36mio.StdIn._\n",
       "\u001b[39m\n",
       "defined \u001b[32mfunction\u001b[39m \u001b[36mbase\u001b[39m\n",
       "defined \u001b[32mfunction\u001b[39m \u001b[36muptoDown\u001b[39m\n",
       "defined \u001b[32mfunction\u001b[39m \u001b[36mdowntoup\u001b[39m\n",
       "defined \u001b[32mfunction\u001b[39m \u001b[36mfinalModel\u001b[39m"
      ]
     },
     "execution_count": 2,
     "metadata": {},
     "output_type": "execute_result"
    }
   ],
   "source": [
    "import io.StdIn._\n",
    "def base(from:Int,to:Int):Unit = {\n",
    "  val a = ('A' to 'Z').toList\n",
    "  print(a(from))\n",
    "  if(from != to-1){\n",
    "   base(from+1,to)\n",
    "  }\n",
    "}\n",
    "def uptoDown(n:Int):Unit = {\n",
    "if (n>0) {\n",
    "println(base(0,n))\n",
    "uptoDown(n-1)\n",
    "}\n",
    "}\n",
    "def downtoup(to:Int,to1:Int): Unit = {\n",
    "  println(base(0,to))\n",
    "  if(to1 != 1){\n",
    "    downtoup(to+1,to1-1)\n",
    "  }\n",
    "}\n",
    "def finalModel(int:Int): Unit = {\n",
    "  uptoDown(int)\n",
    "  downtoup(1,int)\n",
    "}\n",
    "\n"
   ]
  },
  {
   "cell_type": "code",
   "execution_count": null,
   "metadata": {},
   "outputs": [],
   "source": [
    "finalModel(readInt)"
   ]
  },
  {
   "cell_type": "code",
   "execution_count": null,
   "metadata": {},
   "outputs": [],
   "source": []
  }
 ],
 "metadata": {
  "kernelspec": {
   "display_name": "Scala (2.13)",
   "language": "scala",
   "name": "scala213"
  },
  "language_info": {
   "codemirror_mode": "text/x-scala",
   "file_extension": ".scala",
   "mimetype": "text/x-scala",
   "name": "scala",
   "nbconvert_exporter": "script",
   "version": "2.13.1"
  }
 },
 "nbformat": 4,
 "nbformat_minor": 2
}
