{
 "cells": [
  {
   "cell_type": "code",
   "execution_count": 1,
   "metadata": {},
   "outputs": [
    {
     "data": {
      "text/plain": [
       "\u001b[32mimport \u001b[39m\u001b[36mio.StdIn._\n",
       "\u001b[39m\n",
       "defined \u001b[32mfunction\u001b[39m \u001b[36msupermarket\u001b[39m"
      ]
     },
     "execution_count": 1,
     "metadata": {},
     "output_type": "execute_result"
    }
   ],
   "source": [
    "import io.StdIn._\n",
    "def supermarket():Unit = {\n",
    "  val basket = new Array[String](5)\n",
    "  basket(0) = readLine(\"Enter product\")\n",
    "  println(basket(0))\n",
    "  basket(1) = readLine(\"Enter product\")\n",
    "  println(basket.slice(0,2).mkString(\" \"))\n",
    "  basket(2) = readLine(\"Enter product\")\n",
    "  println(basket.slice(0,3).mkString(\" \"))\n",
    "  basket(3) = readLine(\"Enter product\")\n",
    "  println(basket.slice(0,4).mkString(\" \"))\n",
    "  basket(4) = readLine(\"Enter product\")\n",
    "  println(basket.slice(0,5).mkString(\" \"))\n",
    "  try{basket(5) = readLine(\"Enter product\")}\n",
    "  catch{case e:ArrayIndexOutOfBoundsException =>\n",
    "  println(\"Basket is full\")}\n",
    "  \n",
    "}\n"
   ]
  },
  {
   "cell_type": "code",
   "execution_count": null,
   "metadata": {},
   "outputs": [],
   "source": [
    "supermarket"
   ]
  },
  {
   "cell_type": "code",
   "execution_count": null,
   "metadata": {},
   "outputs": [],
   "source": []
  },
  {
   "cell_type": "code",
   "execution_count": null,
   "metadata": {},
   "outputs": [],
   "source": []
  }
 ],
 "metadata": {
  "kernelspec": {
   "display_name": "Scala (2.13)",
   "language": "scala",
   "name": "scala213"
  },
  "language_info": {
   "codemirror_mode": "text/x-scala",
   "file_extension": ".scala",
   "mimetype": "text/x-scala",
   "name": "scala",
   "nbconvert_exporter": "script",
   "version": "2.13.1"
  }
 },
 "nbformat": 4,
 "nbformat_minor": 2
}
