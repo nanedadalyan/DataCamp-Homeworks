{
 "cells": [
  {
   "cell_type": "code",
   "execution_count": 1,
   "metadata": {},
   "outputs": [
    {
     "data": {
      "text/plain": [
       "defined \u001b[32mfunction\u001b[39m \u001b[36mrotate\u001b[39m"
      ]
     },
     "execution_count": 1,
     "metadata": {},
     "output_type": "execute_result"
    }
   ],
   "source": [
    "def rotate(arr:Array[Int],d:Int): Unit = {\n",
    "  def byOne(arr:Array[Int]): Array[Int] = {\n",
    "    var temp = arr(0) \n",
    "    for (i <- 0 to (arr.length-2)){ \n",
    "        arr(i) = arr(i+1)} \n",
    "    arr(arr.length-1) = temp\n",
    "  return arr\n",
    "}\n",
    "\n",
    "  for (i <- 1 to d){\n",
    "    byOne(arr)\n",
    "  }\n",
    "  println(arr.mkString(\" \"))\n",
    "}"
   ]
  },
  {
   "cell_type": "code",
   "execution_count": 2,
   "metadata": {},
   "outputs": [
    {
     "name": "stdout",
     "output_type": "stream",
     "text": [
      "5 1 2 3 4\n"
     ]
    }
   ],
   "source": [
    "rotate(Array(1,2,3,4,5),4)"
   ]
  },
  {
   "cell_type": "code",
   "execution_count": null,
   "metadata": {},
   "outputs": [],
   "source": []
  }
 ],
 "metadata": {
  "kernelspec": {
   "display_name": "Scala (2.13)",
   "language": "scala",
   "name": "scala213"
  },
  "language_info": {
   "codemirror_mode": "text/x-scala",
   "file_extension": ".scala",
   "mimetype": "text/x-scala",
   "name": "scala",
   "nbconvert_exporter": "script",
   "version": "2.13.1"
  }
 },
 "nbformat": 4,
 "nbformat_minor": 2
}
