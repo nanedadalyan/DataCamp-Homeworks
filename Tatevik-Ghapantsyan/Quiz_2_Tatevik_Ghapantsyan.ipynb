{
 "cells": [
  {
   "cell_type": "code",
   "execution_count": 1,
   "metadata": {},
   "outputs": [
    {
     "data": {
      "text/plain": [
       "\u001b[32mimport \u001b[39m\u001b[36m$ivy.$                                   // Or use any other 2.x version here\n",
       "// import $ivy.`sh.almond::almond-spark:_` // Added automatically on importing Spark\n",
       "\n",
       "\u001b[39m\n",
       "\u001b[32mimport \u001b[39m\u001b[36morg.apache.spark.sql._\n",
       "\n",
       "\u001b[39m\n",
       "\u001b[32mimport \u001b[39m\u001b[36morg.apache.log4j.{Level, Logger}\n",
       "\u001b[39m\n",
       "\u001b[32mimport \u001b[39m\u001b[36morg.joda.time.format.DateTimeFormat\n",
       "\u001b[39m\n",
       "\u001b[32mimport \u001b[39m\u001b[36morg.joda.time.{DateTime, Days}\n",
       "\u001b[39m\n",
       "\u001b[32mimport \u001b[39m\u001b[36morg.joda.time.format.DateTimeFormat\n",
       "\u001b[39m\n",
       "\u001b[32mimport \u001b[39m\u001b[36mjava.util.Properties\n",
       "\u001b[39m\n",
       "\u001b[32mimport \u001b[39m\u001b[36morg.apache.spark.sql.DataFrame\n",
       "\u001b[39m\n",
       "\u001b[32mimport \u001b[39m\u001b[36morg.apache.spark.sql.{DataFrame, SQLContext}\n",
       "\u001b[39m\n",
       "\u001b[32mimport \u001b[39m\u001b[36morg.apache.spark.{SparkConf, SparkContext}\n",
       "\u001b[39m\n",
       "\u001b[32mimport \u001b[39m\u001b[36morg.joda.time.{DateTime, Days}\n",
       "\u001b[39m\n",
       "\u001b[32mimport \u001b[39m\u001b[36morg.apache.spark.sql.{DataFrame, SparkSession}\n",
       "\u001b[39m\n",
       "\u001b[32mimport \u001b[39m\u001b[36morg.apache.spark.sql.SaveMode._\n",
       "\u001b[39m\n",
       "\u001b[32mimport \u001b[39m\u001b[36morg.apache.spark.sql.expressions.Window\n",
       "\u001b[39m\n",
       "\u001b[32mimport \u001b[39m\u001b[36morg.apache.spark.SparkConf\n",
       "\u001b[39m\n",
       "\u001b[32mimport \u001b[39m\u001b[36morg.apache.spark.sql.SparkSession\n",
       "\u001b[39m\n",
       "\u001b[32mimport \u001b[39m\u001b[36morg.json4s._\n",
       "\u001b[39m\n",
       "\u001b[32mimport \u001b[39m\u001b[36morg.json4s.jackson.JsonMethods._\n",
       "\u001b[39m\n",
       "\u001b[32mimport \u001b[39m\u001b[36morg.joda.time.format.DateTimeFormat\n",
       "\u001b[39m\n",
       "\u001b[32mimport \u001b[39m\u001b[36morg.joda.time.{DateTime, Days}\n",
       "\u001b[39m\n",
       "\u001b[36mformatter\u001b[39m: \u001b[32morg\u001b[39m.\u001b[32mjoda\u001b[39m.\u001b[32mtime\u001b[39m.\u001b[32mformat\u001b[39m.\u001b[32mDateTimeFormatter\u001b[39m = org.joda.time.format.DateTimeFormatter@1598c597\n",
       "\u001b[32mimport \u001b[39m\u001b[36mscala.util.Try\n",
       "\u001b[39m\n",
       "\u001b[32mimport \u001b[39m\u001b[36mjava.sql.{Connection, DriverManager, ResultSet}\n",
       "\u001b[39m\n",
       "\u001b[32mimport \u001b[39m\u001b[36morg.apache.spark.sql.functions._\u001b[39m"
      ]
     },
     "execution_count": 1,
     "metadata": {},
     "output_type": "execute_result"
    }
   ],
   "source": [
    "import $ivy.`org.apache.spark::spark-sql:2.4.3` // Or use any other 2.x version here\n",
    "// import $ivy.`sh.almond::almond-spark:_` // Added automatically on importing Spark\n",
    "\n",
    "import org.apache.spark.sql._\n",
    "\n",
    "import org.apache.log4j.{Level, Logger}\n",
    "Logger.getLogger(\"org\").setLevel(Level.OFF)\n",
    "\n",
    "import org.joda.time.format.DateTimeFormat\n",
    "import org.joda.time.{DateTime, Days}\n",
    "import org.joda.time.format.DateTimeFormat\n",
    "import java.util.Properties\n",
    "import org.apache.spark.sql.DataFrame\n",
    "import org.apache.spark.sql.{DataFrame, SQLContext}\n",
    "import org.apache.spark.{SparkConf, SparkContext}\n",
    "import org.joda.time.{DateTime, Days}\n",
    "import org.apache.spark.sql.{DataFrame, SparkSession}\n",
    "import org.apache.spark.sql.SaveMode._\n",
    "import org.apache.spark.sql.expressions.Window\n",
    "import org.apache.spark.SparkConf\n",
    "import org.apache.spark.sql.SparkSession\n",
    "import org.json4s._\n",
    "import org.json4s.jackson.JsonMethods._\n",
    "import org.joda.time.format.DateTimeFormat\n",
    "import org.joda.time.{DateTime, Days}\n",
    "val formatter = DateTimeFormat.forPattern(\"yyyy-MM-dd\")\n",
    "import scala.util.Try\n",
    "import java.sql.{Connection, DriverManager, ResultSet}\n",
    "import org.apache.spark.sql.functions._"
   ]
  },
  {
   "cell_type": "code",
   "execution_count": 2,
   "metadata": {},
   "outputs": [
    {
     "name": "stderr",
     "output_type": "stream",
     "text": [
      "Using Spark's default log4j profile: org/apache/spark/log4j-defaults.properties\n"
     ]
    },
    {
     "data": {
      "text/plain": [
       "\u001b[36mspark\u001b[39m: \u001b[32mSparkSession\u001b[39m = org.apache.spark.sql.SparkSession@e2c5d1f"
      ]
     },
     "execution_count": 2,
     "metadata": {},
     "output_type": "execute_result"
    }
   ],
   "source": [
    "val spark = {\n",
    "  SparkSession.builder()\n",
    "    .master(\"local[*]\")\n",
    "    .getOrCreate()\n",
    "}"
   ]
  },
  {
   "cell_type": "code",
   "execution_count": 3,
   "metadata": {},
   "outputs": [
    {
     "data": {
      "text/plain": [
       "defined \u001b[32mfunction\u001b[39m \u001b[36msc\u001b[39m"
      ]
     },
     "execution_count": 3,
     "metadata": {},
     "output_type": "execute_result"
    }
   ],
   "source": [
    "def sc = spark.sparkContext"
   ]
  },
  {
   "cell_type": "code",
   "execution_count": 4,
   "metadata": {},
   "outputs": [
    {
     "data": {
      "text/html": [
       "<div class=\"jp-RenderedText\">\n",
       "<pre><code><span style=\"color: rgb(0, 187, 187)\"><span class=\"ansi-cyan-fg\">df</span></span>: <span style=\"color: rgb(0, 187, 0)\"><span class=\"ansi-green-fg\">DataFrame</span></span> = [country_code: string, device_id: string ... 12 more fields]</code></pre>\n",
       "</div>"
      ],
      "text/plain": [
       "\u001b[36mdf\u001b[39m: \u001b[32mDataFrame\u001b[39m = [country_code: string, device_id: string ... 12 more fields]"
      ]
     },
     "metadata": {},
     "output_type": "display_data"
    }
   ],
   "source": [
    "var df = spark.read.format(\"csv\").option(\"inferSchema\", \"true\").option(\"header\", \"true\").load(\"Data.csv\")"
   ]
  },
  {
   "cell_type": "code",
   "execution_count": 5,
   "metadata": {},
   "outputs": [
    {
     "name": "stdout",
     "output_type": "stream",
     "text": [
      "root\n",
      " |-- country_code: string (nullable = true)\n",
      " |-- device_id: string (nullable = true)\n",
      " |-- advertising_id: string (nullable = true)\n",
      " |-- event_type: string (nullable = true)\n",
      " |-- language_code: string (nullable = true)\n",
      " |-- platform: string (nullable = true)\n",
      " |-- session_id: string (nullable = true)\n",
      " |-- timestamp: timestamp (nullable = true)\n",
      " |-- timezone: string (nullable = true)\n",
      " |-- duration: integer (nullable = true)\n",
      " |-- app: string (nullable = true)\n",
      " |-- user_id: long (nullable = true)\n",
      " |-- v: string (nullable = true)\n",
      " |-- version: string (nullable = true)\n",
      "\n"
     ]
    }
   ],
   "source": [
    "df.printSchema"
   ]
  },
  {
   "cell_type": "code",
   "execution_count": 17,
   "metadata": {},
   "outputs": [
    {
     "data": {
      "text/plain": [
       "\u001b[36mtop10\u001b[39m: \u001b[32mDataFrame\u001b[39m = [device_id: string, timestamp: timestamp ... 1 more field]"
      ]
     },
     "execution_count": 17,
     "metadata": {},
     "output_type": "execute_result"
    }
   ],
   "source": [
    "// TASK 1 Calculate first 10 event after editor_open (hint:lag lead window functions)\n",
    "\n",
    "// sort data by id and date. lag 10 times and save those in 10 new columns and filter out nulls\n",
    "// after 10 lags, filter only the \"editor_open\" lines and implement collectList.\n",
    "// count the number of each event and take top 10 events\n",
    "\n",
    "val top10 = df.select(\"device_id\", \"timestamp\", \"event_type\").sort(\"device_id\", \"timestamp\").toDF()"
   ]
  },
  {
   "cell_type": "code",
   "execution_count": 13,
   "metadata": {},
   "outputs": [
    {
     "data": {
      "text/plain": [
       "\u001b[36mres12\u001b[39m: \u001b[32mRow\u001b[39m = [759578]"
      ]
     },
     "execution_count": 13,
     "metadata": {},
     "output_type": "execute_result"
    }
   ],
   "source": [
    "top10.agg(\n",
    "    countDistinct(\"device_id\")).take(1)(0)"
   ]
  },
  {
   "cell_type": "code",
   "execution_count": 73,
   "metadata": {},
   "outputs": [
    {
     "name": "stdout",
     "output_type": "stream",
     "text": [
      "+--------------------+-------------------+------------------+-----+\n",
      "|           device_id|          timestamp|        event_type|lag_1|\n",
      "+--------------------+-------------------+------------------+-----+\n",
      "|00212dfa-e9ae-427...|2018-02-03 16:34:05|       editor_open| null|\n",
      "|00291a51-155e-4c6...|2018-03-01 17:28:41|     shop_response| null|\n",
      "|002d335f-8607-4bb...|2018-03-02 18:04:14|     shop_response| null|\n",
      "|0037795f-9706-414...|2018-03-01 15:57:40|     shop_response| null|\n",
      "|003f1ae7-8e7b-490...|2018-02-05 07:04:40|native_ad_response| null|\n",
      "|0055d8ea-05d7-4fb...|2018-02-21 11:25:54|banner_ad_response| null|\n",
      "|00652f6e-bb76-45a...|2018-02-11 07:10:58| banner_ad_request| null|\n",
      "|008e7a4e-209f-445...|2018-02-23 16:52:22|     sticker_close| null|\n",
      "|0091B3D0-00FD-46E...|2018-02-22 15:05:43|     shop_response| null|\n",
      "|00B6DB90-F753-481...|2018-02-05 14:25:44|   tool_crop_close| null|\n",
      "+--------------------+-------------------+------------------+-----+\n",
      "only showing top 10 rows\n",
      "\n"
     ]
    },
    {
     "data": {
      "text/plain": [
       "\u001b[36mtop10_01\u001b[39m: \u001b[32mDataFrame\u001b[39m = [device_id: string, timestamp: timestamp ... 2 more fields]"
      ]
     },
     "execution_count": 73,
     "metadata": {},
     "output_type": "execute_result"
    }
   ],
   "source": [
    "top10.registerTempTable(\"table\")\n",
    "val top10_01 = spark.sql(\"select device_id, timestamp, event_type, lag(event_type, 1) over (partition by device_id order by timestamp) as lag_1 from table\")\n",
    "top10_01.show(10)\n",
    "                                                                                                                                                                        \n"
   ]
  },
  {
   "cell_type": "code",
   "execution_count": 84,
   "metadata": {},
   "outputs": [
    {
     "name": "stdout",
     "output_type": "stream",
     "text": [
      "+--------------------+-------------------+--------------------+--------------------+--------------------+\n",
      "|           device_id|          timestamp|          event_type|               lag_1|               lag_2|\n",
      "+--------------------+-------------------+--------------------+--------------------+--------------------+\n",
      "|2a9d2378-2ce6-405...|2018-02-24 21:18:22|edit_top_menu_ite...|          photo_view|          photo_view|\n",
      "|307b8a92-69cc-46f...|2018-02-20 15:12:48|        shop_request|          photo_view|          photo_view|\n",
      "|320abc0a-a0c3-4ce...|2018-02-24 15:36:33|  editor_ad_response|      edit_item_open|picsart_share_pag...|\n",
      "|675b51bd-8417-4e3...|2018-02-18 02:17:40|     tool_crop_close|photo_chooser_mul...|   tags_widget_shown|\n",
      "|8488b92f-c48a-4ac...|2018-02-07 12:56:49|           card_view|           card_view|   native_ad_request|\n",
      "|875f23e3-8cfc-445...|2018-02-26 16:11:47|  banner_ad_response|        sticker_view|           card_view|\n",
      "|875f23e3-8cfc-445...|2018-03-02 14:03:28|rewarded_video_ad...|  banner_ad_response|        sticker_view|\n",
      "|andy-7d717c96-ac0...|2018-02-22 22:12:48|sticker_carousel_...|          photo_view|          photo_view|\n",
      "|1862e4ff-d651-4d4...|2018-02-25 04:07:06|          photo_view|notification_item...|        sticker_view|\n",
      "|3f46b1ce-b579-414...|2018-02-19 01:35:52|quick_brush_page_...|interstitial_ad_r...|  banner_ad_response|\n",
      "+--------------------+-------------------+--------------------+--------------------+--------------------+\n",
      "only showing top 10 rows\n",
      "\n"
     ]
    },
    {
     "data": {
      "text/plain": [
       "\u001b[36mtop10_02\u001b[39m: \u001b[32mDataset\u001b[39m[\u001b[32mRow\u001b[39m] = [device_id: string, timestamp: timestamp ... 3 more fields]"
      ]
     },
     "execution_count": 84,
     "metadata": {},
     "output_type": "execute_result"
    }
   ],
   "source": [
    "top10_01.registerTempTable(\"table1\")\n",
    "val top10_02 = (spark.sql(\"select device_id, timestamp, event_type, lag_1, lag(lag_1, 1) over (partition by device_id order by timestamp) as lag_2 from table1\")).filter(col(\"lag_2\").isNotNull)\n",
    "top10_02.show(10)\n",
    "\n",
    "\n"
   ]
  },
  {
   "cell_type": "code",
   "execution_count": 86,
   "metadata": {},
   "outputs": [
    {
     "name": "stdout",
     "output_type": "stream",
     "text": [
      "+--------------------+-------------------+--------------------+--------------------+--------------------+------------------+\n",
      "|           device_id|          timestamp|          event_type|               lag_1|               lag_2|             lag_3|\n",
      "+--------------------+-------------------+--------------------+--------------------+--------------------+------------------+\n",
      "|875f23e3-8cfc-445...|2018-03-02 14:03:28|rewarded_video_ad...|  banner_ad_response|        sticker_view|         card_view|\n",
      "|3f46b1ce-b579-414...|2018-02-19 03:11:55|        shop_request|quick_brush_page_...|interstitial_ad_r...|banner_ad_response|\n",
      "|c7f44f92-e581-47c...|2018-02-25 15:54:36|  banner_ad_response|          photo_view|         photo_swipe|       photo_close|\n",
      "|1a428e36-0a2a-4ac...|2018-02-28 11:33:12|   native_ad_request|          photo_view|           card_view|        photo_open|\n",
      "|b7b7488a-f32a-49b...|2018-02-19 11:20:55|   editor_done_click|  smash_widget_shown|        photo_upload|banner_ad_response|\n",
      "|cfdb79d4-0e86-44f...|2018-02-10 05:14:16|  banner_ad_response|  banner_ad_response|  banner_ad_response|banner_ad_response|\n",
      "|cfdb79d4-0e86-44f...|2018-02-10 05:22:36|  banner_ad_response|  banner_ad_response|  banner_ad_response|banner_ad_response|\n",
      "|cfdb79d4-0e86-44f...|2018-02-10 05:34:18|  banner_ad_response|  banner_ad_response|  banner_ad_response|banner_ad_response|\n",
      "|cfdb79d4-0e86-44f...|2018-02-10 05:34:18|  banner_ad_response|  banner_ad_response|  banner_ad_response|banner_ad_response|\n",
      "|cfdb79d4-0e86-44f...|2018-02-10 05:46:49|  banner_ad_response|  banner_ad_response|  banner_ad_response|banner_ad_response|\n",
      "+--------------------+-------------------+--------------------+--------------------+--------------------+------------------+\n",
      "only showing top 10 rows\n",
      "\n"
     ]
    },
    {
     "data": {
      "text/plain": [
       "\u001b[36mtop10_03\u001b[39m: \u001b[32mDataset\u001b[39m[\u001b[32mRow\u001b[39m] = [device_id: string, timestamp: timestamp ... 4 more fields]"
      ]
     },
     "execution_count": 86,
     "metadata": {},
     "output_type": "execute_result"
    }
   ],
   "source": [
    "top10_02.registerTempTable(\"table2\")\n",
    "val top10_03 = (spark.sql(\"select device_id, timestamp, event_type, lag_1, lag_2, lag(lag_2, 1) over (partition by device_id order by timestamp) as lag_3 from table2\")).filter(col(\"lag_3\").isNotNull)\n",
    "top10_03.show(10)"
   ]
  },
  {
   "cell_type": "code",
   "execution_count": null,
   "metadata": {},
   "outputs": [],
   "source": []
  },
  {
   "cell_type": "code",
   "execution_count": null,
   "metadata": {},
   "outputs": [],
   "source": []
  },
  {
   "cell_type": "code",
   "execution_count": null,
   "metadata": {},
   "outputs": [],
   "source": []
  },
  {
   "cell_type": "code",
   "execution_count": null,
   "metadata": {},
   "outputs": [],
   "source": []
  },
  {
   "cell_type": "code",
   "execution_count": null,
   "metadata": {},
   "outputs": [],
   "source": []
  },
  {
   "cell_type": "code",
   "execution_count": null,
   "metadata": {},
   "outputs": [],
   "source": []
  },
  {
   "cell_type": "code",
   "execution_count": null,
   "metadata": {},
   "outputs": [],
   "source": []
  },
  {
   "cell_type": "code",
   "execution_count": null,
   "metadata": {},
   "outputs": [],
   "source": []
  }
 ],
 "metadata": {
  "kernelspec": {
   "display_name": "Scala 2.12",
   "language": "scala",
   "name": "scala212"
  },
  "language_info": {
   "codemirror_mode": "text/x-scala",
   "file_extension": ".scala",
   "mimetype": "text/x-scala",
   "name": "scala",
   "nbconvert_exporter": "script",
   "version": "2.12.10"
  }
 },
 "nbformat": 4,
 "nbformat_minor": 2
}
