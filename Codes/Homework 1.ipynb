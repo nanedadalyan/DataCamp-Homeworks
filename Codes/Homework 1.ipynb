{
 "cells": [
  {
   "cell_type": "markdown",
   "metadata": {},
   "source": [
    "## Task 1\n",
    "\n",
    "Create supermarket basket like function which creates fixed size array and  appends customer products  to this basket printing products. Basket becomes full if products in the basket are  more than  5. If basket is full throw exception by printing “Basket is  full”.\n"
   ]
  },
  {
   "cell_type": "code",
   "execution_count": 47,
   "metadata": {
    "ExecuteTime": {
     "end_time": "2019-11-21T14:07:06.912683Z",
     "start_time": "2019-11-21T14:06:54.598Z"
    }
   },
   "outputs": [
    {
     "name": "stdout",
     "output_type": "stream",
     "text": [
      "Enter product name \n",
      "hhe\n",
      "End?eee\n",
      "Enter product name \n",
      "eeee\n",
      "End?\n",
      "Enter product name \n",
      "eeeee\n",
      "End?\n",
      "Enter product name \n",
      "eeeee\n",
      "End?eeeeee\n",
      "Enter product name \n",
      "eeeeeee\n",
      "End?eeeeeeee\n",
      "Enter product name \n",
      "eeeeeeeee\n",
      "Sorry your basket size is less than 5\n",
      "hhe,eeee,eeeee,eeeee,eeeeeee\n"
     ]
    },
    {
     "data": {
      "text/plain": [
       "\u001b[32mimport \u001b[39m\u001b[36mscala.io.StdIn.readLine\n",
       "\n",
       "\u001b[39m\n",
       "defined \u001b[32mfunction\u001b[39m \u001b[36mbasket\u001b[39m\n",
       "\u001b[36mres46_2\u001b[39m: \u001b[32mArray\u001b[39m[\u001b[32mString\u001b[39m] = \u001b[33mArray\u001b[39m(\u001b[32m\"hhe\"\u001b[39m, \u001b[32m\"eeee\"\u001b[39m, \u001b[32m\"eeeee\"\u001b[39m, \u001b[32m\"eeeee\"\u001b[39m, \u001b[32m\"eeeeeee\"\u001b[39m)"
      ]
     },
     "execution_count": 47,
     "metadata": {},
     "output_type": "execute_result"
    }
   ],
   "source": [
    "import scala.io.StdIn.readLine\n",
    "\n",
    "def basket():Array[String]={\n",
    "  var basket:Array[String] = new Array[String](5)\n",
    "  var end = \"no\"\n",
    "  var item = 0\n",
    " try{ \n",
    "     while(end!=\"yes\"){\n",
    "      println(\"Enter product name \")  \n",
    "      basket(item) = readLine()\n",
    "      end = readLine(\"End?\")     \n",
    "      item+=1\n",
    "  }\n",
    "     }\n",
    "      catch{\n",
    "          case _:Throwable=>  println(\"Sorry your basket size is less than 5\")}\n",
    "      finally{\n",
    "          println(basket.slice(0,6).mkString(\",\"))\n",
    "      }\n",
    "   return basket   \n",
    "}    \n",
    "\n",
    "basket()"
   ]
  },
  {
   "cell_type": "markdown",
   "metadata": {},
   "source": [
    "## Task 2\n",
    "\n",
    "Create function for converting strings to int. Catch exception if confersion can not be done, otherwise return the converted value.\n"
   ]
  },
  {
   "cell_type": "code",
   "execution_count": 51,
   "metadata": {
    "ExecuteTime": {
     "end_time": "2019-11-21T14:39:05.747764Z",
     "start_time": "2019-11-21T14:39:05.414Z"
    }
   },
   "outputs": [
    {
     "name": "stdout",
     "output_type": "stream",
     "text": [
      "1\n"
     ]
    },
    {
     "data": {
      "text/plain": [
       "\u001b[32mimport \u001b[39m\u001b[36mscala.io.StdIn._\n",
       "\u001b[39m\n",
       "defined \u001b[32mfunction\u001b[39m \u001b[36mstrToInt\u001b[39m"
      ]
     },
     "execution_count": 51,
     "metadata": {},
     "output_type": "execute_result"
    }
   ],
   "source": [
    "import scala.io.StdIn._\n",
    "def strToInt(inp:String): Unit ={\n",
    "  var input = inp\n",
    "  try{\n",
    "    var num = input.toInt\n",
    "    println(num)\n",
    "  }\n",
    "  catch{\n",
    "    case _: Throwable => println(\"ERROR!!! Conversion from character to integer is impossible!\")\n",
    "  }\n",
    "}\n",
    "strToInt(\"1\")"
   ]
  },
  {
   "cell_type": "code",
   "execution_count": 29,
   "metadata": {
    "ExecuteTime": {
     "end_time": "2019-11-22T13:27:50.379384Z",
     "start_time": "2019-11-22T13:27:50.225Z"
    }
   },
   "outputs": [
    {
     "data": {
      "text/html": [
       "<div class=\"jp-RenderedText\">\n",
       "<pre><code><span style=\"color: rgb(0, 187, 187)\"><span class=\"ansi-cyan-fg\">a</span></span>: <span style=\"color: rgb(0, 187, 0)\"><span class=\"ansi-green-fg\">Array</span></span>[<span style=\"color: rgb(0, 187, 0)\"><span class=\"ansi-green-fg\">String</span></span>] = <span style=\"color: yellow\"><span class=\"ansi-yellow-fg\">Array</span></span>(<span style=\"color: rgb(0, 187, 0)\"><span class=\"ansi-green-fg\">&quot;Aa&quot;</span></span>, <span style=\"color: rgb(0, 187, 0)\"><span class=\"ansi-green-fg\">&quot;bb&quot;</span></span>, <span style=\"color: rgb(0, 187, 0)\"><span class=\"ansi-green-fg\">&quot;cccc&quot;</span></span>, <span style=\"color: rgb(0, 187, 0)\"><span class=\"ansi-green-fg\">&quot;ddd&quot;</span></span>)</code></pre>\n",
       "</div>"
      ],
      "text/plain": [
       "\u001b[36ma\u001b[39m: \u001b[32mArray\u001b[39m[\u001b[32mString\u001b[39m] = \u001b[33mArray\u001b[39m(\u001b[32m\"Aa\"\u001b[39m, \u001b[32m\"bb\"\u001b[39m, \u001b[32m\"cccc\"\u001b[39m, \u001b[32m\"ddd\"\u001b[39m)"
      ]
     },
     "metadata": {},
     "output_type": "display_data"
    }
   ],
   "source": [
    "var a = Array(\"Aa\",\"bb\",\"cccc\",\"ddd\")"
   ]
  },
  {
   "cell_type": "markdown",
   "metadata": {},
   "source": [
    "## Task 3 \n",
    "\n",
    "Write a recursive function that generates the following pattern of letters. \n",
    "\n",
    "Make sure that the user enters an integer between 1 and 26. \n",
    "\n",
    "If the non-negative integer is 6, then the pattern generated is:\n",
    "\n",
    "ABCDEF\n",
    "\n",
    "ABCDE\n",
    "\n",
    "ABCD\n",
    "\n",
    "ABC\n",
    "\n",
    "AB\n",
    "\n",
    "A\n",
    "\n",
    "A\n",
    "\n",
    "AB\n",
    "\n",
    "ABC\n",
    "\n",
    "ABCD\n",
    "\n",
    "ABCDE\n",
    "\n",
    "ABCDEF\n"
   ]
  },
  {
   "cell_type": "code",
   "execution_count": 1,
   "metadata": {
    "ExecuteTime": {
     "end_time": "2019-11-21T14:49:41.336423Z",
     "start_time": "2019-11-21T14:49:37.697Z"
    }
   },
   "outputs": [
    {
     "name": "stdout",
     "output_type": "stream",
     "text": [
      "ABCDEFGHIJK\n",
      "ABCDEFGHIJ\n",
      "ABCDEFGHI\n",
      "ABCDEFGH\n",
      "ABCDEFG\n",
      "ABCDEF\n",
      "ABCDE\n",
      "ABCD\n",
      "ABC\n",
      "AB\n",
      "A\n",
      "A\n",
      "AB\n",
      "ABC\n",
      "ABCD\n",
      "ABCDE\n",
      "ABCDEF\n",
      "ABCDEFG\n",
      "ABCDEFGH\n",
      "ABCDEFGHI\n",
      "ABCDEFGHIJ\n",
      "ABCDEFGHIJK\n"
     ]
    },
    {
     "data": {
      "text/plain": [
       "defined \u001b[32mfunction\u001b[39m \u001b[36mprintPattern\u001b[39m"
      ]
     },
     "execution_count": 1,
     "metadata": {},
     "output_type": "execute_result"
    }
   ],
   "source": [
    "def printPattern(number: Int): Unit={\n",
    "  if (number>=0 && number<27){\n",
    "    for (i <- 0 to number){\n",
    "      print((65+i).toChar)\n",
    "    }\n",
    "    println()\n",
    "    printPattern(number-1)\n",
    "    for (i <- 0 to number){\n",
    "        print((65+i).toChar)\n",
    "    }\n",
    "    println()\n",
    "  }\n",
    "}\n",
    "printPattern(10)"
   ]
  },
  {
   "cell_type": "markdown",
   "metadata": {},
   "source": [
    "## Task 3 \n",
    "\n",
    "Make a List[Char] that contains ’a’-’z’ without typing in all the characters. (Use toChar to make this work.)\n"
   ]
  },
  {
   "cell_type": "code",
   "execution_count": 30,
   "metadata": {
    "ExecuteTime": {
     "end_time": "2019-11-22T13:33:32.751306Z",
     "start_time": "2019-11-22T13:33:32.554Z"
    }
   },
   "outputs": [
    {
     "data": {
      "text/plain": [
       "\u001b[36mres29_0\u001b[39m: \u001b[32mList\u001b[39m[\u001b[32mChar\u001b[39m] = \u001b[33mList\u001b[39m(\n",
       "  \u001b[32m'a'\u001b[39m,\n",
       "  \u001b[32m'b'\u001b[39m,\n",
       "  \u001b[32m'c'\u001b[39m,\n",
       "  \u001b[32m'd'\u001b[39m,\n",
       "  \u001b[32m'e'\u001b[39m,\n",
       "  \u001b[32m'f'\u001b[39m,\n",
       "  \u001b[32m'g'\u001b[39m,\n",
       "  \u001b[32m'h'\u001b[39m,\n",
       "  \u001b[32m'i'\u001b[39m,\n",
       "  \u001b[32m'j'\u001b[39m,\n",
       "  \u001b[32m'k'\u001b[39m,\n",
       "  \u001b[32m'l'\u001b[39m,\n",
       "  \u001b[32m'm'\u001b[39m,\n",
       "  \u001b[32m'n'\u001b[39m,\n",
       "  \u001b[32m'o'\u001b[39m,\n",
       "  \u001b[32m'p'\u001b[39m,\n",
       "  \u001b[32m'q'\u001b[39m,\n",
       "  \u001b[32m'r'\u001b[39m,\n",
       "  \u001b[32m's'\u001b[39m,\n",
       "  \u001b[32m't'\u001b[39m,\n",
       "  \u001b[32m'u'\u001b[39m,\n",
       "  \u001b[32m'v'\u001b[39m,\n",
       "  \u001b[32m'w'\u001b[39m,\n",
       "  \u001b[32m'x'\u001b[39m,\n",
       "  \u001b[32m'y'\u001b[39m,\n",
       "  \u001b[32m'z'\u001b[39m\n",
       ")\n",
       "\u001b[36mres29_1\u001b[39m: \u001b[32mList\u001b[39m[\u001b[32mChar\u001b[39m] = \u001b[33mList\u001b[39m(\n",
       "  \u001b[32m'a'\u001b[39m,\n",
       "  \u001b[32m'b'\u001b[39m,\n",
       "  \u001b[32m'c'\u001b[39m,\n",
       "  \u001b[32m'd'\u001b[39m,\n",
       "  \u001b[32m'e'\u001b[39m,\n",
       "  \u001b[32m'f'\u001b[39m,\n",
       "  \u001b[32m'g'\u001b[39m,\n",
       "  \u001b[32m'h'\u001b[39m,\n",
       "  \u001b[32m'i'\u001b[39m,\n",
       "  \u001b[32m'j'\u001b[39m,\n",
       "  \u001b[32m'k'\u001b[39m,\n",
       "  \u001b[32m'l'\u001b[39m,\n",
       "  \u001b[32m'm'\u001b[39m,\n",
       "  \u001b[32m'n'\u001b[39m,\n",
       "  \u001b[32m'o'\u001b[39m,\n",
       "  \u001b[32m'p'\u001b[39m,\n",
       "  \u001b[32m'q'\u001b[39m,\n",
       "  \u001b[32m'r'\u001b[39m,\n",
       "  \u001b[32m's'\u001b[39m,\n",
       "  \u001b[32m't'\u001b[39m,\n",
       "  \u001b[32m'u'\u001b[39m,\n",
       "  \u001b[32m'v'\u001b[39m,\n",
       "  \u001b[32m'w'\u001b[39m,\n",
       "  \u001b[32m'x'\u001b[39m,\n",
       "  \u001b[32m'y'\u001b[39m,\n",
       "  \u001b[32m'z'\u001b[39m\n",
       ")"
      ]
     },
     "execution_count": 30,
     "metadata": {},
     "output_type": "execute_result"
    }
   ],
   "source": [
    "(97 to 122).map(c => c.toChar).toList\n",
    "\n",
    "\n",
    "('a' to 'z').toList"
   ]
  },
  {
   "cell_type": "markdown",
   "metadata": {},
   "source": [
    "## Write a function that takes a number of values and returns the average  excluding the largest and smallest values.\n"
   ]
  },
  {
   "cell_type": "code",
   "execution_count": 32,
   "metadata": {
    "ExecuteTime": {
     "end_time": "2019-11-22T13:38:08.564018Z",
     "start_time": "2019-11-22T13:38:08.420Z"
    }
   },
   "outputs": [
    {
     "name": "stdout",
     "output_type": "stream",
     "text": [
      "5.6\n"
     ]
    },
    {
     "data": {
      "text/html": [
       "<div class=\"jp-RenderedText\">\n",
       "<pre><code>defined <span style=\"color: rgb(0, 187, 0)\"><span class=\"ansi-green-fg\">function</span></span> <span style=\"color: rgb(0, 187, 187)\"><span class=\"ansi-cyan-fg\">avgClean</span></span>\n",
       "<span style=\"color: rgb(0, 187, 187)\"><span class=\"ansi-cyan-fg\">arr</span></span>: <span style=\"color: rgb(0, 187, 0)\"><span class=\"ansi-green-fg\">Array</span></span>[<span style=\"color: rgb(0, 187, 0)\"><span class=\"ansi-green-fg\">Int</span></span>] = <span style=\"color: yellow\"><span class=\"ansi-yellow-fg\">Array</span></span>(<span style=\"color: rgb(0, 187, 0)\"><span class=\"ansi-green-fg\">2</span></span>, <span style=\"color: rgb(0, 187, 0)\"><span class=\"ansi-green-fg\">2</span></span>, <span style=\"color: rgb(0, 187, 0)\"><span class=\"ansi-green-fg\">3</span></span>, <span style=\"color: rgb(0, 187, 0)\"><span class=\"ansi-green-fg\">4</span></span>, <span style=\"color: rgb(0, 187, 0)\"><span class=\"ansi-green-fg\">5</span></span>, <span style=\"color: rgb(0, 187, 0)\"><span class=\"ansi-green-fg\">6</span></span>, <span style=\"color: rgb(0, 187, 0)\"><span class=\"ansi-green-fg\">7</span></span>, <span style=\"color: rgb(0, 187, 0)\"><span class=\"ansi-green-fg\">8</span></span>, <span style=\"color: rgb(0, 187, 0)\"><span class=\"ansi-green-fg\">9</span></span>, <span style=\"color: rgb(0, 187, 0)\"><span class=\"ansi-green-fg\">10</span></span>, <span style=\"color: rgb(0, 187, 0)\"><span class=\"ansi-green-fg\">100</span></span>, <span style=\"color: rgb(0, 187, 0)\"><span class=\"ansi-green-fg\">100</span></span>, <span style=\"color: rgb(0, 187, 0)\"><span class=\"ansi-green-fg\">-999</span></span>, <span style=\"color: rgb(0, 187, 0)\"><span class=\"ansi-green-fg\">-999</span></span>)</code></pre>\n",
       "</div>"
      ],
      "text/plain": [
       "defined \u001b[32mfunction\u001b[39m \u001b[36mavgClean\u001b[39m\n",
       "\u001b[36marr\u001b[39m: \u001b[32mArray\u001b[39m[\u001b[32mInt\u001b[39m] = \u001b[33mArray\u001b[39m(\u001b[32m2\u001b[39m, \u001b[32m2\u001b[39m, \u001b[32m3\u001b[39m, \u001b[32m4\u001b[39m, \u001b[32m5\u001b[39m, \u001b[32m6\u001b[39m, \u001b[32m7\u001b[39m, \u001b[32m8\u001b[39m, \u001b[32m9\u001b[39m, \u001b[32m10\u001b[39m, \u001b[32m100\u001b[39m, \u001b[32m100\u001b[39m, \u001b[32m-999\u001b[39m, \u001b[32m-999\u001b[39m)"
      ]
     },
     "metadata": {},
     "output_type": "display_data"
    }
   ],
   "source": [
    "def avgClean(arr:Array[Int]):Double={\n",
    "  var min = arr(0)\n",
    "  var max = arr(0)\n",
    "  var sum = 0\n",
    "  var len = arr.length.toDouble\n",
    "  arr.foreach{\n",
    "      item => \n",
    "    if(item<min)\n",
    "      min = item\n",
    "    if(item>max)\n",
    "      max = item\n",
    "    sum += item\n",
    "  }\n",
    "  var min_count = arr.length - arr.filter(_!=min).length\n",
    "  var max_count = arr.length - arr.filter(_!=max).length  \n",
    "  return (sum - min_count*min - max_count*max)/(len-min_count-max_count)\n",
    "}\n",
    "var arr:Array[Int] = Array(2, 2, 3, 4, 5, 6, 7, 8, 9, 10, 100, 100, -999,-999)\n",
    "println(avgClean(arr))"
   ]
  },
  {
   "cell_type": "markdown",
   "metadata": {},
   "source": [
    "## Task 6\n",
    "A left rotation operation on an array of size  shifts each of the array's elements  unit to the left. For example, if  left rotations are performed on array , then the array would become .\n",
    "\n",
    "Given an array of  integers and a number, , perform  left rotations on the array. Then print the updated array as a single line of space-separated integers."
   ]
  },
  {
   "cell_type": "code",
   "execution_count": 33,
   "metadata": {
    "ExecuteTime": {
     "end_time": "2019-11-22T13:41:42.683337Z",
     "start_time": "2019-11-22T13:41:42.546Z"
    }
   },
   "outputs": [
    {
     "data": {
      "text/plain": [
       "defined \u001b[32mfunction\u001b[39m \u001b[36mleftRotation\u001b[39m\n",
       "\u001b[36mres32_1\u001b[39m: \u001b[32mArray\u001b[39m[\u001b[32mInt\u001b[39m] = \u001b[33mArray\u001b[39m(\u001b[32m4\u001b[39m, \u001b[32m5\u001b[39m, \u001b[32m1\u001b[39m, \u001b[32m2\u001b[39m, \u001b[32m3\u001b[39m)"
      ]
     },
     "execution_count": 33,
     "metadata": {},
     "output_type": "execute_result"
    }
   ],
   "source": [
    "def leftRotation(nums:Array[Int], rotations:Int):Array[Int]={\n",
    "    var arr1 = nums.slice(0,rotations)\n",
    "    var arr2 = nums.slice(rotations, nums.length)\n",
    "    \n",
    "    return arr2 ++ arr1\n",
    "}\n",
    "leftRotation(Array(1,2,3,4,5), 3)"
   ]
  }
 ],
 "metadata": {
  "kernelspec": {
   "display_name": "Scala",
   "language": "scala",
   "name": "scala"
  },
  "language_info": {
   "codemirror_mode": "text/x-scala",
   "file_extension": ".scala",
   "mimetype": "text/x-scala",
   "name": "scala",
   "nbconvert_exporter": "script",
   "version": "2.12.9"
  }
 },
 "nbformat": 4,
 "nbformat_minor": 2
}
