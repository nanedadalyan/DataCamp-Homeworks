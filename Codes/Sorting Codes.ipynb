{
 "cells": [
  {
   "cell_type": "markdown",
   "metadata": {},
   "source": [
    "# Sorting"
   ]
  },
  {
   "cell_type": "markdown",
   "metadata": {},
   "source": [
    "## Bubble Sort "
   ]
  },
  {
   "cell_type": "markdown",
   "metadata": {},
   "source": [
    "#### Non Optimized"
   ]
  },
  {
   "cell_type": "code",
   "execution_count": 24,
   "metadata": {
    "ExecuteTime": {
     "end_time": "2019-11-19T11:30:37.532722Z",
     "start_time": "2019-11-19T11:30:37.331Z"
    }
   },
   "outputs": [
    {
     "data": {
      "text/plain": [
       "defined \u001b[32mfunction\u001b[39m \u001b[36mbubbleSortNonO\u001b[39m"
      ]
     },
     "execution_count": 24,
     "metadata": {},
     "output_type": "execute_result"
    }
   ],
   "source": [
    "def bubbleSortNonO(arr:Array[Int]):Unit={\n",
    "    var len = arr.length\n",
    "    var temp = 0\n",
    "    var counter = 0\n",
    "    for(i <- 0 to len-2){\n",
    "        println(\" i is (main pointer): \"+i)\n",
    "        println(\" arr is : \"+arr.mkString(\",\"))\n",
    "        counter = counter+1\n",
    "        for(j <- 0 to len - i - 2){\n",
    "            counter = counter+1\n",
    "            println(\" j is (inside pointer): \"+j)\n",
    "            if(arr(j)>arr(j+1)){\n",
    "                temp = arr(j)\n",
    "                arr(j) = arr(j+1)\n",
    "                arr(j+1) = temp\n",
    "        }\n",
    "}\n",
    "}    \n",
    "    println(\" \")\n",
    "    println(\"Total Iterations: \" + counter)\n",
    "}\n"
   ]
  },
  {
   "cell_type": "code",
   "execution_count": 26,
   "metadata": {
    "ExecuteTime": {
     "end_time": "2019-11-19T11:30:47.456661Z",
     "start_time": "2019-11-19T11:30:47.162Z"
    }
   },
   "outputs": [
    {
     "name": "stdout",
     "output_type": "stream",
     "text": [
      " i is (main pointer): 0\n",
      " arr is : 7,6,8,32,1,0\n",
      " j is (inside pointer): 0\n",
      " j is (inside pointer): 1\n",
      " j is (inside pointer): 2\n",
      " j is (inside pointer): 3\n",
      " j is (inside pointer): 4\n",
      " i is (main pointer): 1\n",
      " arr is : 6,7,8,1,0,32\n",
      " j is (inside pointer): 0\n",
      " j is (inside pointer): 1\n",
      " j is (inside pointer): 2\n",
      " j is (inside pointer): 3\n",
      " i is (main pointer): 2\n",
      " arr is : 6,7,1,0,8,32\n",
      " j is (inside pointer): 0\n",
      " j is (inside pointer): 1\n",
      " j is (inside pointer): 2\n",
      " i is (main pointer): 3\n",
      " arr is : 6,1,0,7,8,32\n",
      " j is (inside pointer): 0\n",
      " j is (inside pointer): 1\n",
      " i is (main pointer): 4\n",
      " arr is : 1,0,6,7,8,32\n",
      " j is (inside pointer): 0\n",
      " \n",
      "Total Iterations: 20\n"
     ]
    },
    {
     "data": {
      "text/html": [
       "<div class=\"jp-RenderedText\">\n",
       "<pre><code><span style=\"color: rgb(0, 187, 187)\"><span class=\"ansi-cyan-fg\">arr</span></span>: <span style=\"color: rgb(0, 187, 0)\"><span class=\"ansi-green-fg\">Array</span></span>[<span style=\"color: rgb(0, 187, 0)\"><span class=\"ansi-green-fg\">Int</span></span>] = <span style=\"color: yellow\"><span class=\"ansi-yellow-fg\">Array</span></span>(<span style=\"color: rgb(0, 187, 0)\"><span class=\"ansi-green-fg\">0</span></span>, <span style=\"color: rgb(0, 187, 0)\"><span class=\"ansi-green-fg\">1</span></span>, <span style=\"color: rgb(0, 187, 0)\"><span class=\"ansi-green-fg\">6</span></span>, <span style=\"color: rgb(0, 187, 0)\"><span class=\"ansi-green-fg\">7</span></span>, <span style=\"color: rgb(0, 187, 0)\"><span class=\"ansi-green-fg\">8</span></span>, <span style=\"color: rgb(0, 187, 0)\"><span class=\"ansi-green-fg\">32</span></span>)\n",
       "<span style=\"color: rgb(0, 187, 187)\"><span class=\"ansi-cyan-fg\">res25_2</span></span>: <span style=\"color: rgb(0, 187, 0)\"><span class=\"ansi-green-fg\">String</span></span> = <span style=\"color: rgb(0, 187, 0)\"><span class=\"ansi-green-fg\">&quot;0,1,6,7,8,32&quot;</span></span></code></pre>\n",
       "</div>"
      ],
      "text/plain": [
       "\u001b[36marr\u001b[39m: \u001b[32mArray\u001b[39m[\u001b[32mInt\u001b[39m] = \u001b[33mArray\u001b[39m(\u001b[32m0\u001b[39m, \u001b[32m1\u001b[39m, \u001b[32m6\u001b[39m, \u001b[32m7\u001b[39m, \u001b[32m8\u001b[39m, \u001b[32m32\u001b[39m)\n",
       "\u001b[36mres25_2\u001b[39m: \u001b[32mString\u001b[39m = \u001b[32m\"0,1,6,7,8,32\"\u001b[39m"
      ]
     },
     "metadata": {},
     "output_type": "display_data"
    }
   ],
   "source": [
    "var arr = Array(7,6,8,32,1,0)\n",
    "bubbleSortNonO(arr)\n",
    "arr.mkString(\",\")"
   ]
  },
  {
   "cell_type": "markdown",
   "metadata": {},
   "source": [
    "#### Optimized"
   ]
  },
  {
   "cell_type": "code",
   "execution_count": 3,
   "metadata": {
    "ExecuteTime": {
     "end_time": "2019-11-18T13:47:21.371565Z",
     "start_time": "2019-11-18T13:47:21.020Z"
    }
   },
   "outputs": [
    {
     "data": {
      "text/plain": [
       "\u001b[32mimport \u001b[39m\u001b[36mscala.util.control.Breaks._\n",
       "\u001b[39m\n",
       "defined \u001b[32mfunction\u001b[39m \u001b[36mbubbleSortO\u001b[39m"
      ]
     },
     "execution_count": 3,
     "metadata": {},
     "output_type": "execute_result"
    }
   ],
   "source": [
    "import scala.util.control.Breaks._\n",
    "def bubbleSortO(arr:Array[Int]):Unit={\n",
    "    var len = arr.length\n",
    "    var temp = 0\n",
    "    var swapBool = false\n",
    "    var counter = 0\n",
    "    breakable {\n",
    "        for(i <- 0 to len-2){\n",
    "        println(\" i is (main pointer): \"+i)\n",
    "        counter = counter + 1        \n",
    "        println(\" arr is : \"+arr.mkString(\",\"))\n",
    "        for(j <- 0 to len - i - 2){\n",
    "            counter = counter + 1    \n",
    "            println(\" j is (inside pointer): \"+j)\n",
    "            if(arr(j)>arr(j+1)){\n",
    "                temp = arr(j)\n",
    "                arr(j) = arr(j+1)\n",
    "                arr(j+1) = temp\n",
    "                swapBool = true\n",
    "        }\n",
    "}\n",
    "            if(swapBool == false){\n",
    "                break\n",
    "            }\n",
    "}\n",
    "}\n",
    "    println(\" \")\n",
    "    println(\"Total Iterations: \" + counter)\n",
    "}\n"
   ]
  },
  {
   "cell_type": "code",
   "execution_count": 7,
   "metadata": {
    "ExecuteTime": {
     "end_time": "2019-11-18T13:47:55.403071Z",
     "start_time": "2019-11-18T13:47:55.183Z"
    }
   },
   "outputs": [
    {
     "name": "stdout",
     "output_type": "stream",
     "text": [
      " i is (main pointer): 0\n",
      " arr is : 1,2,3,4,5,6\n",
      " j is (inside pointer): 0\n",
      " j is (inside pointer): 1\n",
      " j is (inside pointer): 2\n",
      " j is (inside pointer): 3\n",
      " j is (inside pointer): 4\n",
      " \n",
      "Total Iterations: 6\n"
     ]
    },
    {
     "data": {
      "text/html": [
       "<div class=\"jp-RenderedText\">\n",
       "<pre><code><span style=\"color: rgb(0, 187, 187)\"><span class=\"ansi-cyan-fg\">arr</span></span>: <span style=\"color: rgb(0, 187, 0)\"><span class=\"ansi-green-fg\">Array</span></span>[<span style=\"color: rgb(0, 187, 0)\"><span class=\"ansi-green-fg\">Int</span></span>] = <span style=\"color: yellow\"><span class=\"ansi-yellow-fg\">Array</span></span>(<span style=\"color: rgb(0, 187, 0)\"><span class=\"ansi-green-fg\">1</span></span>, <span style=\"color: rgb(0, 187, 0)\"><span class=\"ansi-green-fg\">2</span></span>, <span style=\"color: rgb(0, 187, 0)\"><span class=\"ansi-green-fg\">3</span></span>, <span style=\"color: rgb(0, 187, 0)\"><span class=\"ansi-green-fg\">4</span></span>, <span style=\"color: rgb(0, 187, 0)\"><span class=\"ansi-green-fg\">5</span></span>, <span style=\"color: rgb(0, 187, 0)\"><span class=\"ansi-green-fg\">6</span></span>)\n",
       "<span style=\"color: rgb(0, 187, 187)\"><span class=\"ansi-cyan-fg\">res6_2</span></span>: <span style=\"color: rgb(0, 187, 0)\"><span class=\"ansi-green-fg\">String</span></span> = <span style=\"color: rgb(0, 187, 0)\"><span class=\"ansi-green-fg\">&quot;1,2,3,4,5,6&quot;</span></span></code></pre>\n",
       "</div>"
      ],
      "text/plain": [
       "\u001b[36marr\u001b[39m: \u001b[32mArray\u001b[39m[\u001b[32mInt\u001b[39m] = \u001b[33mArray\u001b[39m(\u001b[32m1\u001b[39m, \u001b[32m2\u001b[39m, \u001b[32m3\u001b[39m, \u001b[32m4\u001b[39m, \u001b[32m5\u001b[39m, \u001b[32m6\u001b[39m)\n",
       "\u001b[36mres6_2\u001b[39m: \u001b[32mString\u001b[39m = \u001b[32m\"1,2,3,4,5,6\"\u001b[39m"
      ]
     },
     "metadata": {},
     "output_type": "display_data"
    }
   ],
   "source": [
    "var arr = Array(1,2,3,4,5,6)\n",
    "bubbleSortO(arr)\n",
    "arr.mkString(\",\")"
   ]
  },
  {
   "cell_type": "markdown",
   "metadata": {},
   "source": [
    "## Selection Sort"
   ]
  },
  {
   "cell_type": "code",
   "execution_count": 29,
   "metadata": {
    "ExecuteTime": {
     "end_time": "2019-11-19T18:50:36.215433Z",
     "start_time": "2019-11-19T18:50:35.990Z"
    }
   },
   "outputs": [
    {
     "data": {
      "text/plain": [
       "defined \u001b[32mfunction\u001b[39m \u001b[36mselectionSort\u001b[39m"
      ]
     },
     "execution_count": 29,
     "metadata": {},
     "output_type": "execute_result"
    }
   ],
   "source": [
    "def selectionSort(arr:Array[Int]):Unit={\n",
    "    println(\"before array: \" + arr.mkString(\",\"))\n",
    "    var len = arr.length\n",
    "    var temp = 0\n",
    "    var counter = 0\n",
    "    for(i<-0 to len-1){\n",
    "        var min = arr(i)\n",
    "        counter = counter+1\n",
    "        for(j<- i+1 to len - 1){\n",
    "            if(min>arr(j)){\n",
    "                temp = arr(j)\n",
    "                arr(j) = arr(i)\n",
    "                arr(i) = temp \n",
    "                counter = counter+1\n",
    "            }\n",
    "         println(min)\n",
    "        }\n",
    "        println(arr.mkString(\",\"))\n",
    "    }\n",
    "       println(\" \")\n",
    "       println(\"after array: \" + arr.mkString(\",\"))\n",
    "       println(\"Counter is \"+ counter)\n",
    "}"
   ]
  },
  {
   "cell_type": "code",
   "execution_count": 33,
   "metadata": {
    "ExecuteTime": {
     "end_time": "2019-11-19T18:55:45.666426Z",
     "start_time": "2019-11-19T18:55:45.514Z"
    },
    "scrolled": true
   },
   "outputs": [
    {
     "name": "stdout",
     "output_type": "stream",
     "text": [
      "before array: 4,2,1,0,6,7,8,9\n",
      "4\n",
      "4\n",
      "4\n",
      "4\n",
      "4\n",
      "4\n",
      "4\n",
      "0,4,2,1,6,7,8,9\n",
      "4\n",
      "4\n",
      "4\n",
      "4\n",
      "4\n",
      "4\n",
      "0,1,4,2,6,7,8,9\n",
      "4\n",
      "4\n",
      "4\n",
      "4\n",
      "4\n",
      "0,1,2,4,6,7,8,9\n",
      "4\n",
      "4\n",
      "4\n",
      "4\n",
      "0,1,2,4,6,7,8,9\n",
      "6\n",
      "6\n",
      "6\n",
      "0,1,2,4,6,7,8,9\n",
      "7\n",
      "7\n",
      "0,1,2,4,6,7,8,9\n",
      "8\n",
      "0,1,2,4,6,7,8,9\n",
      "0,1,2,4,6,7,8,9\n",
      " \n",
      "after array: 0,1,2,4,6,7,8,9\n",
      "Counter is 14\n"
     ]
    }
   ],
   "source": [
    "selectionSort(Array(4,2,1,0,6,7,8,9))"
   ]
  },
  {
   "cell_type": "markdown",
   "metadata": {},
   "source": [
    "## Insertion Sort"
   ]
  },
  {
   "cell_type": "code",
   "execution_count": 20,
   "metadata": {
    "ExecuteTime": {
     "end_time": "2019-11-18T14:04:55.502580Z",
     "start_time": "2019-11-18T14:04:55.350Z"
    }
   },
   "outputs": [
    {
     "data": {
      "text/plain": [
       "defined \u001b[32mfunction\u001b[39m \u001b[36minsertionSort\u001b[39m"
      ]
     },
     "execution_count": 20,
     "metadata": {},
     "output_type": "execute_result"
    }
   ],
   "source": [
    "def insertionSort(arr:Array[Int]):Unit={\n",
    "    println(\"before array: \" + arr.mkString(\",\"))\n",
    "    println(\" \")\n",
    "    var len = arr.length\n",
    "    var temp = 0\n",
    "    var counter = 0\n",
    "    for(i<-1 until len){\n",
    "        var item = arr(i)\n",
    "        var j = i - 1\n",
    "        println(\"Item is: \"+ item)\n",
    "        println(\"I is: \"+ i + \", i value is: \" + arr(i))\n",
    "        println(\"J is: \"+ j + \", j value is: \" + arr(j))\n",
    "        counter = counter+1\n",
    "        while( j >=0 && arr(j) > item    ){\n",
    "                arr(j + 1) = arr(j);\n",
    "                j = j - 1; \n",
    "                println(\"Swap items \" +  arr.mkString(\",\"))\n",
    "                counter = counter+1\n",
    "        }\n",
    "         arr(j + 1) = item; \n",
    "         println(\"J stopped at \" + j)\n",
    "         println(\"Swap items \" +  arr.mkString(\",\"))\n",
    "    }\n",
    "       println(\" \")\n",
    "       println(\"after array: \" + arr.mkString(\",\"))\n",
    "       println(\"Counter is \" + counter)\n",
    "\n",
    "}"
   ]
  },
  {
   "cell_type": "code",
   "execution_count": 21,
   "metadata": {
    "ExecuteTime": {
     "end_time": "2019-11-18T14:04:57.364949Z",
     "start_time": "2019-11-18T14:04:57.242Z"
    },
    "scrolled": false
   },
   "outputs": [
    {
     "name": "stdout",
     "output_type": "stream",
     "text": [
      "before array: 1,4,2,3\n",
      " \n",
      "Item is: 4\n",
      "I is: 1, i value is: 4\n",
      "J is: 0, j value is: 1\n",
      "J stopped at 0\n",
      "Swap items 1,4,2,3\n",
      "Item is: 2\n",
      "I is: 2, i value is: 2\n",
      "J is: 1, j value is: 4\n",
      "Swap items 1,4,4,3\n",
      "J stopped at 0\n",
      "Swap items 1,2,4,3\n",
      "Item is: 3\n",
      "I is: 3, i value is: 3\n",
      "J is: 2, j value is: 4\n",
      "Swap items 1,2,4,4\n",
      "J stopped at 1\n",
      "Swap items 1,2,3,4\n",
      " \n",
      "after array: 1,2,3,4\n",
      "Counter is 5\n"
     ]
    }
   ],
   "source": [
    "insertionSort(Array(1,4,2,3))"
   ]
  },
  {
   "cell_type": "markdown",
   "metadata": {},
   "source": [
    "## Merge Sort\n"
   ]
  },
  {
   "cell_type": "code",
   "execution_count": 36,
   "metadata": {
    "ExecuteTime": {
     "end_time": "2019-11-18T10:06:47.692870Z",
     "start_time": "2019-11-18T10:06:47.522Z"
    }
   },
   "outputs": [
    {
     "data": {
      "text/plain": [
       "\u001b[32mimport \u001b[39m\u001b[36mjava.util.Arrays\n",
       "\u001b[39m\n",
       "defined \u001b[32mfunction\u001b[39m \u001b[36mmergeSort\u001b[39m\n",
       "defined \u001b[32mfunction\u001b[39m \u001b[36msorted\u001b[39m"
      ]
     },
     "execution_count": 36,
     "metadata": {},
     "output_type": "execute_result"
    }
   ],
   "source": [
    "import java.util.Arrays\n",
    "def mergeSort(arr:Array[Int]):Unit= {\n",
    "    var len = arr.length\n",
    "    var mid = len/2\n",
    "    var end = len \n",
    "    if(len<2) return;\n",
    "    var l = Arrays.copyOfRange(arr, 0, mid)\n",
    "    var r = Arrays.copyOfRange(arr, mid, end )\n",
    "    mergeSort(l)\n",
    "    mergeSort(r)\n",
    "    sorted(arr,l,r)\n",
    "    println(\"Sorted Array is \" + arr.mkString(\",\"))\n",
    "}\n",
    "def sorted(arr: Array[Int], l: Array[Int], r: Array[Int]):Unit={\n",
    "        var i = 0\n",
    "        var j = 0\n",
    "        println()\n",
    "        println(\"Left array is \" + l.mkString(\",\"))\n",
    "        println(\"Right array is \" + r.mkString(\",\"))\n",
    "        while (i+j < arr.length) \n",
    "        {   \n",
    "           if(j==r.length || i<l.length && l(i) < r(j))\n",
    "            { \n",
    "                arr(i+j) = l(i)\n",
    "                i=i+1; \n",
    "            } \n",
    "            else\n",
    "            { \n",
    "                arr(i+j) = r(j)\n",
    "                j = j+1; \n",
    "            } \n",
    "        }\n",
    "}"
   ]
  },
  {
   "cell_type": "code",
   "execution_count": 37,
   "metadata": {
    "ExecuteTime": {
     "end_time": "2019-11-18T10:06:47.963159Z",
     "start_time": "2019-11-18T10:06:47.845Z"
    }
   },
   "outputs": [
    {
     "name": "stdout",
     "output_type": "stream",
     "text": [
      "\n",
      "Left array is 4\n",
      "Right array is 1\n",
      "Sorted Array is 1,4\n",
      "\n",
      "Left array is 3\n",
      "Right array is 1,4\n",
      "Sorted Array is 1,3,4\n",
      "\n",
      "Left array is 2\n",
      "Right array is 3\n",
      "Sorted Array is 2,3\n",
      "\n",
      "Left array is 5\n",
      "Right array is 6\n",
      "Sorted Array is 5,6\n",
      "\n",
      "Left array is 2,3\n",
      "Right array is 5,6\n",
      "Sorted Array is 2,3,5,6\n",
      "\n",
      "Left array is 1,3,4\n",
      "Right array is 2,3,5,6\n",
      "Sorted Array is 1,2,3,3,4,5,6\n"
     ]
    }
   ],
   "source": [
    "mergeSort(Array(3,4,1,2,3,5,6))"
   ]
  }
 ],
 "metadata": {
  "kernelspec": {
   "display_name": "Scala",
   "language": "scala",
   "name": "scala"
  },
  "language_info": {
   "codemirror_mode": "text/x-scala",
   "file_extension": ".scala",
   "mimetype": "text/x-scala",
   "name": "scala",
   "nbconvert_exporter": "script",
   "version": "2.12.9"
  }
 },
 "nbformat": 4,
 "nbformat_minor": 2
}
