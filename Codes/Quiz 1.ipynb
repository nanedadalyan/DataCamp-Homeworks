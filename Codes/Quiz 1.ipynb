{
 "cells": [
  {
   "cell_type": "markdown",
   "metadata": {},
   "source": [
    "## Task 1\n",
    "Write a Java program to print the following grid\n",
    "\n",
    "Expected Output :\n"
   ]
  },
  {
   "cell_type": "raw",
   "metadata": {},
   "source": [
    "- - - - - - - - - -                                                                                           \n",
    "- - - - - - - - - -                                                                                           \n",
    "- - - - - - - - - -                                                                                           \n",
    "- - - - - - - - - -                                                                                           \n",
    "- - - - - - - - - -                                                                                           \n",
    "- - - - - - - - - -                                                                                           \n",
    "- - - - - - - - - -                                                                                           \n",
    "- - - - - - - - - -                                                                                           \n",
    "- - - - - - - - - -                                                                                           \n",
    "- - - - - - - - - -  "
   ]
  },
  {
   "cell_type": "code",
   "execution_count": 2,
   "metadata": {
    "ExecuteTime": {
     "end_time": "2019-11-21T12:09:11.805364Z",
     "start_time": "2019-11-21T12:09:11.215Z"
    }
   },
   "outputs": [
    {
     "name": "stdout",
     "output_type": "stream",
     "text": [
      "_ _ _ _ _ _ _ _ _ _ _ \n",
      "\n",
      "_ _ _ _ _ _ _ _ _ _ _ \n",
      "\n",
      "_ _ _ _ _ _ _ _ _ _ _ \n",
      "\n",
      "_ _ _ _ _ _ _ _ _ _ _ \n",
      "\n",
      "_ _ _ _ _ _ _ _ _ _ _ \n",
      "\n",
      "_ _ _ _ _ _ _ _ _ _ _ \n",
      "\n",
      "_ _ _ _ _ _ _ _ _ _ _ \n",
      "\n",
      "_ _ _ _ _ _ _ _ _ _ _ \n",
      "\n",
      "_ _ _ _ _ _ _ _ _ _ _ \n",
      "\n",
      "_ _ _ _ _ _ _ _ _ _ _ \n",
      "\n",
      "_ _ _ _ _ _ _ _ _ _ _ \n",
      "\n",
      "()"
     ]
    },
    {
     "data": {
      "text/plain": [
       "defined \u001b[32mfunction\u001b[39m \u001b[36mdrawGrid\u001b[39m"
      ]
     },
     "execution_count": 2,
     "metadata": {},
     "output_type": "execute_result"
    }
   ],
   "source": [
    "def drawGrid(n:Int):Unit={\n",
    " for(i <- 0 to n){\n",
    "     for(j <- 0 to n){\n",
    "         print(\"_ \")\n",
    "     }\n",
    "     println()\n",
    "     println()\n",
    "\n",
    " }\n",
    "}\n",
    "\n",
    "print(drawGrid(10))"
   ]
  },
  {
   "cell_type": "markdown",
   "metadata": {},
   "source": [
    "## Task 2\n",
    "Write a Java program to reverse an array of integer values\n"
   ]
  },
  {
   "cell_type": "code",
   "execution_count": 237,
   "metadata": {
    "ExecuteTime": {
     "end_time": "2019-11-22T12:24:19.579565Z",
     "start_time": "2019-11-22T12:24:19.006Z"
    }
   },
   "outputs": [
    {
     "name": "stdout",
     "output_type": "stream",
     "text": [
      "4,5,6,7,8,10"
     ]
    },
    {
     "data": {
      "text/plain": [
       "defined \u001b[32mfunction\u001b[39m \u001b[36mreverseArr\u001b[39m"
      ]
     },
     "execution_count": 237,
     "metadata": {},
     "output_type": "execute_result"
    }
   ],
   "source": [
    "def reverseArr(arr:Array[Int]):Array[Int]={\n",
    " var len =  arr.length - 1 \n",
    " for(i <- 0 until  math.ceil(len/2.0).toInt){\n",
    "    var temp = arr(i)\n",
    "    arr(i) = arr(len - i)\n",
    "    arr(len - i) = temp\n",
    " }\n",
    "    return arr\n",
    "}\n",
    "\n",
    "print(reverseArr(Array(10,8,7,6,5,4)).mkString(\",\"))\n"
   ]
  },
  {
   "cell_type": "markdown",
   "metadata": {},
   "source": [
    "## Task 3\n",
    "Write a Java program to find the length of the longest consecutive elements sequence from a given unsorted array of integers.\n",
    "\n",
    "Sample array: [49, 1, 3, 200, 2, 4, 70, 5] \n",
    "\n",
    "The longest consecutive elements sequence is [1, 2, 3, 4, 5], therefore the program will return its length "
   ]
  },
  {
   "cell_type": "code",
   "execution_count": null,
   "metadata": {},
   "outputs": [],
   "source": [
    "Ex. Array(3,1,2,6,7,9,8,10)\n",
    "\n",
    "Method 1\n",
    "We are not going to sort before comparing elements\n",
    "\n",
    "1) first element is 3\n",
    "is there elements more than 3 -> 3+1, 4+1, 5+1, \n"
   ]
  },
  {
   "cell_type": "code",
   "execution_count": 250,
   "metadata": {
    "ExecuteTime": {
     "end_time": "2019-11-22T13:10:56.224141Z",
     "start_time": "2019-11-22T13:10:56.103Z"
    }
   },
   "outputs": [
    {
     "data": {
      "text/plain": [
       "\u001b[32mimport \u001b[39m\u001b[36mjava.util.Arrays\n",
       "\u001b[39m\n",
       "\u001b[32mimport \u001b[39m\u001b[36mscala.util.control.Breaks._\n",
       "\u001b[39m\n",
       "defined \u001b[32mfunction\u001b[39m \u001b[36mfindLongest\u001b[39m\n",
       "defined \u001b[32mfunction\u001b[39m \u001b[36mmergeSortAlgo\u001b[39m"
      ]
     },
     "execution_count": 250,
     "metadata": {},
     "output_type": "execute_result"
    }
   ],
   "source": [
    "import java.util.Arrays\n",
    "import scala.util.control.Breaks._\n",
    "def findLongest(arr:Array[Int]):Array[Int]={\n",
    "    var firstCons:Array[Int] = Array()\n",
    "    var secondCons:Array[Int] = Array()\n",
    "    var i = 1\n",
    "    breakable {\n",
    "        while(i<arr.length){    \n",
    "        if(firstCons.length > secondCons.length){\n",
    "            secondCons = firstCons\n",
    "        }\n",
    "        if(arr(i) - arr(i-1) == 1){\n",
    "            var j = i\n",
    "            firstCons = Array(arr(i-1))\n",
    "            while(j < arr.length && arr(j) - arr(j-1)==1){\n",
    "                firstCons = firstCons :+ arr(j) \n",
    "                j+=1\n",
    "            }\n",
    "        }\n",
    "       if(arr.length - i - 1 <= secondCons.length) break\n",
    "        i+=1\n",
    "    }\n",
    "    }\n",
    "    return secondCons\n",
    "}\n",
    "\n",
    "def mergeSortAlgo(arr:Array[Int]):Unit={\n",
    "    def mergeSort(arr:Array[Int]):Unit={\n",
    "        var len = arr.length\n",
    "        var mid = len/2\n",
    "        if(len<2) return\n",
    "        var left = Arrays.copyOfRange(arr,0,mid)\n",
    "        var right = Arrays.copyOfRange(arr,mid,len)\n",
    "        mergeSort(left)\n",
    "        mergeSort(right)\n",
    "        sort(arr,left,right)\n",
    "    }\n",
    "    def sort(arr:Array[Int],left:Array[Int],right:Array[Int]):Unit={\n",
    "        var leftN = 0\n",
    "        var rightN = 0\n",
    "        var arrL = arr.length\n",
    "        while((leftN+rightN)<arrL){\n",
    "            if(rightN == right.length ||  leftN < left.length && left(leftN)<right(rightN)){\n",
    "                arr(leftN+rightN) = left(leftN)\n",
    "                leftN+=1\n",
    "            }\n",
    "            else{\n",
    "                  arr(leftN+rightN) = right(rightN)\n",
    "                  rightN+=1\n",
    "            }\n",
    "        }\n",
    "    }\n",
    "    mergeSort(arr)\n",
    "}\n",
    "\n",
    "\n"
   ]
  },
  {
   "cell_type": "code",
   "execution_count": 252,
   "metadata": {
    "ExecuteTime": {
     "end_time": "2019-11-22T13:11:16.042113Z",
     "start_time": "2019-11-22T13:11:15.908Z"
    }
   },
   "outputs": [
    {
     "data": {
      "text/html": [
       "<div class=\"jp-RenderedText\">\n",
       "<pre><code><span style=\"color: rgb(0, 187, 187)\"><span class=\"ansi-cyan-fg\">a</span></span>: <span style=\"color: rgb(0, 187, 0)\"><span class=\"ansi-green-fg\">Array</span></span>[<span style=\"color: rgb(0, 187, 0)\"><span class=\"ansi-green-fg\">Int</span></span>] = <span style=\"color: yellow\"><span class=\"ansi-yellow-fg\">Array</span></span>(<span style=\"color: rgb(0, 187, 0)\"><span class=\"ansi-green-fg\">0</span></span>, <span style=\"color: rgb(0, 187, 0)\"><span class=\"ansi-green-fg\">2</span></span>, <span style=\"color: rgb(0, 187, 0)\"><span class=\"ansi-green-fg\">3</span></span>, <span style=\"color: rgb(0, 187, 0)\"><span class=\"ansi-green-fg\">4</span></span>, <span style=\"color: rgb(0, 187, 0)\"><span class=\"ansi-green-fg\">5</span></span>, <span style=\"color: rgb(0, 187, 0)\"><span class=\"ansi-green-fg\">6</span></span>, <span style=\"color: rgb(0, 187, 0)\"><span class=\"ansi-green-fg\">8</span></span>, <span style=\"color: rgb(0, 187, 0)\"><span class=\"ansi-green-fg\">9</span></span>, <span style=\"color: rgb(0, 187, 0)\"><span class=\"ansi-green-fg\">10</span></span>, <span style=\"color: rgb(0, 187, 0)\"><span class=\"ansi-green-fg\">11</span></span>, <span style=\"color: rgb(0, 187, 0)\"><span class=\"ansi-green-fg\">12</span></span>, <span style=\"color: rgb(0, 187, 0)\"><span class=\"ansi-green-fg\">13</span></span>, <span style=\"color: rgb(0, 187, 0)\"><span class=\"ansi-green-fg\">14</span></span>, <span style=\"color: rgb(0, 187, 0)\"><span class=\"ansi-green-fg\">15</span></span>, <span style=\"color: rgb(0, 187, 0)\"><span class=\"ansi-green-fg\">19</span></span>)\n",
       "<span style=\"color: rgb(0, 187, 187)\"><span class=\"ansi-cyan-fg\">res251_2</span></span>: <span style=\"color: rgb(0, 187, 0)\"><span class=\"ansi-green-fg\">Array</span></span>[<span style=\"color: rgb(0, 187, 0)\"><span class=\"ansi-green-fg\">Int</span></span>] = <span style=\"color: yellow\"><span class=\"ansi-yellow-fg\">Array</span></span>(<span style=\"color: rgb(0, 187, 0)\"><span class=\"ansi-green-fg\">8</span></span>, <span style=\"color: rgb(0, 187, 0)\"><span class=\"ansi-green-fg\">9</span></span>, <span style=\"color: rgb(0, 187, 0)\"><span class=\"ansi-green-fg\">10</span></span>, <span style=\"color: rgb(0, 187, 0)\"><span class=\"ansi-green-fg\">11</span></span>, <span style=\"color: rgb(0, 187, 0)\"><span class=\"ansi-green-fg\">12</span></span>, <span style=\"color: rgb(0, 187, 0)\"><span class=\"ansi-green-fg\">13</span></span>, <span style=\"color: rgb(0, 187, 0)\"><span class=\"ansi-green-fg\">14</span></span>, <span style=\"color: rgb(0, 187, 0)\"><span class=\"ansi-green-fg\">15</span></span>)</code></pre>\n",
       "</div>"
      ],
      "text/plain": [
       "\u001b[36ma\u001b[39m: \u001b[32mArray\u001b[39m[\u001b[32mInt\u001b[39m] = \u001b[33mArray\u001b[39m(\u001b[32m0\u001b[39m, \u001b[32m2\u001b[39m, \u001b[32m3\u001b[39m, \u001b[32m4\u001b[39m, \u001b[32m5\u001b[39m, \u001b[32m6\u001b[39m, \u001b[32m8\u001b[39m, \u001b[32m9\u001b[39m, \u001b[32m10\u001b[39m, \u001b[32m11\u001b[39m, \u001b[32m12\u001b[39m, \u001b[32m13\u001b[39m, \u001b[32m14\u001b[39m, \u001b[32m15\u001b[39m, \u001b[32m19\u001b[39m)\n",
       "\u001b[36mres251_2\u001b[39m: \u001b[32mArray\u001b[39m[\u001b[32mInt\u001b[39m] = \u001b[33mArray\u001b[39m(\u001b[32m8\u001b[39m, \u001b[32m9\u001b[39m, \u001b[32m10\u001b[39m, \u001b[32m11\u001b[39m, \u001b[32m12\u001b[39m, \u001b[32m13\u001b[39m, \u001b[32m14\u001b[39m, \u001b[32m15\u001b[39m)"
      ]
     },
     "metadata": {},
     "output_type": "display_data"
    }
   ],
   "source": [
    "var a = Array(5,4,6,8,0,3,2,9,10,11,12,13,14,15,19)\n",
    "mergeSortAlgo(a)\n",
    "\n",
    "findLongest(a)"
   ]
  },
  {
   "cell_type": "markdown",
   "metadata": {},
   "source": [
    "## Task 4\n",
    "Find Maximum and Minimum\n",
    "Write a method that returns the largest integer in the list.\n",
    "You can assume that the list has at least 2 element."
   ]
  },
  {
   "cell_type": "code",
   "execution_count": 148,
   "metadata": {
    "ExecuteTime": {
     "end_time": "2019-11-21T12:58:54.806303Z",
     "start_time": "2019-11-21T12:58:54.577Z"
    }
   },
   "outputs": [
    {
     "data": {
      "text/plain": [
       "defined \u001b[32mfunction\u001b[39m \u001b[36mfindMaxMin\u001b[39m"
      ]
     },
     "execution_count": 148,
     "metadata": {},
     "output_type": "execute_result"
    }
   ],
   "source": [
    "def findMaxMin(arr:Array[Int]):(Int,Int)={\n",
    "    var min = arr(0)\n",
    "    var max = arr(0)\n",
    "    for(i<- 0 until arr.length){\n",
    "        if(arr(i)<min){\n",
    "            min = arr(i)\n",
    "        }\n",
    "        if(arr(i)>max){\n",
    "            max = arr(i)\n",
    "        }\n",
    "    }\n",
    "    return (min,max)\n",
    "}"
   ]
  },
  {
   "cell_type": "code",
   "execution_count": 151,
   "metadata": {
    "ExecuteTime": {
     "end_time": "2019-11-21T12:59:54.186808Z",
     "start_time": "2019-11-21T12:59:53.991Z"
    }
   },
   "outputs": [
    {
     "name": "stdout",
     "output_type": "stream",
     "text": [
      "Min and Max values are: -2, 200\n"
     ]
    },
    {
     "data": {
      "text/html": [
       "<div class=\"jp-RenderedText\">\n",
       "<pre><code><span style=\"color: rgb(0, 187, 187)\"><span class=\"ansi-cyan-fg\">min_max</span></span>: (<span style=\"color: rgb(0, 187, 0)\"><span class=\"ansi-green-fg\">Int</span></span>, <span style=\"color: rgb(0, 187, 0)\"><span class=\"ansi-green-fg\">Int</span></span>) = (<span style=\"color: rgb(0, 187, 0)\"><span class=\"ansi-green-fg\">-2</span></span>, <span style=\"color: rgb(0, 187, 0)\"><span class=\"ansi-green-fg\">200</span></span>)</code></pre>\n",
       "</div>"
      ],
      "text/plain": [
       "\u001b[36mmin_max\u001b[39m: (\u001b[32mInt\u001b[39m, \u001b[32mInt\u001b[39m) = (\u001b[32m-2\u001b[39m, \u001b[32m200\u001b[39m)"
      ]
     },
     "metadata": {},
     "output_type": "display_data"
    }
   ],
   "source": [
    "var min_max = findMaxMin(Array(4,5,7,0,1,2,-2,200))\n",
    "println(\"Min and Max values are: \" + min_max._1 + \", \" + min_max._2)"
   ]
  },
  {
   "cell_type": "markdown",
   "metadata": {},
   "source": [
    "## Task 5\n",
    " Write a Java program to separate even and odd numbers of an given array of integers. Put all even numbers first, and then odd numbers.   Go to the editor"
   ]
  },
  {
   "cell_type": "code",
   "execution_count": 214,
   "metadata": {
    "ExecuteTime": {
     "end_time": "2019-11-21T13:17:41.061026Z",
     "start_time": "2019-11-21T13:17:40.822Z"
    }
   },
   "outputs": [
    {
     "data": {
      "text/plain": [
       "defined \u001b[32mfunction\u001b[39m \u001b[36mfindEvenOdd\u001b[39m"
      ]
     },
     "execution_count": 214,
     "metadata": {},
     "output_type": "execute_result"
    }
   ],
   "source": [
    "def findEvenOdd(arr:Array[Int]):Array[Int]={\n",
    "      var items = arr.length -1\n",
    "      var evens = 0\n",
    "      var arrNew:Array[Int] = Array()\n",
    "      for(i<- 0 to items){\n",
    "        if(arr(i)%2==0){\n",
    "            arrNew = arrNew :+ arr(i)\n",
    "            evens+=1\n",
    "        }\n",
    "      }\n",
    "  arrNew =  arrNew ++  arr.diff(arrNew)\n",
    "    return arrNew\n",
    "}"
   ]
  },
  {
   "cell_type": "code",
   "execution_count": 215,
   "metadata": {
    "ExecuteTime": {
     "end_time": "2019-11-21T13:17:41.621824Z",
     "start_time": "2019-11-21T13:17:41.419Z"
    }
   },
   "outputs": [
    {
     "data": {
      "text/plain": [
       "\u001b[36mres214\u001b[39m: \u001b[32mArray\u001b[39m[\u001b[32mInt\u001b[39m] = \u001b[33mArray\u001b[39m(\u001b[32m0\u001b[39m, \u001b[32m4\u001b[39m, \u001b[32m0\u001b[39m, \u001b[32m6\u001b[39m, \u001b[32m4\u001b[39m, \u001b[32m5\u001b[39m, \u001b[32m3\u001b[39m)"
      ]
     },
     "execution_count": 215,
     "metadata": {},
     "output_type": "execute_result"
    }
   ],
   "source": [
    "findEvenOdd(Array(0,4,0,5,6,3,4))"
   ]
  },
  {
   "cell_type": "markdown",
   "metadata": {},
   "source": [
    "## Task 6\n",
    "For a given 3 digit number, find whether it is armstrong number or not. An Armstrong number of three digits is an integer such that the sum of the cubes of its digits is equal to the number itself. For example, 371 is an Armstrong number since 3^3 + 7^3 + 1^3 = 371\n",
    "\n",
    "Input:\n",
    "First line contains an integer, the number of test cases 'T'. T testcases follow. Each test case contains a positive integer N.\n",
    "\n",
    "Output:\n",
    "For each testcase, in a new line, print \"Yes\" if it is a armstrong number else print \"No\".\n",
    "\n",
    "Constraints:\n",
    "1 <= T <= 31\n",
    "100 <= N < 1000\n",
    "\n",
    "Example:\n",
    "Input:\n",
    "1\n",
    "371\n",
    "Output:\n",
    "Yes\n"
   ]
  },
  {
   "cell_type": "code",
   "execution_count": 216,
   "metadata": {
    "ExecuteTime": {
     "end_time": "2019-11-21T13:25:19.868258Z",
     "start_time": "2019-11-21T13:25:19.632Z"
    }
   },
   "outputs": [
    {
     "data": {
      "text/plain": [
       "defined \u001b[32mfunction\u001b[39m \u001b[36misArmstrong\u001b[39m"
      ]
     },
     "execution_count": 216,
     "metadata": {},
     "output_type": "execute_result"
    }
   ],
   "source": [
    "def isArmstrong(num:Int):Unit={\n",
    "    if(num/100 == 0 ) throw new Exception(\"Number should have 3 digit\")\n",
    "    var hund = num / 100\n",
    "    var tenth = (num -  (num / 100)*100)/10\n",
    "    var units = num - hund*100 - tenth*10\n",
    "    var finalNum = math.pow(hund,3) + math.pow(tenth,3) + math.pow(units,3)\n",
    "    \n",
    "     println( if (finalNum == num)  \"Yes\" else \"No\")\n",
    "}"
   ]
  },
  {
   "cell_type": "code",
   "execution_count": 219,
   "metadata": {
    "ExecuteTime": {
     "end_time": "2019-11-21T13:25:33.853584Z",
     "start_time": "2019-11-21T13:25:33.661Z"
    }
   },
   "outputs": [
    {
     "name": "stdout",
     "output_type": "stream",
     "text": [
      "Yes\n",
      "No\n"
     ]
    }
   ],
   "source": [
    "isArmstrong(371)\n",
    "isArmstrong(471)"
   ]
  },
  {
   "cell_type": "markdown",
   "metadata": {},
   "source": [
    "## Task 7\n",
    "Find average value in a array."
   ]
  },
  {
   "cell_type": "code",
   "execution_count": 226,
   "metadata": {
    "ExecuteTime": {
     "end_time": "2019-11-21T13:30:02.524623Z",
     "start_time": "2019-11-21T13:30:02.424Z"
    }
   },
   "outputs": [
    {
     "data": {
      "text/plain": [
       "defined \u001b[32mfunction\u001b[39m \u001b[36mavg\u001b[39m"
      ]
     },
     "execution_count": 226,
     "metadata": {},
     "output_type": "execute_result"
    }
   ],
   "source": [
    "def avg(nums:Array[Int]):Double={\n",
    "    var lenD = nums.length.toDouble\n",
    "    def sum(nums:Array[Int],i:Int):Int={\n",
    "    if(i == nums.length ) return 0\n",
    "    return nums(i) + sum(nums,i+1)\n",
    "}\n",
    "    return sum(nums,0)/lenD\n",
    "}\n"
   ]
  },
  {
   "cell_type": "code",
   "execution_count": 227,
   "metadata": {
    "ExecuteTime": {
     "end_time": "2019-11-21T13:30:03.756596Z",
     "start_time": "2019-11-21T13:30:03.601Z"
    }
   },
   "outputs": [
    {
     "data": {
      "text/plain": [
       "\u001b[36mres226\u001b[39m: \u001b[32mDouble\u001b[39m = \u001b[32m1.5\u001b[39m"
      ]
     },
     "execution_count": 227,
     "metadata": {},
     "output_type": "execute_result"
    }
   ],
   "source": [
    "avg(Array(1,1,2,2))"
   ]
  },
  {
   "cell_type": "markdown",
   "metadata": {},
   "source": [
    "## Task 8\n",
    "Given an array print true if array is sorted and false if not"
   ]
  },
  {
   "cell_type": "code",
   "execution_count": 230,
   "metadata": {
    "ExecuteTime": {
     "end_time": "2019-11-21T13:32:32.126797Z",
     "start_time": "2019-11-21T13:32:31.959Z"
    }
   },
   "outputs": [
    {
     "data": {
      "text/plain": [
       "defined \u001b[32mfunction\u001b[39m \u001b[36misSorted\u001b[39m"
      ]
     },
     "execution_count": 230,
     "metadata": {},
     "output_type": "execute_result"
    }
   ],
   "source": [
    "def isSorted(nums:Array[Int]):Boolean={\n",
    "      for(i<- 1 to nums.length-1){\n",
    "          if(nums(i) - nums(i-1) != 1) return false\n",
    "      }\n",
    "    return true  \n",
    "}\n"
   ]
  },
  {
   "cell_type": "code",
   "execution_count": 234,
   "metadata": {
    "ExecuteTime": {
     "end_time": "2019-11-21T13:32:41.167370Z",
     "start_time": "2019-11-21T13:32:41.050Z"
    }
   },
   "outputs": [
    {
     "data": {
      "text/plain": [
       "\u001b[36mres233\u001b[39m: \u001b[32mBoolean\u001b[39m = true"
      ]
     },
     "execution_count": 234,
     "metadata": {},
     "output_type": "execute_result"
    }
   ],
   "source": [
    "isSorted(Array(1,2,3,4,5))"
   ]
  }
 ],
 "metadata": {
  "kernelspec": {
   "display_name": "Scala",
   "language": "scala",
   "name": "scala"
  },
  "language_info": {
   "codemirror_mode": "text/x-scala",
   "file_extension": ".scala",
   "mimetype": "text/x-scala",
   "name": "scala",
   "nbconvert_exporter": "script",
   "version": "2.12.9"
  }
 },
 "nbformat": 4,
 "nbformat_minor": 2
}
