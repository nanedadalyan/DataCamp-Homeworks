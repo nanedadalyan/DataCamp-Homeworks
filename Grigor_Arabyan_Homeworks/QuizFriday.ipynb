{
 "cells": [
  {
   "cell_type": "code",
   "execution_count": 1,
   "metadata": {},
   "outputs": [
    {
     "name": "stderr",
     "output_type": "stream",
     "text": [
      "Using Spark's default log4j profile: org/apache/spark/log4j-defaults.properties\n"
     ]
    },
    {
     "data": {
      "text/plain": [
       "\u001b[32mimport \u001b[39m\u001b[36m$ivy.$                                   // Or use any other 2.x version here\n",
       "// import $ivy.`sh.almond::almond-spark:_` // Added automatically on importing Spark\n",
       "\n",
       "\u001b[39m\n",
       "\u001b[32mimport \u001b[39m\u001b[36morg.apache.spark.sql._\n",
       "\u001b[39m\n",
       "\u001b[32mimport \u001b[39m\u001b[36morg.apache.log4j.{Level, Logger}\n",
       "\u001b[39m\n",
       "\u001b[36mspark\u001b[39m: \u001b[32mSparkSession\u001b[39m = org.apache.spark.sql.SparkSession@3ca11f25"
      ]
     },
     "execution_count": 1,
     "metadata": {},
     "output_type": "execute_result"
    }
   ],
   "source": [
    "import $ivy.`org.apache.spark::spark-sql:2.4.3` // Or use any other 2.x version here\n",
    "// import $ivy.`sh.almond::almond-spark:_` // Added automatically on importing Spark\n",
    "\n",
    "import org.apache.spark.sql._\n",
    "import org.apache.log4j.{Level, Logger}\n",
    "Logger.getLogger(\"org\").setLevel(Level.OFF)\n",
    "\n",
    "val spark = {\n",
    " SparkSession.builder()\n",
    "    .master(\"local[*]\")\n",
    "    .getOrCreate()\n",
    "}"
   ]
  },
  {
   "cell_type": "code",
   "execution_count": 3,
   "metadata": {},
   "outputs": [
    {
     "data": {
      "text/plain": [
       "\u001b[36mdf\u001b[39m: \u001b[32mDataFrame\u001b[39m = [country_code: string, device_id: string ... 12 more fields]\n",
       "\u001b[32mimport \u001b[39m\u001b[36morg.apache.spark.sql.types.{StructField, StructType, StringType, LongType}\n",
       "\u001b[39m\n",
       "\u001b[32mimport \u001b[39m\u001b[36morg.apache.spark.sql.types.Metadata\n",
       "\u001b[39m\n",
       "\u001b[32mimport \u001b[39m\u001b[36morg.apache.spark.sql.functions.{col, column}\u001b[39m"
      ]
     },
     "execution_count": 3,
     "metadata": {},
     "output_type": "execute_result"
    }
   ],
   "source": [
    "var df = spark\n",
    ".read\n",
    ".option(\"inferSchema\", \"true\")\n",
    ".option(\"header\", \"true\")\n",
    ".option(\"delimiter\", \",\")\n",
    ".csv(\"Hmwk.csv\")\n",
    "import org.apache.spark.sql.types.{StructField, StructType, StringType, LongType}\n",
    "import org.apache.spark.sql.types.Metadata\n",
    "import org.apache.spark.sql.functions.{col, column}"
   ]
  },
  {
   "cell_type": "code",
   "execution_count": 44,
   "metadata": {},
   "outputs": [
    {
     "data": {
      "text/plain": [
       "\u001b[32mimport \u001b[39m\u001b[36mspark.implicits._\n",
       "\u001b[39m\n",
       "\u001b[32mimport \u001b[39m\u001b[36morg.apache.spark.sql.expressions._\n",
       "\u001b[39m\n",
       "\u001b[32mimport \u001b[39m\u001b[36morg.apache.spark.sql.functions._\n",
       "\u001b[39m\n",
       "\u001b[32mimport \u001b[39m\u001b[36morg.apache.spark.sql.expressions.Window\u001b[39m"
      ]
     },
     "execution_count": 44,
     "metadata": {},
     "output_type": "execute_result"
    }
   ],
   "source": [
    "import spark.implicits._\n",
    "import org.apache.spark.sql.expressions._\n",
    "import org.apache.spark.sql.functions._\n",
    "import org.apache.spark.sql.expressions.Window"
   ]
  },
  {
   "cell_type": "code",
   "execution_count": 41,
   "metadata": {},
   "outputs": [
    {
     "name": "stdout",
     "output_type": "stream",
     "text": [
      "root\n",
      " |-- country_code: string (nullable = true)\n",
      " |-- device_id: string (nullable = true)\n",
      " |-- advertising_id: string (nullable = true)\n",
      " |-- event_type: string (nullable = true)\n",
      " |-- language_code: string (nullable = true)\n",
      " |-- platform: string (nullable = true)\n",
      " |-- session_id: string (nullable = true)\n",
      " |-- timestamp: timestamp (nullable = true)\n",
      " |-- timezone: string (nullable = true)\n",
      " |-- duration: integer (nullable = true)\n",
      " |-- app: string (nullable = true)\n",
      " |-- user_id: string (nullable = true)\n",
      " |-- v: string (nullable = true)\n",
      " |-- version: string (nullable = true)\n",
      "\n"
     ]
    }
   ],
   "source": [
    "df.printSchema()"
   ]
  },
  {
   "cell_type": "code",
   "execution_count": 34,
   "metadata": {},
   "outputs": [
    {
     "name": "stdout",
     "output_type": "stream",
     "text": [
      "+------------+--------------------+--------------------+--------------------+-------------+--------+--------------------+-------------------+--------------------+--------+------------------+---------------+--------+---------+\n",
      "|country_code|           device_id|      advertising_id|          event_type|language_code|platform|          session_id|          timestamp|            timezone|duration|               app|        user_id|       v|  version|\n",
      "+------------+--------------------+--------------------+--------------------+-------------+--------+--------------------+-------------------+--------------------+--------+------------------+---------------+--------+---------+\n",
      "|          MX|d6ab0f1f-90c0-481...|d6ab0f1f-90c0-481...|    banner_item_view|           es| android|1517552422879_d6a...|2018-02-02 06:26:46| America/Mexico_City|      -1|com.picsart.studio|254634456000102|   3.3.5|993000283|\n",
      "|          PK|f16d4c3b-4b88-45a...|02f6be46-b247-479...|  tool_enhance_apply|           en| android|1517577524627_f16...|2018-02-02 13:25:34|        Asia/Karachi|      -1|com.picsart.studio|254934064002102|   3.3.5|993000283|\n",
      "|          IN|a4120cc6-2ea2-495...|a4120cc6-2ea2-495...|  banner_ad_response|           en| android|1517581539363_a41...|2018-02-02 14:29:22|       Asia/Calcutta|      -1|com.picsart.studio|           null| 3.2.3.3|993000221|\n",
      "|          RU|79188f82-1fe5-477...|79188f82-1fe5-477...|       shop_response|           ru|   apple|1517562441610_791...|2018-02-02 09:07:33|       Europe/Moscow|    null|com.picsart.studio|242155201006102|   3.3.2|      601|\n",
      "|          IN|3941f525-a299-4da...|3941f525-a299-4da...|       shop_response|           en| android|1517566529465_394...|2018-02-02 11:25:14|       Asia/Calcutta|      -1|com.picsart.studio|           null|   3.3.4|993000273|\n",
      "|          CN|39c99ac7-3d86-40d...|39c99ac7-3d86-40d...|         editor_open|           zh| android|1517544334395_39c...|2018-02-02 04:10:43|       Asia/Shanghai|     852|com.picsart.studio|           null|   3.3.4|993000273|\n",
      "|          MY|e34bea40-602a-43c...|e34bea40-602a-43c...|interstitial_ad_r...|           en| android|1517550807786_e34...|2018-02-02 05:53:55|   Asia/Kuala_Lumpur|      -1|com.picsart.studio|245672389018102|   3.3.5|993000283|\n",
      "|          IN|e48f275e-25e9-411...|e48f275e-25e9-411...|          effect_try|           en| android|1517560725256_e48...|2018-02-02 08:44:51|       Asia/Calcutta|      -1|com.picsart.studio|           null|   3.3.4|993000273|\n",
      "|          CN|F62E5B02-20F3-4DE...|9A6769BB-3A58-4EC...|interstitial_ad_r...|           zh|   apple|1517567741045_F62...|2018-02-02 10:35:45|       Asia/Shanghai|    null|com.picsart.studio|219897586001102|   3.3.2|      568|\n",
      "|          ID|dadc912b-5bc1-436...|dadc912b-5bc1-436...|    banner_item_view|           in| android|1517541054201_dad...|2018-02-02 03:28:37|        Asia/Jakarta|      -1|com.picsart.studio|254915030015102|   3.3.4|993000273|\n",
      "|          IN|d77fad4b-0ee8-43e...|d77fad4b-0ee8-43e...|        photo_upload|           hi| android|1517548723533_d77...|2018-02-02 05:39:23|       Asia/Calcutta|      -1|com.picsart.studio|           null|   3.3.4|993000273|\n",
      "|          ID|andy-f68e52fd-45a...|065dab40-dafb-409...|  banner_ad_response|           in| android|1517551991260_and...|2018-02-02 06:14:50|        Asia/Jakarta|      -1|com.picsart.studio|           null|3.1.11.1|993000183|\n",
      "|          CN|94a29c7c-e2e8-4d6...|94a29c7c-e2e8-4d6...|        tabbar_click|           zh| android|1517569755730_94a...|2018-02-02 11:12:16|       Asia/Shanghai|      -1|com.picsart.studio|253255817009102|   3.3.4|993000273|\n",
      "|          ID|andy-903124fb-60b...|ac8e2897-1586-4aa...|   tool_curves_close|           in| android|1517575189548_and...|2018-02-02 12:45:24|        Asia/Jakarta|      -1|com.picsart.studio|           null|3.1.11.1|993000183|\n",
      "|          US|edeff600-d4ea-415...|299B3787-06BE-4AF...|       shop_response|           en|   apple|1517577363281_ede...|2018-02-02 13:16:09|    America/New_York|    null|com.picsart.studio|           null|   3.3.2|      601|\n",
      "|          IN|92b5cea4-1d37-478...|92b5cea4-1d37-478...|           card_view|           en| android|1517581498372_92b...|2018-02-02 14:25:12|       Asia/Calcutta|      -1|com.picsart.studio|           null|   3.3.4|993000274|\n",
      "|          JO|663f4534-d587-44e...|663f4534-d587-44e...|photo_chooser_mul...|           ar| android|1517589105670_663...|2018-02-02 16:34:00|          Asia/Amman|      -1|com.picsart.studio|249347298015102|   3.3.5|993000283|\n",
      "|          AR|60ccd0c3-a4c1-430...|60ccd0c3-a4c1-430...|photo_chooser_alb...|           es| android|1517565701934_60c...|2018-02-02 10:02:06|America/Argentina...|      -1|com.picsart.studio|232829772098102|   3.3.4|993000273|\n",
      "|          ID|decfaad6-c6e6-420...|decfaad6-c6e6-420...|  create_editor_open|           in| android|1517566975484_dec...|2018-02-02 10:23:09|        Asia/Jakarta|      -1|com.picsart.studio|245406138000102| 3.2.3.2|993000201|\n",
      "|          RO|andy-51d70679-035...|f71951ae-a7cd-4db...|         editor_open|           ro| android|1517582901856_and...|2018-02-02 14:52:30|    Europe/Bucharest|     196|com.picsart.studio|232453440001102|   3.3.4|993000273|\n",
      "+------------+--------------------+--------------------+--------------------+-------------+--------+--------------------+-------------------+--------------------+--------+------------------+---------------+--------+---------+\n",
      "only showing top 20 rows\n",
      "\n"
     ]
    }
   ],
   "source": [
    "df.show()"
   ]
  },
  {
   "cell_type": "code",
   "execution_count": 35,
   "metadata": {},
   "outputs": [
    {
     "name": "stdout",
     "output_type": "stream",
     "text": [
      "+--------------------+-----+\n",
      "|          event_type|count|\n",
      "+--------------------+-----+\n",
      "|camera_subcategor...|   15|\n",
      "|    tool_enhance_try|   19|\n",
      "|draw_shape_type_s...|   21|\n",
      "|   editor_done_click|  456|\n",
      "|onboarding_toolti...|   89|\n",
      "|       edit_mask_try|  119|\n",
      "|instagram_share_b...|    2|\n",
      "|instagram_resize_...|    1|\n",
      "|   tool_adjust_apply|   56|\n",
      "|edit_lensflare_apply|   10|\n",
      "|          effect_try| 2966|\n",
      "|    tilt_shift_close|   15|\n",
      "|   edit_border_apply|   16|\n",
      "|onboarding_feed_open|   31|\n",
      "|suggest_people_fl...|    1|\n",
      "|onb_editor_edit_c...|    1|\n",
      "|rewarded_video_ad...|    1|\n",
      "|secondary_share_s...|   57|\n",
      "|instagram_hashtag...|    2|\n",
      "|        profile_edit|    1|\n",
      "+--------------------+-----+\n",
      "only showing top 20 rows\n",
      "\n"
     ]
    }
   ],
   "source": [
    "df.groupBy(\"event_type\").count().show()"
   ]
  },
  {
   "cell_type": "code",
   "execution_count": 43,
   "metadata": {},
   "outputs": [
    {
     "name": "stdout",
     "output_type": "stream",
     "text": [
      "+------------+--------------------+--------------------+--------------------+-------------+--------+--------------------+-------------------+-----------------+--------+------------------+---------------+-------+---------+-------------------+\n",
      "|country_code|           device_id|      advertising_id|          event_type|language_code|platform|          session_id|          timestamp|         timezone|duration|               app|        user_id|      v|  version|            leadCol|\n",
      "+------------+--------------------+--------------------+--------------------+-------------+--------+--------------------+-------------------+-----------------+--------+------------------+---------------+-------+---------+-------------------+\n",
      "|          DZ|dba7814a-0ae0-435...|dba7814a-0ae0-435...|account_chooser_d...|           fr| android|1518718045158_dba...|2018-02-15 18:11:03|   Africa/Algiers|      -1|com.picsart.studio|           null|3.2.3.4|993000243|2018-02-17 12:07:54|\n",
      "|          ID|andy-9d2539d5-788...|989dbcf7-7a4b-4ab...|account_chooser_d...|           in| android|1518869236760_and...|2018-02-17 12:07:54|     Asia/Jakarta|      -1|com.picsart.studio|           null|  3.1.0|972000000|2018-02-12 14:56:43|\n",
      "|          CO|120271fb-17f1-430...|120271fb-17f1-430...|account_chooser_d...|           es| android|1518447384064_120...|2018-02-12 14:56:43|   America/Bogota|      -1|com.picsart.studio|           null|  3.3.5|993000283|2018-02-27 23:58:58|\n",
      "|          IQ|7e02e4d7-e9e8-486...|7e02e4d7-e9e8-486...|account_chooser_d...|           ar| android|1519775863751_7e0...|2018-02-27 23:58:58|     Asia/Baghdad|      -1|com.picsart.studio|           null| 3.3.11|993000305|2018-02-12 01:59:41|\n",
      "|          TH|92df9d06-6ac8-42c...|92df9d06-6ac8-42c...|account_chooser_d...|           th| android|1518400768189_92d...|2018-02-12 01:59:41|     Asia/Bangkok|      -1|com.picsart.studio|255586005015102|  3.3.5|993000283|2018-02-03 23:45:25|\n",
      "|          BR|7313af55-2fe9-482...|7313af55-2fe9-482...|account_chooser_d...|           pt| android|1517701515844_731...|2018-02-03 23:45:25|America/Sao_Paulo|      -1|com.picsart.studio|           null|  3.3.5|993000283|2018-02-27 19:46:03|\n",
      "|          SA|75809a01-3acd-42f...|75809a01-3acd-42f...|account_chooser_d...|           ar| android|1519760755377_758...|2018-02-27 19:46:03|      Asia/Riyadh|      -1|com.picsart.studio|           null| 3.3.11|993000313|2018-03-02 11:43:47|\n",
      "|          IR|andy-3552cd8c-d74...|b344af21-495a-4c1...|account_chooser_d...|           en| android|1519991023853_and...|2018-03-02 11:43:47|      Asia/Tehran|      -1|com.picsart.studio|           null|  3.0.6|903000000|2018-02-16 00:53:19|\n",
      "|          ID|cd875c1d-ffda-47e...|cd875c1d-ffda-47e...|account_chooser_d...|           in| android|1518742305637_cd8...|2018-02-16 00:53:19|     Asia/Jakarta|      -1|com.picsart.studio|           null|3.2.3.1|993000192|2018-02-03 03:51:13|\n",
      "|          MY|andy-0f7147bf-e77...|8cf604b1-095d-4aa...|account_chooser_d...|           en| android|1517629792641_and...|2018-02-03 03:51:13|Asia/Kuala_Lumpur|      -1|com.picsart.studio|           null| 3.1.10|993000120|2018-02-23 11:23:48|\n",
      "|          ID|20d664ba-fc2e-4b2...|20d664ba-fc2e-4b2...|account_chooser_d...|           in| android|1519385017487_20d...|2018-02-23 11:23:48|     Asia/Jakarta|      -1|com.picsart.studio|           null|  3.3.8|993000292|2018-02-16 07:53:32|\n",
      "|          ID|8b1454ee-cd72-468...|8b1454ee-cd72-468...|account_chooser_d...|           in| android|1518767581096_8b1...|2018-02-16 07:53:32|     Asia/Jakarta|      -1|com.picsart.studio|           null|3.2.3.3|993000214|2018-02-23 19:52:11|\n",
      "|          SY|af59b7ed-ca0a-4d0...|af59b7ed-ca0a-4d0...|account_chooser_d...|           ar| android|1519415527835_af5...|2018-02-23 19:52:11|  Europe/Istanbul|      -1|com.picsart.studio|           null|  3.3.8|993000292|2018-02-08 03:44:44|\n",
      "|          BR|142f2376-36ef-4c5...|142f2376-36ef-4c5...|account_chooser_d...|           pt| android|1518061472505_142...|2018-02-08 03:44:44|    America/Belem|      -1|com.picsart.studio|           null|  3.3.5|993000283|2018-02-03 19:52:15|\n",
      "|          SA|d2c7ecb9-0e77-451...|d2c7ecb9-0e77-451...|account_chooser_d...|           ar| android|1517687525164_d2c...|2018-02-03 19:52:15|      Asia/Riyadh|      -1|com.picsart.studio|           null|  3.3.5|993000283|2018-02-02 02:30:42|\n",
      "|          TH|cff7184f-a9e7-4d7...|cff7184f-a9e7-4d7...|account_chooser_d...|           th| android|1517538612350_cff...|2018-02-02 02:30:42|     Asia/Bangkok|      -1|com.picsart.studio|           null|  3.3.5|993000283|2018-02-17 09:18:55|\n",
      "|          UA|d903c950-14c5-4c7...|d903c950-14c5-4c7...|account_chooser_d...|           ru| android|1518859073468_d90...|2018-02-17 09:18:55|      Europe/Kiev|      -1|com.picsart.studio|           null|  3.3.8|993000292|2018-02-25 03:34:08|\n",
      "|          BD|4e70cd8a-bd17-4d4...|4e70cd8a-bd17-4d4...|account_chooser_d...|           en| android|1519529619517_4e7...|2018-02-25 03:34:08|       Asia/Dhaka|      -1|com.picsart.studio|           null|  3.3.8|993000292|2018-02-28 07:45:10|\n",
      "|          KR|d7db9a56-8cf7-438...|d7db9a56-8cf7-438...|account_chooser_d...|           ko| android|1519803864647_d7d...|2018-02-28 07:45:10|       Asia/Seoul|      -1|com.picsart.studio|           null| 3.3.11|993000305|2018-02-03 10:20:41|\n",
      "|          BR|7410973d-9f35-46d...|7410973d-9f35-46d...|account_chooser_d...|           pt| android|1517653227506_741...|2018-02-03 10:20:41|America/Sao_Paulo|      -1|com.picsart.studio|           null|  3.3.5|993000283|2018-03-01 17:20:03|\n",
      "+------------+--------------------+--------------------+--------------------+-------------+--------+--------------------+-------------------+-----------------+--------+------------------+---------------+-------+---------+-------------------+\n",
      "only showing top 20 rows\n",
      "\n"
     ]
    },
    {
     "data": {
      "text/plain": [
       "\u001b[36mwindow\u001b[39m: \u001b[32mWindowSpec\u001b[39m = org.apache.spark.sql.expressions.WindowSpec@5ba957a4\n",
       "\u001b[36mleadCol\u001b[39m: \u001b[32mColumn\u001b[39m = lead(timestamp, 1, NULL) OVER (ORDER BY event_type ASC NULLS FIRST unspecifiedframe$())"
      ]
     },
     "execution_count": 43,
     "metadata": {},
     "output_type": "execute_result"
    }
   ],
   "source": [
    "val window = Window.orderBy(\"event_type\")\n",
    "val leadCol = lead(col(\"timestamp\"), 1).over(window)\n",
    "df.withColumn(\"leadCol\", leadCol).show()"
   ]
  },
  {
   "cell_type": "code",
   "execution_count": null,
   "metadata": {},
   "outputs": [],
   "source": [
    "import org.apache.spark.sql.expressions._\n",
    "import org.apache.spark.sql.functions._\n",
    "// df.withColumn(\"lead\", lead(col()))"
   ]
  },
  {
   "cell_type": "code",
   "execution_count": null,
   "metadata": {},
   "outputs": [],
   "source": [
    "val wy = org.apache.spark.sql.expressions.Window.orderBy(\"timestamp\")\n",
    "import org.apache.spark.sql.functions.lag\n",
    "val leadDf = df.withColumn(\"new_col\", lag(\"volume\", 1, 0).over(wy))"
   ]
  },
  {
   "cell_type": "code",
   "execution_count": null,
   "metadata": {},
   "outputs": [],
   "source": [
    "val w = org.apache.spark.sql.expressions.Window.orderBy(\"date\")  \n",
    "\n",
    "import org.apache.spark.sql.functions.lag\n",
    "\n",
    "val leadDf = df.withColumn(\"new_col\", lag(\"volume\", 1, 0).over(w))\n",
    "\n",
    "leadDf.show()\n"
   ]
  }
 ],
 "metadata": {
  "kernelspec": {
   "display_name": "Scala (2.11)",
   "language": "scala",
   "name": "scala211"
  },
  "language_info": {
   "codemirror_mode": "text/x-scala",
   "file_extension": ".scala",
   "mimetype": "text/x-scala",
   "name": "scala",
   "nbconvert_exporter": "script",
   "version": "2.11.12"
  }
 },
 "nbformat": 4,
 "nbformat_minor": 2
}
