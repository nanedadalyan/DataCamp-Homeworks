{
 "cells": [
  {
   "cell_type": "code",
   "execution_count": 1,
   "metadata": {},
   "outputs": [
    {
     "name": "stderr",
     "output_type": "stream",
     "text": [
      "Using Spark's default log4j profile: org/apache/spark/log4j-defaults.properties\n"
     ]
    },
    {
     "data": {
      "text/plain": [
       "\u001b[32mimport \u001b[39m\u001b[36m$ivy.$                                   \n",
       "\u001b[39m\r\n",
       "\u001b[32mimport \u001b[39m\u001b[36morg.apache.spark.sql._\n",
       "\u001b[39m\r\n",
       "\u001b[32mimport \u001b[39m\u001b[36morg.apache.log4j.{Level, Logger}\n",
       "\u001b[39m\r\n",
       "\u001b[32mimport \u001b[39m\u001b[36morg.joda.time.format.DateTimeFormat\n",
       "\u001b[39m\r\n",
       "\u001b[32mimport \u001b[39m\u001b[36morg.joda.time.{DateTime, Days}\n",
       "\u001b[39m\r\n",
       "\u001b[32mimport \u001b[39m\u001b[36morg.joda.time.format.DateTimeFormat\n",
       "\u001b[39m\r\n",
       "\u001b[32mimport \u001b[39m\u001b[36mjava.util.Properties\n",
       "\u001b[39m\r\n",
       "\u001b[32mimport \u001b[39m\u001b[36morg.apache.spark.sql.DataFrame\n",
       "\u001b[39m\r\n",
       "\u001b[32mimport \u001b[39m\u001b[36morg.apache.spark.sql.{DataFrame, SQLContext}\n",
       "\u001b[39m\r\n",
       "\u001b[32mimport \u001b[39m\u001b[36morg.apache.spark.{SparkConf, SparkContext}\n",
       "\u001b[39m\r\n",
       "\u001b[32mimport \u001b[39m\u001b[36morg.joda.time.{DateTime, Days}\n",
       "\u001b[39m\r\n",
       "\u001b[32mimport \u001b[39m\u001b[36morg.apache.spark.sql.{DataFrame, SparkSession}\n",
       "\u001b[39m\r\n",
       "\u001b[32mimport \u001b[39m\u001b[36morg.apache.spark.sql.SaveMode._\n",
       "\u001b[39m\r\n",
       "\u001b[32mimport \u001b[39m\u001b[36morg.apache.spark.sql.expressions.Window\n",
       "\u001b[39m\r\n",
       "\u001b[32mimport \u001b[39m\u001b[36morg.apache.spark.SparkConf\n",
       "\u001b[39m\r\n",
       "\u001b[32mimport \u001b[39m\u001b[36morg.apache.spark.sql.SparkSession\n",
       "\u001b[39m\r\n",
       "\u001b[32mimport \u001b[39m\u001b[36morg.json4s._\n",
       "\u001b[39m\r\n",
       "\u001b[32mimport \u001b[39m\u001b[36morg.json4s.jackson.JsonMethods._\n",
       "\u001b[39m\r\n",
       "\u001b[32mimport \u001b[39m\u001b[36morg.joda.time.format.DateTimeFormat\n",
       "\u001b[39m\r\n",
       "\u001b[32mimport \u001b[39m\u001b[36morg.joda.time.{DateTime, Days}\n",
       "\u001b[39m\r\n",
       "\u001b[36mformatter\u001b[39m: \u001b[32morg\u001b[39m.\u001b[32mjoda\u001b[39m.\u001b[32mtime\u001b[39m.\u001b[32mformat\u001b[39m.\u001b[32mDateTimeFormatter\u001b[39m = org.joda.time.format.DateTimeFormatter@5c76eacd\r\n",
       "\u001b[32mimport \u001b[39m\u001b[36mscala.util.Try\n",
       "\u001b[39m\r\n",
       "\u001b[32mimport \u001b[39m\u001b[36mjava.sql.{Connection, DriverManager, ResultSet}\n",
       "\u001b[39m\r\n",
       "\u001b[32mimport \u001b[39m\u001b[36morg.apache.spark.SparkContext  \n",
       "\u001b[39m\r\n",
       "\u001b[32mimport \u001b[39m\u001b[36morg.apache.spark.SparkConf\n",
       "\u001b[39m\r\n",
       "\u001b[32mimport \u001b[39m\u001b[36morg.apache.spark.sql.Column\n",
       "\u001b[39m\r\n",
       "\u001b[32mimport \u001b[39m\u001b[36morg.apache.spark.sql.types.{DataType, DateType, TimestampType}\n",
       "\u001b[39m\r\n",
       "\u001b[32mimport \u001b[39m\u001b[36morg.apache.spark.sql.functions._\n",
       "\u001b[39m\r\n",
       "\u001b[36mspark\u001b[39m: \u001b[32mSparkSession\u001b[39m = org.apache.spark.sql.SparkSession@5e8a19fd\r\n",
       "defined \u001b[32mfunction\u001b[39m \u001b[36msc\u001b[39m\r\n",
       "\u001b[32mimport \u001b[39m\u001b[36mspark.implicits._\u001b[39m"
      ]
     },
     "execution_count": 1,
     "metadata": {},
     "output_type": "execute_result"
    }
   ],
   "source": [
    "import $ivy.`org.apache.spark::spark-sql:2.4.3` \n",
    "import org.apache.spark.sql._\n",
    "import org.apache.log4j.{Level, Logger}\n",
    "Logger.getLogger(\"org\").setLevel(Level.OFF)\n",
    "import org.joda.time.format.DateTimeFormat\n",
    "import org.joda.time.{DateTime, Days}\n",
    "import org.joda.time.format.DateTimeFormat\n",
    "import java.util.Properties\n",
    "import org.apache.spark.sql.DataFrame\n",
    "import org.apache.spark.sql.{DataFrame, SQLContext}\n",
    "import org.apache.spark.{SparkConf, SparkContext}\n",
    "import org.joda.time.{DateTime, Days}\n",
    "import org.apache.spark.sql.{DataFrame, SparkSession}\n",
    "import org.apache.spark.sql.SaveMode._\n",
    "import org.apache.spark.sql.expressions.Window\n",
    "import org.apache.spark.SparkConf\n",
    "import org.apache.spark.sql.SparkSession\n",
    "import org.json4s._\n",
    "import org.json4s.jackson.JsonMethods._\n",
    "import org.joda.time.format.DateTimeFormat\n",
    "import org.joda.time.{DateTime, Days}\n",
    "val formatter = DateTimeFormat.forPattern(\"yyyy-MM-dd\")\n",
    "import scala.util.Try\n",
    "import java.sql.{Connection, DriverManager, ResultSet}\n",
    "import org.apache.spark.SparkContext  \n",
    "import org.apache.spark.SparkConf\n",
    "import org.apache.spark.sql.Column\n",
    "import org.apache.spark.sql.types.{DataType, DateType, TimestampType}\n",
    "import org.apache.spark.sql.functions._\n",
    "val spark = {\n",
    "  SparkSession.builder()\n",
    "    .master(\"local[*]\")\n",
    "    .getOrCreate()\n",
    "}\n",
    "def sc = spark.sparkContext\n",
    "import spark.implicits._"
   ]
  },
  {
   "cell_type": "code",
   "execution_count": 78,
   "metadata": {},
   "outputs": [
    {
     "name": "stdout",
     "output_type": "stream",
     "text": [
      "root\n",
      " |-- country_code: string (nullable = true)\n",
      " |-- timestamp: timestamp (nullable = true)\n",
      " |-- device_id: string (nullable = true)\n",
      " |-- event_type: string (nullable = true)\n",
      " |-- session_id: string (nullable = true)\n",
      " |-- user_id: long (nullable = true)\n",
      " |-- market: string (nullable = true)\n",
      " |-- tool: string (nullable = true)\n",
      " |-- height: integer (nullable = true)\n",
      " |-- width: integer (nullable = true)\n",
      "\n",
      "+------------+---------+---------+----------+----------+-------+------+----+------+-----+\n",
      "|country_code|timestamp|device_id|event_type|session_id|user_id|market|tool|height|width|\n",
      "+------------+---------+---------+----------+----------+-------+------+----+------+-----+\n",
      "+------------+---------+---------+----------+----------+-------+------+----+------+-----+\n",
      "\n"
     ]
    },
    {
     "data": {
      "text/html": [
       "<div class=\"jp-RenderedText\">\n",
       "<pre><code><span style=\"color: rgb(0, 187, 187)\"><span class=\"ansi-cyan-fg\">frame5</span></span>: <span style=\"color: rgb(0, 187, 0)\"><span class=\"ansi-green-fg\">DataFrame</span></span> = [Accept-Encoding: string, advertising_id: string ... 20 more fields]\r\n",
       "<span style=\"color: rgb(0, 187, 187)\"><span class=\"ansi-cyan-fg\">frame</span></span>: <span style=\"color: rgb(0, 187, 0)\"><span class=\"ansi-green-fg\">DataFrame</span></span> = [country_code: string, timestamp: timestamp ... 8 more fields]</code></pre>\n",
       "</div>"
      ],
      "text/plain": [
       "\u001b[36mframe5\u001b[39m: \u001b[32mDataFrame\u001b[39m = [Accept-Encoding: string, advertising_id: string ... 20 more fields]\r\n",
       "\u001b[36mframe\u001b[39m: \u001b[32mDataFrame\u001b[39m = [country_code: string, timestamp: timestamp ... 8 more fields]"
      ]
     },
     "metadata": {},
     "output_type": "display_data"
    }
   ],
   "source": [
    "var frame5 = spark.read.option(\"header\", true).option(\"inferSchema\",true).csv(\"apply_beautify.csv\")\n",
    "var frame = frame5.select(\"country_code\", \"timestamp\", \"device_id\", \"event_type\", \"session_id\", \"user_id\", \"market\", \"tool\", \n",
    "                        \"height\", \"width\")\n",
    "frame.printSchema()\n",
    "frame.filter(col(\"timestamp\")===\"2019-02-03 04:00:53.0\").show(3)"
   ]
  },
  {
   "cell_type": "code",
   "execution_count": 57,
   "metadata": {},
   "outputs": [
    {
     "name": "stdout",
     "output_type": "stream",
     "text": [
      "+-------------------------+\n",
      "|count(DISTINCT device_id)|\n",
      "+-------------------------+\n",
      "|                    11868|\n",
      "+-------------------------+\n",
      "\n"
     ]
    }
   ],
   "source": [
    "//1.Opens with faces photos: All?\n",
    "frame.agg(countDistinct(col(\"device_id\"))).show()"
   ]
  },
  {
   "cell_type": "code",
   "execution_count": 68,
   "metadata": {},
   "outputs": [
    {
     "name": "stdout",
     "output_type": "stream",
     "text": [
      "+---------------------------+\n",
      "|count_tools_containing_face|\n",
      "+---------------------------+\n",
      "|                       1490|\n",
      "+---------------------------+\n",
      "\n",
      "+--------------------------------+\n",
      "|count_tools_except_null_and_none|\n",
      "+--------------------------------+\n",
      "|                           11844|\n",
      "+--------------------------------+\n",
      "\n"
     ]
    }
   ],
   "source": [
    "//2.How many times face tool was applied.   \n",
    "//either tool primarily named \"face\"\n",
    "frame.filter(col(\"tool\").contains(\"face\")).agg(countDistinct(col(\"device_id\")).as(\"count_tools_containing_face\")).show()\n",
    "// or tool connected with face parts, for example \"teeth_whiten\". In this case all tools correspond except \"null\" and \"none\"\n",
    "frame.filter(col(\"tool\")=!=\"null\" || col(\"tool\")=!=\"none\").agg(countDistinct(col(\"device_id\")).\n",
    "                                            as(\"count_tools_except_null_and_none\")).show()"
   ]
  },
  {
   "cell_type": "code",
   "execution_count": 91,
   "metadata": {},
   "outputs": [
    {
     "name": "stdout",
     "output_type": "stream",
     "text": [
      "percent change in subscribed users' share is 9 percent\n"
     ]
    },
    {
     "data": {
      "text/plain": [
       "defined \u001b[32mfunction\u001b[39m \u001b[36msubscription_share_difference\u001b[39m"
      ]
     },
     "execution_count": 91,
     "metadata": {},
     "output_type": "execute_result"
    }
   ],
   "source": [
    "//import scala.math\n",
    "//3.Change (%) in subscribed users' share ?\n",
    "// find min date of the dataframe\n",
    "def subscription_share_difference(frame:DataFrame):Unit = {\n",
    "    var frame_1 = frame.withColumn(\"date\", to_date(frame(\"timestamp\")))\n",
    "var min_date = frame_1.select(\"date\").agg(min(col(\"date\"))).take(1)(0)(0).toString\n",
    "//find number of subscribed users and number of device ids (as total users), and calculate share of subscribed users\n",
    "var num_subs_users = frame_1.filter(col(\"date\")===min_date).agg(countDistinct(\"user_id\")).take(1)(0)(0).toString.toDouble\n",
    "var num_total_users = frame_1.filter(col(\"date\")===min_date).agg(countDistinct(\"device_id\")).take(1)(0)(0).toString.toDouble\n",
    "var share_sub_users_initial = num_subs_users*100/num_total_users\n",
    "/** all distinct users who did any action on any day after the first day are actual subscribed users (would be more correct\n",
    "if we had the data about the users who unsubscribed on those days)*/\n",
    "var num_subs_users_now = frame_1.filter(col(\"date\")>min_date).agg(countDistinct(\"user_id\")).take(1)(0)(0).toString.toDouble\n",
    "var num_total_users_now = frame_1.filter(col(\"date\")>min_date).agg(countDistinct(\"device_id\")).take(1)(0)(0).toString.toDouble\n",
    "var share_sub_users_now = num_subs_users_now*100/num_total_users_now\n",
    "var percent_change_in_shares = (share_sub_users_now-share_sub_users_initial)/share_sub_users_initial*100\n",
    "println(\"percent change in subscribed users' share is \"+ scala.math.round(percent_change_in_shares)+\" percent\")\n",
    "}\n",
    "subscription_share_difference(frame)"
   ]
  },
  {
   "cell_type": "code",
   "execution_count": 62,
   "metadata": {},
   "outputs": [
    {
     "data": {
      "text/plain": [
       "defined \u001b[32mfunction\u001b[39m \u001b[36mstickiness\u001b[39m\r\n",
       "defined \u001b[32mfunction\u001b[39m \u001b[36mavg_DAU\u001b[39m\r\n",
       "defined \u001b[32mfunction\u001b[39m \u001b[36mavg_MAU\u001b[39m\r\n",
       "defined \u001b[32mfunction\u001b[39m \u001b[36mgroup_count\u001b[39m\r\n",
       "\u001b[36mres61_4\u001b[39m: \u001b[32mDouble\u001b[39m = \u001b[32m25.0\u001b[39m"
      ]
     },
     "execution_count": 62,
     "metadata": {},
     "output_type": "execute_result"
    }
   ],
   "source": [
    "//4.beautify open-apply conversion (have only apply data)\n",
    "//5.stickiness for subscribed users only\n",
    "def stickiness(dataframe:DataFrame):Double = {\n",
    "        var frame = dataframe.withColumn(\"date\", to_date(dataframe(\"timestamp\"))).\n",
    "                    withColumn(\"month\", month(dataframe(\"timestamp\")))\n",
    "        var stickiness_raw = avg_DAU(frame)*100/avg_MAU(frame)       \n",
    "        var stickiness = scala.math.round(stickiness_raw)\n",
    "        stickiness\n",
    "    } \n",
    "def avg_DAU(dataframe:DataFrame):Double = {\n",
    "        var frame = dataframe.withColumn(\"date\", to_date(col(\"timestamp\")))\n",
    "        var avg_DAU_frame = group_count(frame, Array(\"date\"), Array(\"user_id\")).\n",
    "                            agg(round(avg(col(\"count_user_id\"))))  \n",
    "        var avg_dau = avg_DAU_frame.take(1)(0)(0).toString.toDouble\n",
    "        avg_dau\n",
    "    }\n",
    "def avg_MAU(dataframe:DataFrame):Double = {\n",
    "        var frame = dataframe.withColumn(\"date\", to_date(dataframe(\"timestamp\"))).\n",
    "                    withColumn(\"month\", month(dataframe(\"timestamp\")))\n",
    "        var avg_MAU_frame = group_count(frame, Array(\"month\"), Array(\"user_id\")).\n",
    "                            agg(round(avg(col(\"count_user_id\"))))  \n",
    "        var avg_mau = avg_MAU_frame.take(1)(0)(0).toString.toDouble\n",
    "        avg_mau\n",
    "    }\n",
    "def group_count(dataframe:DataFrame, group_col:Array[String], count:Array[String]):DataFrame = {\n",
    "        var count_col:Array[Column] = count.map(c => countDistinct(col(c)).as(\"count_\"+c))\n",
    "        var grouped_frame = dataframe.groupBy(group_col.head, group_col.tail:_*).agg(count_col.head, count_col.tail:_*)\n",
    "        grouped_frame\n",
    "    }\n",
    "stickiness(frame)"
   ]
  },
  {
   "cell_type": "code",
   "execution_count": 92,
   "metadata": {},
   "outputs": [
    {
     "data": {
      "text/plain": [
       "defined \u001b[32mfunction\u001b[39m \u001b[36mengagement\u001b[39m\r\n",
       "\u001b[36mres91_1\u001b[39m: \u001b[32mDouble\u001b[39m = \u001b[32m2.0\u001b[39m"
      ]
     },
     "execution_count": 92,
     "metadata": {},
     "output_type": "execute_result"
    }
   ],
   "source": [
    "/**6.Engagement: the more sessions a daily users does during a day, the more engaged he/she is, so we need to divide \n",
    "average number of sessions per day by average number of daily active users*/\n",
    "\n",
    "def engagement(dataframe:DataFrame):Double = {\n",
    "        var frame = dataframe.withColumn(\"date\", to_date(dataframe(\"timestamp\")))\n",
    "        var avg_dau = avg_DAU(frame)\n",
    "        var frame_1 = group_count(frame, Array(\"date\"), Array(\"session_id\")).\n",
    "                      agg(round(avg(col(\"count_session_id\"))))\n",
    "        var sessions_num = frame_1.take(1)(0)(0).toString.toDouble\n",
    "        var engagement = scala.math.round(sessions_num/avg_dau)\n",
    "        engagement\n",
    "    }\n",
    "engagement(frame)\n"
   ]
  },
  {
   "cell_type": "code",
   "execution_count": 96,
   "metadata": {},
   "outputs": [
    {
     "name": "stdout",
     "output_type": "stream",
     "text": [
      "+---------------------+---------------+--------------------+\n",
      "|tools_comb           |number_of_users|percent_of_all_users|\n",
      "+---------------------+---------------+--------------------+\n",
      "|null                 |11906          |100.0               |\n",
      "|skin_tone,skin_tone  |3              |0.03                |\n",
      "|eye_color,eye_color  |2              |0.02                |\n",
      "|hair_color,details   |2              |0.02                |\n",
      "|smooth,teeth_whiten  |2              |0.02                |\n",
      "|hair_color,hair_color|2              |0.02                |\n",
      "|details,face_fix     |1              |0.01                |\n",
      "+---------------------+---------------+--------------------+\n",
      "only showing top 7 rows\n",
      "\n"
     ]
    },
    {
     "data": {
      "text/plain": [
       "defined \u001b[32mfunction\u001b[39m \u001b[36mmost_used_tools_combinations\u001b[39m"
      ]
     },
     "execution_count": 96,
     "metadata": {},
     "output_type": "execute_result"
    }
   ],
   "source": [
    "//7.most used tools combinataions\n",
    "def most_used_tools_combinations(dataframe:DataFrame):Unit = {\n",
    "        \n",
    "        var window = Window.partitionBy(\"session_id\").orderBy(\"timestamp\")\n",
    "        var new_df = dataframe.\n",
    "        withColumn(\"tool_2\", lead(\"tool\", 1) over window).\n",
    "        withColumn(\"tools_comb\", concat(col(\"tool\"),lit(\",\"),col(\"tool_2\"))).select(\"session_id\",\"tools_comb\").\n",
    "        groupBy(\"tools_comb\").agg(countDistinct(\"session_id\").as(\"number_of_users\")).orderBy(col(\"number_of_users\").desc).\n",
    "        withColumn(\"percent_of_all_users\",round(col(\"number_of_users\")/dataframe.agg(countDistinct(\"session_id\")).\n",
    "        take(1)(0)(0).toString.toInt*100,2)).show(7, false)\n",
    "    }\n",
    "most_used_tools_combinations(frame)"
   ]
  },
  {
   "cell_type": "code",
   "execution_count": 98,
   "metadata": {},
   "outputs": [
    {
     "name": "stdout",
     "output_type": "stream",
     "text": [
      "+---------------+-------------+\n",
      "|           tool|count_user_id|\n",
      "+---------------+-------------+\n",
      "|      skin_tone|         1011|\n",
      "|       face_fix|          857|\n",
      "|           none|            1|\n",
      "|           auto|          543|\n",
      "|      eye_color|          431|\n",
      "|           null|           10|\n",
      "|     hair_color|          829|\n",
      "|   teeth_whiten|          333|\n",
      "|red_eye_removal|          132|\n",
      "|         smooth|          775|\n",
      "|        details|          791|\n",
      "|  auto_beautify|           31|\n",
      "|    blemish_fix|          950|\n",
      "+---------------+-------------+\n",
      "\n"
     ]
    }
   ],
   "source": [
    "//8. applies per tool frequencies [subscribed users]\n",
    "group_count(frame, Array(\"tool\"), Array(\"user_id\")).show()"
   ]
  },
  {
   "cell_type": "code",
   "execution_count": null,
   "metadata": {},
   "outputs": [],
   "source": []
  },
  {
   "cell_type": "code",
   "execution_count": null,
   "metadata": {},
   "outputs": [],
   "source": []
  },
  {
   "cell_type": "code",
   "execution_count": null,
   "metadata": {},
   "outputs": [],
   "source": []
  },
  {
   "cell_type": "code",
   "execution_count": null,
   "metadata": {},
   "outputs": [],
   "source": []
  },
  {
   "cell_type": "code",
   "execution_count": null,
   "metadata": {},
   "outputs": [],
   "source": []
  },
  {
   "cell_type": "code",
   "execution_count": null,
   "metadata": {},
   "outputs": [],
   "source": []
  },
  {
   "cell_type": "code",
   "execution_count": null,
   "metadata": {},
   "outputs": [],
   "source": []
  },
  {
   "cell_type": "code",
   "execution_count": null,
   "metadata": {},
   "outputs": [],
   "source": []
  },
  {
   "cell_type": "code",
   "execution_count": null,
   "metadata": {},
   "outputs": [],
   "source": []
  },
  {
   "cell_type": "code",
   "execution_count": null,
   "metadata": {},
   "outputs": [],
   "source": []
  },
  {
   "cell_type": "code",
   "execution_count": null,
   "metadata": {},
   "outputs": [],
   "source": []
  },
  {
   "cell_type": "code",
   "execution_count": null,
   "metadata": {},
   "outputs": [],
   "source": []
  },
  {
   "cell_type": "code",
   "execution_count": null,
   "metadata": {},
   "outputs": [],
   "source": []
  },
  {
   "cell_type": "code",
   "execution_count": null,
   "metadata": {},
   "outputs": [],
   "source": []
  },
  {
   "cell_type": "code",
   "execution_count": null,
   "metadata": {},
   "outputs": [],
   "source": []
  },
  {
   "cell_type": "code",
   "execution_count": null,
   "metadata": {},
   "outputs": [],
   "source": []
  },
  {
   "cell_type": "code",
   "execution_count": null,
   "metadata": {},
   "outputs": [],
   "source": []
  },
  {
   "cell_type": "code",
   "execution_count": null,
   "metadata": {},
   "outputs": [],
   "source": []
  },
  {
   "cell_type": "code",
   "execution_count": null,
   "metadata": {},
   "outputs": [],
   "source": []
  },
  {
   "cell_type": "code",
   "execution_count": null,
   "metadata": {},
   "outputs": [],
   "source": []
  },
  {
   "cell_type": "code",
   "execution_count": null,
   "metadata": {},
   "outputs": [],
   "source": []
  },
  {
   "cell_type": "code",
   "execution_count": null,
   "metadata": {},
   "outputs": [],
   "source": []
  },
  {
   "cell_type": "code",
   "execution_count": null,
   "metadata": {},
   "outputs": [],
   "source": []
  },
  {
   "cell_type": "code",
   "execution_count": null,
   "metadata": {},
   "outputs": [],
   "source": []
  },
  {
   "cell_type": "code",
   "execution_count": null,
   "metadata": {},
   "outputs": [],
   "source": []
  },
  {
   "cell_type": "code",
   "execution_count": null,
   "metadata": {},
   "outputs": [],
   "source": []
  },
  {
   "cell_type": "code",
   "execution_count": null,
   "metadata": {},
   "outputs": [],
   "source": []
  },
  {
   "cell_type": "code",
   "execution_count": null,
   "metadata": {},
   "outputs": [],
   "source": []
  },
  {
   "cell_type": "code",
   "execution_count": null,
   "metadata": {},
   "outputs": [],
   "source": []
  },
  {
   "cell_type": "code",
   "execution_count": null,
   "metadata": {},
   "outputs": [],
   "source": []
  },
  {
   "cell_type": "code",
   "execution_count": null,
   "metadata": {},
   "outputs": [],
   "source": []
  },
  {
   "cell_type": "code",
   "execution_count": null,
   "metadata": {},
   "outputs": [],
   "source": []
  },
  {
   "cell_type": "code",
   "execution_count": null,
   "metadata": {},
   "outputs": [],
   "source": []
  },
  {
   "cell_type": "code",
   "execution_count": null,
   "metadata": {},
   "outputs": [],
   "source": []
  },
  {
   "cell_type": "code",
   "execution_count": null,
   "metadata": {},
   "outputs": [],
   "source": []
  },
  {
   "cell_type": "code",
   "execution_count": null,
   "metadata": {},
   "outputs": [],
   "source": []
  },
  {
   "cell_type": "code",
   "execution_count": null,
   "metadata": {},
   "outputs": [],
   "source": []
  },
  {
   "cell_type": "code",
   "execution_count": null,
   "metadata": {},
   "outputs": [],
   "source": []
  },
  {
   "cell_type": "code",
   "execution_count": null,
   "metadata": {},
   "outputs": [],
   "source": []
  },
  {
   "cell_type": "code",
   "execution_count": null,
   "metadata": {},
   "outputs": [],
   "source": []
  },
  {
   "cell_type": "code",
   "execution_count": null,
   "metadata": {},
   "outputs": [],
   "source": []
  },
  {
   "cell_type": "code",
   "execution_count": null,
   "metadata": {},
   "outputs": [],
   "source": []
  },
  {
   "cell_type": "code",
   "execution_count": null,
   "metadata": {},
   "outputs": [],
   "source": []
  },
  {
   "cell_type": "code",
   "execution_count": null,
   "metadata": {},
   "outputs": [],
   "source": []
  },
  {
   "cell_type": "code",
   "execution_count": null,
   "metadata": {},
   "outputs": [],
   "source": []
  }
 ],
 "metadata": {
  "kernelspec": {
   "display_name": "Scala",
   "language": "scala",
   "name": "scala"
  },
  "language_info": {
   "codemirror_mode": "text/x-scala",
   "file_extension": ".scala",
   "mimetype": "text/x-scala",
   "name": "scala",
   "nbconvert_exporter": "script",
   "version": "2.12.10"
  }
 },
 "nbformat": 4,
 "nbformat_minor": 2
}
