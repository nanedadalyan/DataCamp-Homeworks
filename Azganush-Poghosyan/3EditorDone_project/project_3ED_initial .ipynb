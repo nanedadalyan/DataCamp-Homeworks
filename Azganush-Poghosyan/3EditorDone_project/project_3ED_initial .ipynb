{
 "cells": [
  {
   "cell_type": "code",
   "execution_count": 1,
   "metadata": {
    "scrolled": false
   },
   "outputs": [],
   "source": [
    "import pyspark\n",
    "import datetime\n",
    "from pyspark.sql.functions import *\n",
    "spark = pyspark.sql.SparkSession.builder.getOrCreate()\n",
    "import pandas as pd\n",
    "import numpy as np\n",
    "df_1 = spark.read.csv(\"project data_3ED.csv\", header = True).drop(\"advertising_id\", \"language_code\", \"timezone\",\n",
    "            \"duration\", \"app\", \"v\", \"version\", \"user_id\", \"platform\", \"country_code\")\n",
    "df_a = spark.read.csv(\"active_days_data_for 3ED_project\", header = True).drop(\"version\", \"user_id\",\n",
    "                                                        \"country_code\", \"platform\")"
   ]
  },
  {
   "cell_type": "code",
   "execution_count": 177,
   "metadata": {},
   "outputs": [
    {
     "name": "stdout",
     "output_type": "stream",
     "text": [
      "+--------------------+--------------------+--------------------+--------------------+\n",
      "|           device_id|          event_type|          session_id|           timestamp|\n",
      "+--------------------+--------------------+--------------------+--------------------+\n",
      "|e60b50fc-f706-4ab...|      edit_item_open|1573819337328_e60...|2019-11-15T12:09:...|\n",
      "|e60b50fc-f706-4ab...|    tool_cutout_open|1573819337328_e60...|2019-11-15T12:09:...|\n",
      "|e60b50fc-f706-4ab...|  banner_ad_response|1573819337328_e60...|2019-11-15T12:09:...|\n",
      "|e60b50fc-f706-4ab...|    face_shape_click|1573819337328_e60...|2019-11-15T12:09:...|\n",
      "|e60b50fc-f706-4ab...|face_shape_fail_t...|1573819337328_e60...|2019-11-15T12:09:...|\n",
      "+--------------------+--------------------+--------------------+--------------------+\n",
      "only showing top 5 rows\n",
      "\n"
     ]
    }
   ],
   "source": [
    "#df_1.show(5)"
   ]
  },
  {
   "cell_type": "code",
   "execution_count": 5,
   "metadata": {},
   "outputs": [],
   "source": [
    "#df_1.select(\"device_id\").distinct().count()\n",
    "#df_1.select(\"timestamp\").agg(min(col(\"timestamp\")), max(col(\"timestamp\")))\n",
    "df_2 = df_1.select(\"device_id\", \"event_type\").withColumn(\"ed\", when(col(\"event_type\")==\"editor_done\", 1).otherwise(0))\n",
    "df_3 = df_2.groupBy(\"device_id\").agg(sum(\"ed\").alias(\"num_ed\")).withColumn(\"ed_count\", when(col(\"num_ed\")==0, lit(\"no_ed\")).\\\n",
    "       when(col(\"num_ed\").between(1, 2), lit(\"ed_1_2\")).when(col(\"num_ed\")==3, lit(\"ed_3\")).when(col(\"num_ed\")>3, lit(\">3\")))\n",
    "df_3 = df_3.drop(\"num_ed\")\n",
    "#df_3.show()\n",
    "df_4 = df_1.join(df_3, df_1.device_id == df_3.device_id, \"left\").drop(df_3.device_id)\n",
    "#df_4.show()"
   ]
  },
  {
   "cell_type": "code",
   "execution_count": 6,
   "metadata": {},
   "outputs": [],
   "source": [
    "#df_active_days.printSchema()\n",
    "#df_a.show(5)\n",
    "#df_a.select(\"device_id\").distinct().count()\n",
    "#df_a.select(\"active_date\").agg(min(col(\"active_date\")), max(col(\"active_date\"))).show()\n",
    "df_a1 = df_a.filter(col(\"active_date\")>=\"2019-11-15\")\n",
    "df_a2 = df_a1.withColumn(\"install_day\", to_date(\"install_timestamp\")).withColumn(\"day_diff\", datediff(col(\"active_date\"),\\\n",
    "        col(\"install_day\"))).withColumn(\"active_week\", when(col(\"day_diff\").between(1, 7), lit(1)).\\\n",
    "        when(col(\"day_diff\").between(8, 14), lit(2)).when(col(\"day_diff\").between(15, 21), lit(3)).\\\n",
    "        when(col(\"day_diff\")>22, lit(4)))\n",
    "#df_a2.show()\n",
    "df_a3 = df_a2.drop(\"active_date\", \"install_day\", \"day_diff\")\n",
    "df_a4 = df_a3.groupBy(\"device_id\", \"install_timestamp\").agg(collect_set(col(\"active_week\")).alias(\"set\"))\n",
    "df_a5 = df_a4.withColumn(\"ret_level\", when(size(col(\"set\"))==0, lit(\"no_ret\")).when(size(col(\"set\")).\\\n",
    "        between(1, 2), lit(\"low_ret\")).when(size(col(\"set\")).between(3, 4), lit(\"high_ret\"))).drop(\"set\")\n",
    "#df_a5.show(5)"
   ]
  },
  {
   "cell_type": "code",
   "execution_count": 7,
   "metadata": {},
   "outputs": [],
   "source": [
    "df_new = df_4.join(df_a5, df_4.device_id == df_a5.device_id, \"left\").drop(df_a5.device_id).drop(\"install_timestamp\")\n",
    "#df_new.show()\n",
    "df_ses_time = df_new.select(\"session_id\", \"timestamp\").groupBy(\"session_id\").agg(min(col(\"timestamp\")), max(col(\"timestamp\")))\n",
    "df_new = df_new.withColumn(\"new_timestamp\", to_timestamp(col(\"timestamp\"))).drop(\"timestamp\").\\\n",
    "        withColumnRenamed(\"new_timestamp\", \"timestamp\")\n",
    "df_8 = df_new.select(\"session_id\", \"timestamp\").groupBy(\"session_id\").agg(min(col(\"timestamp\")).alias(\"session_start\"),\\\n",
    "        max(col(\"timestamp\")).alias(\"session_end\")).withColumn(\"session_duration\",\\\n",
    "        unix_timestamp(col(\"session_end\"))-unix_timestamp(col(\"session_start\")))\n",
    "df_8 = df_8.drop(\"session_start\", \"session_end\")\n",
    "df_final = df_new.join(df_8, df_new.session_id==df_8.session_id, \"left\").drop(df_8.session_id)"
   ]
  },
  {
   "cell_type": "code",
   "execution_count": 13,
   "metadata": {},
   "outputs": [],
   "source": [
    "df_fin = df_final.persist()"
   ]
  },
  {
   "cell_type": "markdown",
   "metadata": {},
   "source": [
    "retention level and count of ed:  comparing tools"
   ]
  },
  {
   "cell_type": "code",
   "execution_count": 22,
   "metadata": {},
   "outputs": [
    {
     "name": "stdout",
     "output_type": "stream",
     "text": [
      "+--------+---------+----------------+\n",
      "|ed_count|ret_level|count(device_id)|\n",
      "+--------+---------+----------------+\n",
      "|      >3| high_ret|             219|\n",
      "|      >3|  low_ret|             264|\n",
      "|      >3|   no_ret|             115|\n",
      "|  ed_1_2| high_ret|             213|\n",
      "|  ed_1_2|  low_ret|             369|\n",
      "|  ed_1_2|   no_ret|             338|\n",
      "|    ed_3| high_ret|              55|\n",
      "|    ed_3|  low_ret|             100|\n",
      "|    ed_3|   no_ret|              59|\n",
      "|   no_ed| high_ret|             287|\n",
      "|   no_ed|  low_ret|             550|\n",
      "|   no_ed|   no_ret|             669|\n",
      "+--------+---------+----------------+\n",
      "\n"
     ]
    }
   ],
   "source": [
    "df_tools = df_fin.select(\"device_id\", \"event_type\", \"ed_count\", \"ret_level\").persist()\n",
    "#df_tools.select(\"device_id\").distinct().count()\n",
    "df_t = df_tools.groupBy(\"ed_count\", \"ret_level\").agg(countDistinct(col(\"device_id\")))\n",
    "df_t.sort(\"ed_count\", \"ret_level\").show()"
   ]
  },
  {
   "cell_type": "code",
   "execution_count": 41,
   "metadata": {},
   "outputs": [
    {
     "name": "stdout",
     "output_type": "stream",
     "text": [
      "+---------+-----------------------------------+----------------+\n",
      "|ret_level|event_type                         |count(device_id)|\n",
      "+---------+-----------------------------------+----------------+\n",
      "|high_ret |app_install                        |55              |\n",
      "|high_ret |app_load                           |55              |\n",
      "|high_ret |editor_done                        |55              |\n",
      "|high_ret |app_open                           |55              |\n",
      "|high_ret |create_flow_open                   |54              |\n",
      "|high_ret |create_flow_cards_load             |54              |\n",
      "|high_ret |editor_open                        |54              |\n",
      "|high_ret |edit_item_open                     |53              |\n",
      "|high_ret |app_settings_used                  |53              |\n",
      "|high_ret |registration_open                  |53              |\n",
      "|high_ret |create_flow_folder_check           |53              |\n",
      "|high_ret |create_flow_item_view              |53              |\n",
      "|high_ret |create_flow_card_view              |53              |\n",
      "|high_ret |my_network_open                    |52              |\n",
      "|high_ret |subscription_status                |52              |\n",
      "|high_ret |registration_done                  |52              |\n",
      "|high_ret |registration_page_open             |52              |\n",
      "|high_ret |subscription_offer_open            |51              |\n",
      "|high_ret |internal_permission_action         |50              |\n",
      "|high_ret |edit_top_menu_item_click           |50              |\n",
      "|high_ret |subscription_offer_close           |50              |\n",
      "|high_ret |permission_dialog_action           |49              |\n",
      "|high_ret |create_flow_item_click             |49              |\n",
      "|high_ret |experiment_participate             |48              |\n",
      "|high_ret |banner_ad_request                  |48              |\n",
      "|high_ret |banner_ad_response                 |48              |\n",
      "|high_ret |permission_dialog_open             |48              |\n",
      "|high_ret |tabbar_click                       |46              |\n",
      "|high_ret |editor_done_click                  |44              |\n",
      "|high_ret |photo_chooser_album_open           |42              |\n",
      "|high_ret |first_editor_done                  |41              |\n",
      "|high_ret |object_export                      |41              |\n",
      "|high_ret |ribbon_open                        |40              |\n",
      "|high_ret |onboarding_tooltip_load            |40              |\n",
      "|high_ret |card_view                          |40              |\n",
      "|high_ret |secondary_share_screen_open        |40              |\n",
      "|high_ret |photo_chooser_photo_click          |38              |\n",
      "|high_ret |photo_upload                       |36              |\n",
      "|high_ret |ribbon_action                      |35              |\n",
      "|high_ret |native_ad_request                  |34              |\n",
      "|high_ret |native_ad_response                 |34              |\n",
      "|high_ret |editor_close                       |34              |\n",
      "|high_ret |add_object_open                    |34              |\n",
      "|high_ret |effect_open                        |34              |\n",
      "|high_ret |effect_category_open               |34              |\n",
      "|high_ret |internal_debug                     |33              |\n",
      "|high_ret |photo_view                         |33              |\n",
      "|high_ret |share_screen_button_click          |33              |\n",
      "|high_ret |empty_state_view_open              |30              |\n",
      "|high_ret |create_editor_open                 |29              |\n",
      "|high_ret |effect_try                         |29              |\n",
      "|high_ret |picsart_share_page_open            |29              |\n",
      "|high_ret |photo_chooser_open                 |29              |\n",
      "|high_ret |add_object_apply                   |28              |\n",
      "|high_ret |add_object_screen_action           |28              |\n",
      "|high_ret |sign_up                            |27              |\n",
      "|high_ret |registration_step                  |27              |\n",
      "|high_ret |share_action_sheet_open            |27              |\n",
      "|high_ret |save_private_actions               |26              |\n",
      "|high_ret |my_network_close                   |26              |\n",
      "|high_ret |create_flow_see_all                |26              |\n",
      "|high_ret |interstitial_ad_request            |25              |\n",
      "|high_ret |interstitial_ad_response           |25              |\n",
      "|high_ret |second_editor_done                 |24              |\n",
      "|high_ret |create_flow_close                  |24              |\n",
      "|high_ret |registration_skip_click            |23              |\n",
      "|high_ret |photo_chooser_multiselect_open     |23              |\n",
      "|high_ret |edit_beautify_open                 |22              |\n",
      "|high_ret |fb_connection_button_click         |22              |\n",
      "|high_ret |edit_beautify_close                |21              |\n",
      "|high_ret |sign_up_page_open                  |20              |\n",
      "|high_ret |effect_apply                       |20              |\n",
      "|high_ret |edit_sticker_category_open         |20              |\n",
      "|high_ret |other_destinations_button_click    |19              |\n",
      "|high_ret |add_object_action                  |19              |\n",
      "|high_ret |photo_chooser_multiselect_add_click|18              |\n",
      "|high_ret |native_ad_view                     |18              |\n",
      "|high_ret |interstitial_ad_view               |18              |\n",
      "|high_ret |ios_dynamic_font_size              |18              |\n",
      "|high_ret |tool_crop_open                     |17              |\n",
      "|high_ret |edit_beautify_actual_try           |17              |\n",
      "|high_ret |interstitial_ad_close              |17              |\n",
      "|high_ret |quick_brush_page_close             |17              |\n",
      "|high_ret |shop_item_click                    |16              |\n",
      "|high_ret |subscription_button_click          |16              |\n",
      "|high_ret |smash_widget_visible               |16              |\n",
      "|high_ret |tool_crop_apply                    |15              |\n",
      "|high_ret |edit_brush_try                     |15              |\n",
      "|high_ret |editor_project_state_save          |15              |\n",
      "|high_ret |secondary_share_screen_done        |15              |\n",
      "|high_ret |search_icon_click                  |15              |\n",
      "|high_ret |third_editor_done                  |14              |\n",
      "|high_ret |onboarding_tutorial_open           |14              |\n",
      "|high_ret |onboarding_tutorial_view           |14              |\n",
      "|high_ret |edit_sticker_try                   |14              |\n",
      "|high_ret |edit_history_create                |14              |\n",
      "|high_ret |add_object_item_click              |13              |\n",
      "|high_ret |search_landing_page_shown          |13              |\n",
      "|high_ret |edit_beautify_tool_apply           |13              |\n",
      "|high_ret |edit_photo_apply                   |13              |\n",
      "|high_ret |edit_beautify_apply                |13              |\n",
      "|high_ret |my_network_page_load               |13              |\n",
      "|high_ret |login                              |13              |\n",
      "|high_ret |edit_square_fit_apply              |13              |\n",
      "|high_ret |subscription_tooltip_button_view   |13              |\n",
      "|high_ret |edit_brush_apply                   |13              |\n",
      "|high_ret |edit_text_insert_open              |12              |\n",
      "|high_ret |edit_sticker_apply                 |12              |\n",
      "|high_ret |registration_field_click           |12              |\n",
      "|high_ret |tool_cutout_open                   |12              |\n",
      "|high_ret |shop_item_use                      |11              |\n",
      "|high_ret |registration_field_fill            |11              |\n",
      "|high_ret |edit_mask_category_open            |11              |\n",
      "|high_ret |onboarding_card_view               |11              |\n",
      "|high_ret |private_share_click                |11              |\n",
      "|high_ret |card_action                        |10              |\n",
      "|high_ret |search_result_seen                 |10              |\n",
      "|high_ret |profile_open                       |10              |\n",
      "|high_ret |explore_open                       |10              |\n",
      "|high_ret |registration_next_click            |10              |\n",
      "|high_ret |popup_action                       |9               |\n",
      "|high_ret |onboarding_tooltip_close           |9               |\n",
      "|high_ret |draw_done                          |9               |\n",
      "|high_ret |registration_email_screen_close    |9               |\n",
      "|high_ret |search_click                       |9               |\n",
      "|high_ret |popup_open                         |9               |\n",
      "|high_ret |create_account_button_click        |9               |\n",
      "|high_ret |onboarding_tooltip_click           |9               |\n",
      "|high_ret |draw_open                          |9               |\n",
      "|high_ret |edit_text_insert_apply             |9               |\n",
      "|high_ret |empty_state_view_action            |9               |\n",
      "|high_ret |collage_open                       |9               |\n",
      "|high_ret |edit_history_upload                |9               |\n",
      "|high_ret |onboarding_tutorial_close          |9               |\n",
      "|high_ret |tool_cutout_selection_close        |9               |\n",
      "|high_ret |collage_close                      |8               |\n",
      "|high_ret |items_view                         |8               |\n",
      "|high_ret |face_shape_click                   |8               |\n",
      "|high_ret |square_fit_close                   |8               |\n",
      "|high_ret |tool_cutout_selection_apply        |8               |\n",
      "|high_ret |edit_frame_category_open           |8               |\n",
      "|high_ret |onboarding_tooltip_view            |8               |\n",
      "|high_ret |edit_background_try                |7               |\n",
      "|high_ret |tags_widget_shown                  |7               |\n",
      "|high_ret |edit_mask_try                      |7               |\n",
      "|high_ret |edit_text_apply                    |7               |\n",
      "|high_ret |edit_beautify_subtool_try          |7               |\n",
      "|high_ret |template_subcategory_open          |6               |\n",
      "|high_ret |edit_beautify_add_eye_open         |6               |\n",
      "|high_ret |subscription_secondary_click       |6               |\n",
      "|high_ret |share_back_click                   |6               |\n",
      "|high_ret |tool_cutout_apply                  |6               |\n",
      "|high_ret |banner_item_view                   |5               |\n",
      "|high_ret |pull_to_refresh                    |5               |\n",
      "|high_ret |smash_widget_shown                 |5               |\n",
      "|high_ret |subscription_payment_init          |5               |\n",
      "|high_ret |edit_text_font_try                 |5               |\n",
      "|high_ret |sign_in_button_click               |5               |\n",
      "|high_ret |onboarding_request                 |5               |\n",
      "|high_ret |subscription_payment_status        |5               |\n",
      "|high_ret |tool_remove_apply                  |5               |\n",
      "|high_ret |sticker_upload                     |5               |\n",
      "|high_ret |login_page_open                    |5               |\n",
      "|high_ret |native_ad_click                    |5               |\n",
      "|high_ret |quick_brush_category_change        |5               |\n",
      "|high_ret |edit_beautify_add_eye_close        |4               |\n",
      "|high_ret |create_collage_frame_category_open |4               |\n",
      "|high_ret |remix_upload                       |4               |\n",
      "|high_ret |edit_background_open               |4               |\n",
      "|high_ret |editor_draw_deep_link_click        |4               |\n",
      "|high_ret |contests_open                      |4               |\n",
      "|high_ret |create_collage_frame_open          |4               |\n",
      "|high_ret |login_fail_action                  |4               |\n",
      "|high_ret |find_artists_first_page_open       |4               |\n",
      "|high_ret |tool_cutout_close                  |4               |\n",
      "|high_ret |edit_border_apply                  |4               |\n",
      "|high_ret |draw_color_change                  |4               |\n",
      "|high_ret |tags_widget_visible                |4               |\n",
      "|high_ret |edit_sticker_search_open           |3               |\n",
      "|high_ret |push_received                      |3               |\n",
      "|high_ret |tool_stretch_close                 |3               |\n",
      "|high_ret |tool_remove_try                    |3               |\n",
      "|high_ret |tool_fliprotate_apply              |3               |\n",
      "|high_ret |edit_beautify_subtool_apply        |3               |\n",
      "|high_ret |photo_open                         |3               |\n",
      "|high_ret |tool_fliprotate_try                |3               |\n",
      "|high_ret |share_suggested_views              |3               |\n",
      "|high_ret |quick_brush_setting_change         |3               |\n",
      "|high_ret |camera_category_switch             |3               |\n",
      "|high_ret |shop_item_install                  |3               |\n",
      "|high_ret |draw_shape_apply                   |3               |\n",
      "|high_ret |onboarding_tutorial_click          |3               |\n",
      "|high_ret |edit_frame_try                     |3               |\n",
      "|high_ret |sticker_save                       |3               |\n",
      "|high_ret |tool_motion_apply                  |3               |\n",
      "|high_ret |draw_undo                          |3               |\n",
      "|high_ret |onboarding_sign_up_page_open       |3               |\n",
      "|high_ret |editor_project_state_recovery      |3               |\n",
      "|high_ret |subscription_validation            |3               |\n",
      "|high_ret |tool_clone_close                   |3               |\n",
      "+---------+-----------------------------------+----------------+\n",
      "only showing top 200 rows\n",
      "\n"
     ]
    }
   ],
   "source": [
    "df_t1 = df_tools.filter(col(\"ed_count\")==\"ed_3\").groupBy(\"ret_level\", \"event_type\").agg(countDistinct(col(\"device_id\")))\n",
    "df_t1.sort(asc(\"ret_level\"), desc(\"count(device_id)\")).show(200, False)"
   ]
  },
  {
   "cell_type": "markdown",
   "metadata": {},
   "source": [
    "convert to pandas dataframes"
   ]
  },
  {
   "cell_type": "code",
   "execution_count": 88,
   "metadata": {
    "scrolled": true
   },
   "outputs": [],
   "source": [
    "#n_df = df_tools.toPandas()\n",
    "df_high = df_t1.filter(col(\"ret_level\")==\"high_ret\").select(\"event_type\", \"count(device_id)\")\n",
    "df_low = df_t1.filter(col(\"ret_level\")==\"low_ret\").select(\"event_type\", \"count(device_id)\")\n",
    "df_no = df_t1.filter(col(\"ret_level\")==\"no_ret\").select(\"event_type\", \"count(device_id)\")\n",
    "pd_high =df_high.toPandas()\n",
    "pd_low =df_low.toPandas()\n",
    "pd_no =df_no.toPandas()\n",
    "pd_high = pd_high.sort_values(by=['count(device_id)'], ascending=False)\n",
    "pd_low = pd_low.sort_values(by=['count(device_id)'], ascending=False)\n",
    "pd_no = pd_no.sort_values(by=['count(device_id)'], ascending=False)"
   ]
  },
  {
   "cell_type": "code",
   "execution_count": 95,
   "metadata": {},
   "outputs": [
    {
     "data": {
      "image/png": "[encoded data removed]",
      "text/plain": [
       "<Figure size 432x288 with 1 Axes>"
      ]
     },
     "metadata": {
      "needs_background": "light"
     },
     "output_type": "display_data"
    }
   ],
   "source": [
    "df_t2 = df_tools.filter(col(\"ed_count\")==\"no_ed\").groupBy(\"ret_level\", \"event_type\").agg(countDistinct(col(\"device_id\")))\n",
    "df_t2_high = df_t2.filter(col(\"ret_level\")==\"high_ret\").select(\"event_type\", \"count(device_id)\")\n",
    "pd_t2_high = df_t2_high.toPandas()\n",
    "pd_t2_high = pd_t2_high.sort_values(by=['count(device_id)'], ascending=False)\n",
    "pd_t2_high_1 = pd_t2_high[:20]\n",
    "plt_t2_high= pd_t2_high_1.plot(kind = \"bar\", x = \"event_type\", y = \"count(device_id)\")"
   ]
  },
  {
   "cell_type": "markdown",
   "metadata": {},
   "source": [
    "create bar charts showing count of \"device_id\"s by event type"
   ]
  },
  {
   "cell_type": "code",
   "execution_count": 91,
   "metadata": {},
   "outputs": [
    {
     "data": {
      "image/png": "[encoded data removed]",
      "text/plain": [
       "<Figure size 432x288 with 1 Axes>"
      ]
     },
     "metadata": {
      "needs_background": "light"
     },
     "output_type": "display_data"
    },
    {
     "data": {
      "image/png": "[encoded data removed]",
      "text/plain": [
       "<Figure size 432x288 with 1 Axes>"
      ]
     },
     "metadata": {
      "needs_background": "light"
     },
     "output_type": "display_data"
    },
    {
     "data": {
      "image/png": "[encoded data removed]",
      "text/plain": [
       "<Figure size 432x288 with 1 Axes>"
      ]
     },
     "metadata": {
      "needs_background": "light"
     },
     "output_type": "display_data"
    }
   ],
   "source": [
    "import matplotlib.pyplot as plt\n",
    "pd_high_1 = pd_high[20:40]\n",
    "plt_high= pd_high_1.plot(kind = \"bar\", x = \"event_type\", y = \"count(device_id)\")\n",
    "pd_low_1 = pd_low[20:40]\n",
    "plt_low = pd_low_1.plot(kind = \"bar\", x = \"event_type\", y = \"count(device_id)\")\n",
    "pd_no_1 = pd_no[20:40]\n",
    "plt_no = pd_no_1.plot(kind = \"bar\", x = \"event_type\", y = \"count(device_id)\")"
   ]
  },
  {
   "cell_type": "markdown",
   "metadata": {},
   "source": [
    "! need separate data on tool names"
   ]
  },
  {
   "cell_type": "markdown",
   "metadata": {},
   "source": [
    "retention level and count of ed: comparing session durations"
   ]
  },
  {
   "cell_type": "code",
   "execution_count": 97,
   "metadata": {},
   "outputs": [],
   "source": [
    "df_dur = df_fin.select(\"device_id\", \"session_duration\", \"ed_count\", \"ret_level\").persist()"
   ]
  },
  {
   "cell_type": "code",
   "execution_count": 110,
   "metadata": {},
   "outputs": [
    {
     "data": {
      "text/html": [
       "<div>\n",
       "<style scoped>\n",
       "    .dataframe tbody tr th:only-of-type {\n",
       "        vertical-align: middle;\n",
       "    }\n",
       "\n",
       "    .dataframe tbody tr th {\n",
       "        vertical-align: top;\n",
       "    }\n",
       "\n",
       "    .dataframe thead th {\n",
       "        text-align: right;\n",
       "    }\n",
       "</style>\n",
       "<table border=\"1\" class=\"dataframe\">\n",
       "  <thead>\n",
       "    <tr style=\"text-align: right;\">\n",
       "      <th></th>\n",
       "      <th>ed_count</th>\n",
       "      <th>ret_level</th>\n",
       "      <th>count(device_id)</th>\n",
       "      <th>avg(session_duration)</th>\n",
       "    </tr>\n",
       "  </thead>\n",
       "  <tbody>\n",
       "    <tr>\n",
       "      <th>0</th>\n",
       "      <td>&gt;3</td>\n",
       "      <td>high_ret</td>\n",
       "      <td>219</td>\n",
       "      <td>1051.964474</td>\n",
       "    </tr>\n",
       "    <tr>\n",
       "      <th>1</th>\n",
       "      <td>&gt;3</td>\n",
       "      <td>low_ret</td>\n",
       "      <td>264</td>\n",
       "      <td>1007.618533</td>\n",
       "    </tr>\n",
       "    <tr>\n",
       "      <th>2</th>\n",
       "      <td>&gt;3</td>\n",
       "      <td>no_ret</td>\n",
       "      <td>115</td>\n",
       "      <td>1174.662247</td>\n",
       "    </tr>\n",
       "    <tr>\n",
       "      <th>3</th>\n",
       "      <td>ed_1_2</td>\n",
       "      <td>high_ret</td>\n",
       "      <td>213</td>\n",
       "      <td>1303.939338</td>\n",
       "    </tr>\n",
       "    <tr>\n",
       "      <th>4</th>\n",
       "      <td>ed_1_2</td>\n",
       "      <td>low_ret</td>\n",
       "      <td>369</td>\n",
       "      <td>1131.480072</td>\n",
       "    </tr>\n",
       "    <tr>\n",
       "      <th>5</th>\n",
       "      <td>ed_1_2</td>\n",
       "      <td>no_ret</td>\n",
       "      <td>338</td>\n",
       "      <td>947.963356</td>\n",
       "    </tr>\n",
       "    <tr>\n",
       "      <th>6</th>\n",
       "      <td>ed_3</td>\n",
       "      <td>high_ret</td>\n",
       "      <td>55</td>\n",
       "      <td>611.465137</td>\n",
       "    </tr>\n",
       "    <tr>\n",
       "      <th>7</th>\n",
       "      <td>ed_3</td>\n",
       "      <td>low_ret</td>\n",
       "      <td>100</td>\n",
       "      <td>1021.907726</td>\n",
       "    </tr>\n",
       "    <tr>\n",
       "      <th>8</th>\n",
       "      <td>ed_3</td>\n",
       "      <td>no_ret</td>\n",
       "      <td>59</td>\n",
       "      <td>794.254663</td>\n",
       "    </tr>\n",
       "    <tr>\n",
       "      <th>9</th>\n",
       "      <td>no_ed</td>\n",
       "      <td>high_ret</td>\n",
       "      <td>287</td>\n",
       "      <td>735.954298</td>\n",
       "    </tr>\n",
       "    <tr>\n",
       "      <th>10</th>\n",
       "      <td>no_ed</td>\n",
       "      <td>low_ret</td>\n",
       "      <td>550</td>\n",
       "      <td>1059.238287</td>\n",
       "    </tr>\n",
       "    <tr>\n",
       "      <th>11</th>\n",
       "      <td>no_ed</td>\n",
       "      <td>no_ret</td>\n",
       "      <td>669</td>\n",
       "      <td>998.822649</td>\n",
       "    </tr>\n",
       "  </tbody>\n",
       "</table>\n",
       "</div>"
      ],
      "text/plain": [
       "   ed_count ret_level  count(device_id)  avg(session_duration)\n",
       "0        >3  high_ret               219            1051.964474\n",
       "1        >3   low_ret               264            1007.618533\n",
       "2        >3    no_ret               115            1174.662247\n",
       "3    ed_1_2  high_ret               213            1303.939338\n",
       "4    ed_1_2   low_ret               369            1131.480072\n",
       "5    ed_1_2    no_ret               338             947.963356\n",
       "6      ed_3  high_ret                55             611.465137\n",
       "7      ed_3   low_ret               100            1021.907726\n",
       "8      ed_3    no_ret                59             794.254663\n",
       "9     no_ed  high_ret               287             735.954298\n",
       "10    no_ed   low_ret               550            1059.238287\n",
       "11    no_ed    no_ret               669             998.822649"
      ]
     },
     "execution_count": 110,
     "metadata": {},
     "output_type": "execute_result"
    }
   ],
   "source": [
    "df_dur_1 = df_dur.groupBy(\"ed_count\", \"ret_level\").agg(countDistinct(col(\"device_id\")), avg(col(\"session_duration\"))).\\\n",
    "           sort(\"ed_count\", \"ret_level\")\n",
    "pd_dur_high = df_dur_1.toPandas()\n",
    "pd_dur_high"
   ]
  },
  {
   "cell_type": "markdown",
   "metadata": {},
   "source": [
    "in case of users doing 3 ed there is no strong positive correlation between session duration between\n",
    "highly active and no active users, the same for users who didn't do ed at all, so most probably \n",
    "session duration is not an important explanatory variable for our case.\n"
   ]
  },
  {
   "cell_type": "code",
   "execution_count": null,
   "metadata": {},
   "outputs": [],
   "source": []
  },
  {
   "cell_type": "code",
   "execution_count": null,
   "metadata": {},
   "outputs": [],
   "source": []
  },
  {
   "cell_type": "code",
   "execution_count": null,
   "metadata": {},
   "outputs": [],
   "source": []
  },
  {
   "cell_type": "code",
   "execution_count": null,
   "metadata": {},
   "outputs": [],
   "source": []
  },
  {
   "cell_type": "code",
   "execution_count": null,
   "metadata": {},
   "outputs": [],
   "source": []
  },
  {
   "cell_type": "code",
   "execution_count": null,
   "metadata": {},
   "outputs": [],
   "source": []
  },
  {
   "cell_type": "code",
   "execution_count": null,
   "metadata": {},
   "outputs": [],
   "source": []
  },
  {
   "cell_type": "code",
   "execution_count": null,
   "metadata": {},
   "outputs": [],
   "source": []
  },
  {
   "cell_type": "code",
   "execution_count": null,
   "metadata": {},
   "outputs": [],
   "source": []
  },
  {
   "cell_type": "code",
   "execution_count": null,
   "metadata": {},
   "outputs": [],
   "source": []
  },
  {
   "cell_type": "code",
   "execution_count": null,
   "metadata": {},
   "outputs": [],
   "source": []
  },
  {
   "cell_type": "code",
   "execution_count": null,
   "metadata": {},
   "outputs": [],
   "source": []
  },
  {
   "cell_type": "code",
   "execution_count": null,
   "metadata": {},
   "outputs": [],
   "source": []
  },
  {
   "cell_type": "code",
   "execution_count": null,
   "metadata": {},
   "outputs": [],
   "source": []
  },
  {
   "cell_type": "code",
   "execution_count": null,
   "metadata": {},
   "outputs": [],
   "source": []
  },
  {
   "cell_type": "code",
   "execution_count": null,
   "metadata": {},
   "outputs": [],
   "source": []
  },
  {
   "cell_type": "code",
   "execution_count": null,
   "metadata": {},
   "outputs": [],
   "source": []
  },
  {
   "cell_type": "code",
   "execution_count": null,
   "metadata": {},
   "outputs": [],
   "source": []
  },
  {
   "cell_type": "code",
   "execution_count": null,
   "metadata": {},
   "outputs": [],
   "source": []
  },
  {
   "cell_type": "code",
   "execution_count": null,
   "metadata": {},
   "outputs": [],
   "source": []
  },
  {
   "cell_type": "code",
   "execution_count": null,
   "metadata": {},
   "outputs": [],
   "source": []
  },
  {
   "cell_type": "code",
   "execution_count": null,
   "metadata": {},
   "outputs": [],
   "source": []
  },
  {
   "cell_type": "code",
   "execution_count": null,
   "metadata": {},
   "outputs": [],
   "source": []
  },
  {
   "cell_type": "code",
   "execution_count": null,
   "metadata": {},
   "outputs": [],
   "source": []
  },
  {
   "cell_type": "code",
   "execution_count": null,
   "metadata": {},
   "outputs": [],
   "source": []
  },
  {
   "cell_type": "code",
   "execution_count": null,
   "metadata": {},
   "outputs": [],
   "source": []
  },
  {
   "cell_type": "code",
   "execution_count": null,
   "metadata": {},
   "outputs": [],
   "source": []
  },
  {
   "cell_type": "code",
   "execution_count": null,
   "metadata": {},
   "outputs": [],
   "source": []
  },
  {
   "cell_type": "code",
   "execution_count": null,
   "metadata": {},
   "outputs": [],
   "source": []
  },
  {
   "cell_type": "code",
   "execution_count": null,
   "metadata": {},
   "outputs": [],
   "source": []
  },
  {
   "cell_type": "code",
   "execution_count": null,
   "metadata": {},
   "outputs": [],
   "source": []
  },
  {
   "cell_type": "code",
   "execution_count": null,
   "metadata": {},
   "outputs": [],
   "source": []
  },
  {
   "cell_type": "code",
   "execution_count": null,
   "metadata": {},
   "outputs": [],
   "source": []
  },
  {
   "cell_type": "code",
   "execution_count": null,
   "metadata": {},
   "outputs": [],
   "source": []
  },
  {
   "cell_type": "code",
   "execution_count": null,
   "metadata": {},
   "outputs": [],
   "source": []
  },
  {
   "cell_type": "code",
   "execution_count": null,
   "metadata": {},
   "outputs": [],
   "source": []
  },
  {
   "cell_type": "code",
   "execution_count": null,
   "metadata": {},
   "outputs": [],
   "source": []
  },
  {
   "cell_type": "code",
   "execution_count": null,
   "metadata": {},
   "outputs": [],
   "source": []
  },
  {
   "cell_type": "code",
   "execution_count": null,
   "metadata": {},
   "outputs": [],
   "source": []
  },
  {
   "cell_type": "code",
   "execution_count": null,
   "metadata": {},
   "outputs": [],
   "source": []
  },
  {
   "cell_type": "code",
   "execution_count": null,
   "metadata": {},
   "outputs": [],
   "source": []
  },
  {
   "cell_type": "code",
   "execution_count": null,
   "metadata": {},
   "outputs": [],
   "source": []
  },
  {
   "cell_type": "code",
   "execution_count": null,
   "metadata": {},
   "outputs": [],
   "source": []
  },
  {
   "cell_type": "code",
   "execution_count": null,
   "metadata": {},
   "outputs": [],
   "source": []
  },
  {
   "cell_type": "code",
   "execution_count": null,
   "metadata": {},
   "outputs": [],
   "source": []
  },
  {
   "cell_type": "code",
   "execution_count": null,
   "metadata": {},
   "outputs": [],
   "source": []
  },
  {
   "cell_type": "code",
   "execution_count": null,
   "metadata": {},
   "outputs": [],
   "source": []
  },
  {
   "cell_type": "code",
   "execution_count": null,
   "metadata": {},
   "outputs": [],
   "source": []
  },
  {
   "cell_type": "code",
   "execution_count": null,
   "metadata": {},
   "outputs": [],
   "source": []
  },
  {
   "cell_type": "code",
   "execution_count": null,
   "metadata": {},
   "outputs": [],
   "source": []
  },
  {
   "cell_type": "code",
   "execution_count": null,
   "metadata": {},
   "outputs": [],
   "source": []
  },
  {
   "cell_type": "code",
   "execution_count": null,
   "metadata": {},
   "outputs": [],
   "source": []
  },
  {
   "cell_type": "code",
   "execution_count": null,
   "metadata": {},
   "outputs": [],
   "source": []
  },
  {
   "cell_type": "code",
   "execution_count": null,
   "metadata": {},
   "outputs": [],
   "source": []
  },
  {
   "cell_type": "code",
   "execution_count": null,
   "metadata": {},
   "outputs": [],
   "source": []
  },
  {
   "cell_type": "code",
   "execution_count": null,
   "metadata": {},
   "outputs": [],
   "source": []
  },
  {
   "cell_type": "code",
   "execution_count": null,
   "metadata": {},
   "outputs": [],
   "source": []
  },
  {
   "cell_type": "code",
   "execution_count": null,
   "metadata": {},
   "outputs": [],
   "source": []
  },
  {
   "cell_type": "code",
   "execution_count": null,
   "metadata": {},
   "outputs": [],
   "source": []
  },
  {
   "cell_type": "code",
   "execution_count": null,
   "metadata": {},
   "outputs": [],
   "source": []
  },
  {
   "cell_type": "code",
   "execution_count": null,
   "metadata": {},
   "outputs": [],
   "source": []
  },
  {
   "cell_type": "code",
   "execution_count": null,
   "metadata": {},
   "outputs": [],
   "source": []
  },
  {
   "cell_type": "code",
   "execution_count": null,
   "metadata": {},
   "outputs": [],
   "source": []
  },
  {
   "cell_type": "code",
   "execution_count": null,
   "metadata": {},
   "outputs": [],
   "source": []
  },
  {
   "cell_type": "code",
   "execution_count": null,
   "metadata": {},
   "outputs": [],
   "source": []
  },
  {
   "cell_type": "code",
   "execution_count": null,
   "metadata": {},
   "outputs": [],
   "source": []
  },
  {
   "cell_type": "code",
   "execution_count": null,
   "metadata": {},
   "outputs": [],
   "source": []
  },
  {
   "cell_type": "code",
   "execution_count": null,
   "metadata": {},
   "outputs": [],
   "source": []
  },
  {
   "cell_type": "code",
   "execution_count": null,
   "metadata": {},
   "outputs": [],
   "source": []
  },
  {
   "cell_type": "code",
   "execution_count": null,
   "metadata": {},
   "outputs": [],
   "source": []
  },
  {
   "cell_type": "code",
   "execution_count": null,
   "metadata": {},
   "outputs": [],
   "source": []
  },
  {
   "cell_type": "code",
   "execution_count": null,
   "metadata": {},
   "outputs": [],
   "source": []
  },
  {
   "cell_type": "code",
   "execution_count": null,
   "metadata": {},
   "outputs": [],
   "source": []
  },
  {
   "cell_type": "code",
   "execution_count": null,
   "metadata": {},
   "outputs": [],
   "source": []
  },
  {
   "cell_type": "code",
   "execution_count": null,
   "metadata": {},
   "outputs": [],
   "source": []
  },
  {
   "cell_type": "code",
   "execution_count": null,
   "metadata": {},
   "outputs": [],
   "source": []
  },
  {
   "cell_type": "code",
   "execution_count": 26,
   "metadata": {},
   "outputs": [],
   "source": [
    "#PySpark general functions\n",
    "def group_count(dataframe, group_col, count):\n",
    "    count_col = count.map(lambda c: countDistinct(col(c)).alias(\"count_\"+c))\n",
    "    grouped_frame = dataframe.groupBy(group_col.head, group_col.tail).agg(count_col.head, count_col.tail)\n",
    "    return grouped_frame\n",
    "def avg_session_duration(dataframe):\n",
    "    frame = dataframe.withColumn(\"date\", to_date(dataframe(\"timestamp\")))\n",
    "    session_id_col = dataframe(\"session_id\")\n",
    "    time_col = dataframe(\"timestamp\")\n",
    "    frame_filtered = dataframe.select(\"session_id\", \"timestamp\").distinct()\n",
    "    new_frame = frame_filtered.groupBy(session_id_col).agg(min(time_col).alias(\"session_start\"), max(time_col).\\\n",
    "                alias(\"session_end\")).withColumn(\"duration_seconds\",\\\n",
    "                unix_timestamp(col(\"session_end\"))-unix_timestamp(col(\"session_start\"))) \n",
    "    avg_duration = new_frame.agg(round(avg(col(\"duration_seconds\")))).take(1)(0)(0).toString.toDouble\n",
    "    return avg_duration\n",
    "        \n",
    "avg_session_duration()   \n",
    "    "
   ]
  },
  {
   "cell_type": "code",
   "execution_count": null,
   "metadata": {},
   "outputs": [],
   "source": [
    "def DAU(dataframe:DataFrame, day:String):Int = {\n",
    "        var frame = dataframe.withColumn(\"date\", to_date(col(\"timestamp\")))\n",
    "        var date_col = frame(\"date\")\n",
    "        var device_id_col = frame(\"device_id\")\n",
    "        var dau = frame.filter(date_col===day).agg(countDistinct(device_id_col)).take(1)(0)(0).toString.toInt\n",
    "        dau\n",
    "    }\n",
    "def avg_DAU(dataframe:DataFrame):Double = {\n",
    "        var frame = dataframe.withColumn(\"date\", to_date(col(\"timestamp\")))\n",
    "        var avg_DAU_frame = group_count(frame, Array(\"date\"), Array(\"device_id\")).\n",
    "                            agg(round(avg(col(\"count_device_id\"))))  \n",
    "        var avg_dau = avg_DAU_frame.take(1)(0)(0).toString.toDouble\n",
    "        avg_dau\n",
    "    }\n",
    "def MAU(dataframe:DataFrame, month_num:String):Int = {\n",
    "        var frame = dataframe.withColumn(\"date\", to_date(dataframe(\"timestamp\"))).\n",
    "                       withColumn(\"month\", month(dataframe(\"timestamp\")))                \n",
    "        var month_col = frame(\"month\")\n",
    "        var device_id_col = frame(\"device_id\")\n",
    "        var mau = frame.filter(month_col===month_num).agg(countDistinct(device_id_col)).take(1)(0)(0).toString.toInt\n",
    "        mau\n",
    "    }\n",
    "def avg_MAU(dataframe:DataFrame):Double = {\n",
    "        var frame = dataframe.withColumn(\"date\", to_date(dataframe(\"timestamp\"))).\n",
    "                    withColumn(\"month\", month(dataframe(\"timestamp\")))\n",
    "        var avg_MAU_frame = group_count(frame, Array(\"month\"), Array(\"device_id\")).\n",
    "                            agg(round(avg(col(\"count_device_id\"))))  \n",
    "        var avg_mau = avg_MAU_frame.take(1)(0)(0).toString.toDouble\n",
    "        avg_mau\n",
    "    }\n",
    "def YAU(dataframe:DataFrame, year_num:String):Int = {\n",
    "        var frame = dataframe.withColumn(\"date\", to_date(dataframe(\"timestamp\"))).\n",
    "                    withColumn(\"month\", month(dataframe(\"timestamp\"))).withColumn(\"year\", year(dataframe(\"timestamp\"))) \n",
    "        var year_col = frame(\"year\")\n",
    "        var device_id_col = frame(\"device_id\")\n",
    "        var yau = frame.filter(year_col===year_num).agg(countDistinct(device_id_col)).take(1)(0)(0).toString.toInt\n",
    "        yau\n",
    "    }\n",
    "def avg_YAU(dataframe:DataFrame):Double = {\n",
    "        var frame = dataframe.withColumn(\"date\", to_date(dataframe(\"timestamp\"))).\n",
    "                    withColumn(\"month\", month(dataframe(\"timestamp\"))).withColumn(\"year\", year(dataframe(\"timestamp\")))\n",
    "        var avg_YAU_frame = group_count(frame, Array(\"year\"), Array(\"device_id\")).\n",
    "                            agg(round(avg(col(\"count_device_id\"))))  \n",
    "        var avg_yau = avg_YAU_frame.take(1)(0)(0).toString.toDouble\n",
    "        avg_yau\n",
    "    }\n",
    "def stickiness(dataframe:DataFrame):Double = {\n",
    "        var frame = dataframe.withColumn(\"date\", to_date(dataframe(\"timestamp\"))).\n",
    "                    withColumn(\"month\", month(dataframe(\"timestamp\")))\n",
    "        var stickiness_raw = avg_DAU(frame)*100/avg_MAU(frame)       \n",
    "        var stickiness = scala.math.round(stickiness_raw)\n",
    "        stickiness\n",
    "    } \n",
    "def engagement(dataframe:DataFrame):Double = {\n",
    "        var frame = dataframe.withColumn(\"date\", to_date(dataframe(\"timestamp\")))\n",
    "        var avg_dau = avg_DAU(frame)\n",
    "        var frame_1 = group_count(frame, Array(\"date\"), Array(\"session_id\")).\n",
    "                      agg(round(avg(col(\"count_session_id\"))))\n",
    "        var sessions_num = frame_1.take(1)(0)(0).toString.toDouble\n",
    "        var avg_sessions_per_dau = scala.math.round(sessions_num/avg_dau)\n",
    "        avg_sessions_per_dau\n",
    "    }\n",
    "def avg_session_duration(dataframe:DataFrame):Double = {\n",
    "        frame = dataframe.withColumn(\"date\", to_date(dataframe(\"timestamp\")))\n",
    "        session_id_col = frame(\"session_id\")\n",
    "        time_col = frame(\"timestamp\")\n",
    "        frame_filtered = frame.select(\"session_id\", \"timestamp\").distinct()\n",
    "        new_frame = frame_filtered.groupBy(session_id_col).agg(min(time_col).as(\"session_start\"), max(time_col).\n",
    "                        as(\"session_end\")).withColumn(\"duration_seconds\", unix_timestamp(col(\"session_end\"))-\n",
    "                        unix_timestamp(col(\"session_start\"))) \n",
    "        avg_duration = new_frame.agg(round(avg(col(\"duration_seconds\")))).take(1)(0)(0).toString.toDouble\n",
    "   \n",
    "       avg_duration\n",
    "        \n",
    "   }\n",
    "\n",
    "def retention(dataframe:DataFrame, number_of_days:Int):Unit = {\n",
    "        var frame = dataframe.withColumn(\"date\", to_date(dataframe(\"timestamp\")))\n",
    "        var device_id_col = frame(\"device_id\")\n",
    "        var date_col = frame(\"date\")\n",
    "        var df_1 = group_count(frame, Array(\"date\"), Array(\"device_id\")).withColumnRenamed(\"date\", \"date1\")\n",
    "        var df_2 = frame.select(\"date\", \"device_id\").groupBy(date_col).agg(collect_set(device_id_col).as(\"device_id_set\"))\n",
    "        var df_join = df_1.join(df_2, df_1(\"date1\") <=> df_2(\"date\"), \"inner\")\n",
    "        var window_spec = Window.orderBy(date_col)\n",
    "        var df_3 = df_join.withColumn(\"set_after_days\", lead(\"device_id_set\", number_of_days) over window_spec)\n",
    "        var df_4 = df_3.withColumn(\"common_id_set\", array_intersect(col(\"device_id_set\"), col(\"set_after_days\")))\n",
    "        var df_5 = df_4.withColumn(\"count_ret_ids\", size(col(\"common_id_set\"))).withColumn(\"retention_rate\",\n",
    "                    round(col(\"count_ret_ids\")*100/col(\"count_device_id\"), 2)).drop(\"date1\", \"device_id_set\", \n",
    "                    \"set_after_days\", \"common_id_set\")\n",
    "        var avg_ret_rate = df_5.agg(round(avg(col(\"retention_rate\")), 1).as(\"avg_retention_rate_over_time_period\"))\n",
    "        println(avg_ret_rate.show())\n",
    "    }\n",
    "\n",
    "def conversion_rate(dataframe:DataFrame, stage1:String, stage2:String):Unit = {\n",
    "     var frame = dataframe.select(\"event_type\", \"session_id\", \"timestamp\")\n",
    "     var event_col = frame(\"event_type\")\n",
    "     var window_spec = Window.partitionBy(\"session_id\").orderBy(\"timestamp\")\n",
    "     var count_stage_1 = group_count(frame.filter(event_col === stage1), Array(\"event_type\"), Array(\"session_id\")).\n",
    "                         take(1)(0)(1).toString.toDouble\n",
    "     val df_event = frame.filter(event_col === stage1 || event_col === stage2).\n",
    "                    withColumn(\"lead\", lead(event_col, 1) over window_spec).filter(event_col === stage1).\n",
    "                    withColumn(\"concat_col\", concat(event_col, lit(\" , \"), col(\"lead\")))\n",
    "     val count_stage_2 = group_count(df_event.filter(col(\"concat_col\") === stage1+\" , \"+stage2), \n",
    "                       Array(\"concat_col\"), Array(\"session_id\")).take(1)(0)(1).toString.toInt\n",
    "     val conversion_rate = count_stage_2*100/count_stage_1\n",
    "                                      \n",
    "     println(count_stage_1)\n",
    "     println(count_stage_2)\n",
    "     println(\"conversion rate: \"+conversion_rate)\n",
    " }\n",
    "\n",
    "def most_popular_five_consecutive_events(dataframe:DataFrame):Unit = {\n",
    "        \n",
    "        var window = Window.partitionBy(\"session_id\").orderBy(\"timestamp\")\n",
    "        var new_df = dataframe.\n",
    "        withColumn(\"event_2\", lead(\"event_type\", 1) over window).withColumn(\"event_3\", lead(\"event_type\", 2) over window).\n",
    "        withColumn(\"event_4\", lead(\"event_type\", 3) over window).withColumn(\"event_5\", lead(\"event_type\", 4) over window).\n",
    "        withColumn(\"5_events\", concat(col(\"event_type\"),lit(\",\"),col(\"event_2\"),lit(\",\"),col(\"event_3\"),\n",
    "        lit(\",\"),col(\"event_4\"),lit(\",\"),col(\"event_5\"))).select(\"session_id\",\"5_events\").groupBy(\"5_events\").\n",
    "        agg(countDistinct(\"session_id\").as(\"number_of_users\")).orderBy(col(\"number_of_users\").desc).\n",
    "        withColumn(\"percent_of_all_users\",round(col(\"number_of_users\")/dataframe.agg(countDistinct(\"session_id\")).\n",
    "        take(1)(0)(0).toString.toInt*100,2)).show(7, false)\n",
    "    }\n",
    "def event_description(dataframe:DataFrame, new_event:String):Unit = {\n",
    "        var frame = dataframe.withColumn(\"date\", to_date(dataframe(\"timestamp\")))\n",
    "        var event_col = frame(\"event_type\")\n",
    "        var frame_1 = frame.filter(event_col === new_event)\n",
    "        var frame_2 = group_count(frame_1, Array(\"date\"), Array(\"device_id\"))\n",
    "        var description = frame_2.describe()\n",
    "        var quantiles = frame_2.stat.approxQuantile(\"count_device_id\", Array(0.25, 0.5, 0.75), 0.0)\n",
    "        var Q1 = quantiles(0)\n",
    "        var median = quantiles(1)\n",
    "        var Q3 = quantiles(2)\n",
    "        var IQR = Q3-Q1\n",
    "        var lower_outlier_range = Q1 - 1.5*IQR\n",
    "        var upper_outlier_range = Q3 + 1.5*IQR\n",
    "        var outliers = frame_2.filter(col(\"count_device_id\")<=lower_outlier_range || col(\"count_device_id\")>= \n",
    "                       upper_outlier_range).withColumnRenamed(\"date\", \"outlier_date\").withColumnRenamed(\"count_device_id\",\n",
    "                       \"outliers\")\n",
    "        println(description.show())\n",
    "        println(\"Q1: \"+Q1+\"\\n\"+\"median: \"+median+\"\\n\"+\"Q3: \"+Q3)\n",
    "        println(outliers.show(30))\n",
    "        \n",
    "    }\n",
    "def most_popular_ten_events(dataframe:DataFrame, time_start:String, time_end:String):Unit = {\n",
    "        var frame = dataframe.withColumn(\"date\", to_date(dataframe(\"timestamp\")))\n",
    "        var date_col = frame(\"date\")\n",
    "        var frame_1 = frame.filter(date_col>=to_date(lit(time_start)) && date_col<=to_date(lit(time_end)))\n",
    "        var frame_2 = group_count(frame_1, Array(\"event_type\"), Array(\"session_id\")).sort(desc(\"count_session_id\")).limit(10)\n",
    "        println(frame_2.show(false))\n",
    "    }\n",
    "def most_used_tools_combinations(dataframe:DataFrame):Unit = {\n",
    "        \n",
    "        var window = Window.partitionBy(\"session_id\").orderBy(\"timestamp\")\n",
    "        var new_df = dataframe.\n",
    "        withColumn(\"tool_2\", lead(\"tool\", 1) over window).\n",
    "        withColumn(\"tools_comb\", concat(col(\"tool\"),lit(\",\"),col(\"tool_2\"))).select(\"session_id\",\"tools_comb\").\n",
    "        groupBy(\"tools_comb\").agg(countDistinct(\"session_id\").as(\"number_of_users\")).orderBy(col(\"number_of_users\").desc).\n",
    "        withColumn(\"percent_of_all_users\",round(col(\"number_of_users\")/dataframe.agg(countDistinct(\"session_id\")).\n",
    "        take(1)(0)(0).toString.toInt*100,2)).show(7, false)\n",
    "    }\n"
   ]
  }
 ],
 "metadata": {
  "kernelspec": {
   "display_name": "Python 3",
   "language": "python",
   "name": "python3"
  },
  "language_info": {
   "codemirror_mode": {
    "name": "ipython",
    "version": 3
   },
   "file_extension": ".py",
   "mimetype": "text/x-python",
   "name": "python",
   "nbconvert_exporter": "python",
   "pygments_lexer": "ipython3",
   "version": "3.7.1"
  }
 },
 "nbformat": 4,
 "nbformat_minor": 2
}
