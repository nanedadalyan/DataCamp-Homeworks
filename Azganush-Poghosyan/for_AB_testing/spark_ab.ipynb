{
 "cells": [
  {
   "cell_type": "code",
   "execution_count": 3,
   "metadata": {},
   "outputs": [
    {
     "data": {
      "text/plain": [
       "\u001b[32mimport \u001b[39m\u001b[36m$ivy.$                                   \n",
       "\u001b[39m\r\n",
       "\u001b[32mimport \u001b[39m\u001b[36morg.apache.spark.sql._\n",
       "\u001b[39m\r\n",
       "\u001b[32mimport \u001b[39m\u001b[36morg.apache.log4j.{Level, Logger}\n",
       "\u001b[39m\r\n",
       "\u001b[32mimport \u001b[39m\u001b[36morg.joda.time.format.DateTimeFormat\n",
       "\u001b[39m\r\n",
       "\u001b[32mimport \u001b[39m\u001b[36morg.joda.time.{DateTime, Days}\n",
       "\u001b[39m\r\n",
       "\u001b[32mimport \u001b[39m\u001b[36morg.joda.time.format.DateTimeFormat\n",
       "\u001b[39m\r\n",
       "\u001b[32mimport \u001b[39m\u001b[36mjava.util.Properties\n",
       "\u001b[39m\r\n",
       "\u001b[32mimport \u001b[39m\u001b[36morg.apache.spark.sql.DataFrame\n",
       "\u001b[39m\r\n",
       "\u001b[32mimport \u001b[39m\u001b[36morg.apache.spark.sql.{DataFrame, SQLContext}\n",
       "\u001b[39m\r\n",
       "\u001b[32mimport \u001b[39m\u001b[36morg.apache.spark.{SparkConf, SparkContext}\n",
       "\u001b[39m\r\n",
       "\u001b[32mimport \u001b[39m\u001b[36morg.joda.time.{DateTime, Days}\n",
       "\u001b[39m\r\n",
       "\u001b[32mimport \u001b[39m\u001b[36morg.apache.spark.sql.{DataFrame, SparkSession}\n",
       "\u001b[39m\r\n",
       "\u001b[32mimport \u001b[39m\u001b[36morg.apache.spark.sql.SaveMode._\n",
       "\u001b[39m\r\n",
       "\u001b[32mimport \u001b[39m\u001b[36morg.apache.spark.sql.expressions.Window\n",
       "\u001b[39m\r\n",
       "\u001b[32mimport \u001b[39m\u001b[36morg.apache.spark.SparkConf\n",
       "\u001b[39m\r\n",
       "\u001b[32mimport \u001b[39m\u001b[36morg.apache.spark.sql.SparkSession\n",
       "\u001b[39m\r\n",
       "\u001b[32mimport \u001b[39m\u001b[36morg.json4s._\n",
       "\u001b[39m\r\n",
       "\u001b[32mimport \u001b[39m\u001b[36morg.json4s.jackson.JsonMethods._\n",
       "\u001b[39m\r\n",
       "\u001b[32mimport \u001b[39m\u001b[36morg.joda.time.format.DateTimeFormat\n",
       "\u001b[39m\r\n",
       "\u001b[32mimport \u001b[39m\u001b[36morg.joda.time.{DateTime, Days}\n",
       "\u001b[39m\r\n",
       "\u001b[36mformatter\u001b[39m: \u001b[32morg\u001b[39m.\u001b[32mjoda\u001b[39m.\u001b[32mtime\u001b[39m.\u001b[32mformat\u001b[39m.\u001b[32mDateTimeFormatter\u001b[39m = org.joda.time.format.DateTimeFormatter@5a6c4b73\r\n",
       "\u001b[32mimport \u001b[39m\u001b[36mscala.util.Try\n",
       "\u001b[39m\r\n",
       "\u001b[32mimport \u001b[39m\u001b[36mjava.sql.{Connection, DriverManager, ResultSet}\n",
       "\u001b[39m\r\n",
       "\u001b[32mimport \u001b[39m\u001b[36morg.apache.spark.SparkContext  \n",
       "\u001b[39m\r\n",
       "\u001b[32mimport \u001b[39m\u001b[36morg.apache.spark.SparkConf\n",
       "\u001b[39m\r\n",
       "\u001b[32mimport \u001b[39m\u001b[36morg.apache.spark.sql.Column\n",
       "\u001b[39m\r\n",
       "\u001b[32mimport \u001b[39m\u001b[36morg.apache.spark.sql.types.{DataType, DateType, TimestampType}\n",
       "\u001b[39m\r\n",
       "\u001b[32mimport \u001b[39m\u001b[36morg.apache.spark.sql.functions._\n",
       "\u001b[39m\r\n",
       "\u001b[36mspark\u001b[39m: \u001b[32mSparkSession\u001b[39m = org.apache.spark.sql.SparkSession@a783da4\r\n",
       "defined \u001b[32mfunction\u001b[39m \u001b[36msc\u001b[39m\r\n",
       "\u001b[32mimport \u001b[39m\u001b[36mspark.implicits._\u001b[39m"
      ]
     },
     "execution_count": 3,
     "metadata": {},
     "output_type": "execute_result"
    }
   ],
   "source": [
    "import $ivy.`org.apache.spark::spark-sql:2.4.3` \n",
    "import org.apache.spark.sql._\n",
    "import org.apache.log4j.{Level, Logger}\n",
    "Logger.getLogger(\"org\").setLevel(Level.OFF)\n",
    "import org.joda.time.format.DateTimeFormat\n",
    "import org.joda.time.{DateTime, Days}\n",
    "import org.joda.time.format.DateTimeFormat\n",
    "import java.util.Properties\n",
    "import org.apache.spark.sql.DataFrame\n",
    "import org.apache.spark.sql.{DataFrame, SQLContext}\n",
    "import org.apache.spark.{SparkConf, SparkContext}\n",
    "import org.joda.time.{DateTime, Days}\n",
    "import org.apache.spark.sql.{DataFrame, SparkSession}\n",
    "import org.apache.spark.sql.SaveMode._\n",
    "import org.apache.spark.sql.expressions.Window\n",
    "import org.apache.spark.SparkConf\n",
    "import org.apache.spark.sql.SparkSession\n",
    "import org.json4s._\n",
    "import org.json4s.jackson.JsonMethods._\n",
    "import org.joda.time.format.DateTimeFormat\n",
    "import org.joda.time.{DateTime, Days}\n",
    "val formatter = DateTimeFormat.forPattern(\"yyyy-MM-dd\")\n",
    "import scala.util.Try\n",
    "import java.sql.{Connection, DriverManager, ResultSet}\n",
    "import org.apache.spark.SparkContext  \n",
    "import org.apache.spark.SparkConf\n",
    "import org.apache.spark.sql.Column\n",
    "import org.apache.spark.sql.types.{DataType, DateType, TimestampType}\n",
    "import org.apache.spark.sql.functions._\n",
    "val spark = {\n",
    "  SparkSession.builder()\n",
    "    .master(\"local[*]\")\n",
    "    .getOrCreate()\n",
    "}\n",
    "def sc = spark.sparkContext\n",
    "import spark.implicits._"
   ]
  },
  {
   "cell_type": "code",
   "execution_count": 5,
   "metadata": {},
   "outputs": [
    {
     "data": {
      "text/plain": [
       "\u001b[36mdf_1\u001b[39m: \u001b[32mDataFrame\u001b[39m = [variant: string, device_id: string ... 1 more field]\r\n",
       "\u001b[36mdf_2\u001b[39m: \u001b[32mDataFrame\u001b[39m = [device_id: string, event_type: string ... 5 more fields]\r\n",
       "\u001b[36mdf_3\u001b[39m: \u001b[32mDataFrame\u001b[39m = [device_id: string, event_type: string ... 4 more fields]"
      ]
     },
     "execution_count": 5,
     "metadata": {},
     "output_type": "execute_result"
    }
   ],
   "source": [
    "val df_1 = spark.read.option(\"header\", true).option(\"inferSchema\",true).csv(\"AB_data_1.csv\")\n",
    "val df_2 = spark.read.option(\"header\", true).option(\"inferSchema\",true).csv(\"editor_open.csv\")\n",
    "val df_3 = spark.read.option(\"header\", true).option(\"inferSchema\",true).csv(\"editor_done.csv\")"
   ]
  },
  {
   "cell_type": "code",
   "execution_count": 6,
   "metadata": {},
   "outputs": [
    {
     "data": {
      "text/plain": [
       "\u001b[36mdf2\u001b[39m: \u001b[32mDataFrame\u001b[39m = [device_id: string, event_eo: string ... 2 more fields]\r\n",
       "\u001b[36mdf3\u001b[39m: \u001b[32mDataFrame\u001b[39m = [device_id: string, event_ed: string ... 2 more fields]"
      ]
     },
     "execution_count": 6,
     "metadata": {},
     "output_type": "execute_result"
    }
   ],
   "source": [
    "val df2 = df_2.drop(\"country_code\", \"platform\", \"source\").withColumnRenamed(\"event_type\", \"event_eo\").\n",
    "      withColumnRenamed(\"timestamp\", \"timestamp_eo\")\n",
    "val df3 = df_3.drop(\"country_code\", \"platform\").withColumnRenamed(\"event_type\", \"event_ed\").\n",
    "      withColumnRenamed(\"timestamp\", \"timestamp_ed\")\n"
   ]
  },
  {
   "cell_type": "code",
   "execution_count": 8,
   "metadata": {},
   "outputs": [
    {
     "data": {
      "text/plain": [
       "\u001b[36mdf_new\u001b[39m: \u001b[32mDataFrame\u001b[39m = [device_id: string, event_eo: string ... 6 more fields]\r\n",
       "\u001b[36mdf_fin\u001b[39m: \u001b[32mDataFrame\u001b[39m = [device_id: string, event_eo: string ... 4 more fields]"
      ]
     },
     "execution_count": 8,
     "metadata": {},
     "output_type": "execute_result"
    }
   ],
   "source": [
    "val df_new = df2.join(df3, df2(\"device_id\")<=>df3(\"device_id\") && df2(\"editor_sid\")<=>\n",
    "             df3(\"editor_sid\") && df2(\"timestamp_eo\") < df3(\"timestamp_ed\"), \"left\")\n",
    "val df_fin = df_new.drop(df3(\"device_id\")).drop( df3(\"editor_sid\"))"
   ]
  },
  {
   "cell_type": "code",
   "execution_count": 9,
   "metadata": {},
   "outputs": [
    {
     "name": "stdout",
     "output_type": "stream",
     "text": [
      "+--------------------+-----------+-------------------+--------------------+--------+------------+\n",
      "|           device_id|   event_eo|       timestamp_eo|          editor_sid|event_ed|timestamp_ed|\n",
      "+--------------------+-----------+-------------------+--------------------+--------+------------+\n",
      "|de2522a5-06ad-441...|editor_open|2019-12-19 05:56:33|7bbf5f5d-5eca-4b0...|    null|        null|\n",
      "|1c5d7b92-f5a4-430...|editor_open|2019-12-19 05:46:32|5d092b06-7cf7-409...|    null|        null|\n",
      "|F6232B9D-6E26-404...|editor_open|2019-12-19 06:37:31|f6232b9d-6e26-404...|    null|        null|\n",
      "|67a8d922-3b7a-4ca...|editor_open|2019-12-19 08:55:08|063eb382-1722-479...|    null|        null|\n",
      "|d5a2beb0-f196-4b0...|editor_open|2019-12-19 08:50:42|c655674c-9fed-47c...|    null|        null|\n",
      "+--------------------+-----------+-------------------+--------------------+--------+------------+\n",
      "only showing top 5 rows\n",
      "\n"
     ]
    }
   ],
   "source": [
    "df_fin.show(5)"
   ]
  },
  {
   "cell_type": "code",
   "execution_count": 45,
   "metadata": {},
   "outputs": [
    {
     "name": "stdout",
     "output_type": "stream",
     "text": [
      "+-------------------+-------------------+\n",
      "|     min(timestamp)|     max(timestamp)|\n",
      "+-------------------+-------------------+\n",
      "|2019-12-20 12:06:50|2019-12-23 02:47:37|\n",
      "+-------------------+-------------------+\n",
      "\n"
     ]
    },
    {
     "data": {
      "text/plain": [
       "\u001b[36mdf_final\u001b[39m: \u001b[32mDataFrame\u001b[39m = [variant: string, device_id: string ... 7 more fields]\r\n",
       "\u001b[36mframe\u001b[39m: \u001b[32mDataFrame\u001b[39m = [variant: string, device_id: string ... 4 more fields]"
      ]
     },
     "execution_count": 45,
     "metadata": {},
     "output_type": "execute_result"
    }
   ],
   "source": [
    "val df_final = df_1.join(df_fin, df_1(\"device_id\")<=>df_fin(\"device_id\") && df_1(\"timestamp\")<\n",
    "           df_fin(\"timestamp_eo\"), \"left\").withColumnRenamed(\"editor_sid\", \"session_id\")\n",
    "val frame = df_final.drop(df_fin(\"device_id\")).drop(df_fin(\"timestamp_eo\")).\n",
    "        drop(df_fin(\"timestamp_ed\"))\n",
    "frame.agg(min(col(\"timestamp\")), max(col(\"timestamp\"))).show()"
   ]
  },
  {
   "cell_type": "code",
   "execution_count": 54,
   "metadata": {},
   "outputs": [
    {
     "name": "stdout",
     "output_type": "stream",
     "text": [
      "+----------+--------------------+-------------------+-----------+--------------------+-----------------+\n",
      "|   variant|           device_id|          timestamp|   event_eo|          session_id|         event_ed|\n",
      "+----------+--------------------+-------------------+-----------+--------------------+-----------------+\n",
      "|with_remix|1e090ca0-8d8e-451...|2019-12-22 21:26:05|editor_open|ccd62571-f4ce-4a4...|             null|\n",
      "|with_remix|1e090ca0-8d8e-451...|2019-12-22 21:26:05|editor_open|ccd62571-f4ce-4a4...|editor_done_click|\n",
      "|with_remix|1e090ca0-8d8e-451...|2019-12-22 21:26:05|editor_open|ccd62571-f4ce-4a4...|             null|\n",
      "|with_remix|42f5b1ee-1b9c-42f...|2019-12-21 19:51:24|       null|                null|             null|\n",
      "|  original|7290d6ca-6abc-459...|2019-12-21 06:03:36|editor_open|26976319-e5b5-46e...|editor_done_click|\n",
      "|  original|7290d6ca-6abc-459...|2019-12-21 06:03:36|editor_open|26976319-e5b5-46e...|             null|\n",
      "|  original|7290d6ca-6abc-459...|2019-12-21 06:03:36|editor_open|26976319-e5b5-46e...|             null|\n",
      "|  original|7290d6ca-6abc-459...|2019-12-21 06:03:36|editor_open|26976319-e5b5-46e...|             null|\n",
      "|with_remix|757cf734-97c0-4cd...|2019-12-21 04:14:42|editor_open|cfff81c5-46c6-4c0...|editor_done_click|\n",
      "|  original|7fe625c2-43df-40e...|2019-12-21 15:11:42|       null|                null|             null|\n",
      "+----------+--------------------+-------------------+-----------+--------------------+-----------------+\n",
      "only showing top 10 rows\n",
      "\n"
     ]
    },
    {
     "data": {
      "text/plain": [
       "\u001b[36msummary\u001b[39m: \u001b[32mDataFrame\u001b[39m = [variant: string, count(DISTINCT device_id): bigint ... 3 more fields]"
      ]
     },
     "execution_count": 54,
     "metadata": {},
     "output_type": "execute_result"
    }
   ],
   "source": [
    "frame.show(10)\n",
    "val summary = frame.groupBy(\"variant\").agg(countDistinct(col(\"device_id\")), \n",
    "              countDistinct(col(\"session_id\")), count(col(\"event_eo\")), count(col(\"event_ed\")))"
   ]
  },
  {
   "cell_type": "code",
   "execution_count": 55,
   "metadata": {},
   "outputs": [
    {
     "name": "stdout",
     "output_type": "stream",
     "text": [
      "+----------+-------------------------+--------------------------+---------------+---------------+\n",
      "|   variant|count(DISTINCT device_id)|count(DISTINCT session_id)|count(event_eo)|count(event_ed)|\n",
      "+----------+-------------------------+--------------------------+---------------+---------------+\n",
      "|with_remix|                      914|                      2670|           2890|           1187|\n",
      "|  original|                      917|                      2862|           3051|           1339|\n",
      "+----------+-------------------------+--------------------------+---------------+---------------+\n",
      "\n"
     ]
    }
   ],
   "source": [
    "summary.show()"
   ]
  },
  {
   "cell_type": "code",
   "execution_count": 56,
   "metadata": {},
   "outputs": [
    {
     "name": "stdout",
     "output_type": "stream",
     "text": [
      "+----------+-------------------------+--------------------------+---------------+---------------+------------------+\n",
      "|   variant|count(DISTINCT device_id)|count(DISTINCT session_id)|count(event_eo)|count(event_ed)|        conv_eo_ed|\n",
      "+----------+-------------------------+--------------------------+---------------+---------------+------------------+\n",
      "|with_remix|                      914|                      2670|           2890|           1187| 41.07266435986159|\n",
      "|  original|                      917|                      2862|           3051|           1339|43.887250081940344|\n",
      "+----------+-------------------------+--------------------------+---------------+---------------+------------------+\n",
      "\n"
     ]
    },
    {
     "data": {
      "text/plain": [
       "\u001b[36msummary1\u001b[39m: \u001b[32mDataFrame\u001b[39m = [variant: string, count(DISTINCT device_id): bigint ... 4 more fields]"
      ]
     },
     "execution_count": 56,
     "metadata": {},
     "output_type": "execute_result"
    }
   ],
   "source": [
    "//counts per each event and conversion rate\n",
    "val summary1 = summary.withColumn(\"conv_eo_ed\", col(\"count(event_ed)\")*100/col(\"count(event_eo)\"))\n",
    "summary1.show()"
   ]
  },
  {
   "cell_type": "code",
   "execution_count": 47,
   "metadata": {},
   "outputs": [
    {
     "name": "stdout",
     "output_type": "stream",
     "text": [
      "+-----------------------------------+\n",
      "|avg_retention_rate_over_time_period|\n",
      "+-----------------------------------+\n",
      "|                               -0.6|\n",
      "+-----------------------------------+\n",
      "\n",
      "()\n",
      "+-----------------------------------+\n",
      "|avg_retention_rate_over_time_period|\n",
      "+-----------------------------------+\n",
      "|                               -0.6|\n",
      "+-----------------------------------+\n",
      "\n",
      "()\n"
     ]
    }
   ],
   "source": [
    "//ret 1 day!!!\n",
    "val ret_original = retention(frame.filter(col(\"variant\")===\"original\"), 1)\n",
    "val ret_remix = retention(frame.filter(col(\"variant\")===\"with_remix\"), 1)\n",
    "//????"
   ]
  },
  {
   "cell_type": "code",
   "execution_count": 59,
   "metadata": {},
   "outputs": [
    {
     "name": "stdout",
     "output_type": "stream",
     "text": [
      "+-------+--------------------+-----------------+\n",
      "|summary|           device_id|  count(event_eo)|\n",
      "+-------+--------------------+-----------------+\n",
      "|  count|                 917|              917|\n",
      "|   mean|                null|3.327153762268266|\n",
      "| stddev|                null|7.707100868008031|\n",
      "|    min|0032fa0b-7143-41d...|                0|\n",
      "|    max|fff6e772-5651-49d...|              142|\n",
      "+-------+--------------------+-----------------+\n",
      "\n",
      "+-------+--------------------+------------------+\n",
      "|summary|           device_id|   count(event_eo)|\n",
      "+-------+--------------------+------------------+\n",
      "|  count|                 914|               914|\n",
      "|   mean|                null|3.1619256017505473|\n",
      "| stddev|                null| 7.237485706708468|\n",
      "|    min|00589dc6-8909-468...|                 0|\n",
      "|    max|fffcdd0e-61fd-4fe...|                95|\n",
      "+-------+--------------------+------------------+\n",
      "\n",
      "+-------+--------------------+------------------+\n",
      "|summary|           device_id|   count(event_ed)|\n",
      "+-------+--------------------+------------------+\n",
      "|  count|                 917|               917|\n",
      "|   mean|                null| 1.460196292257361|\n",
      "| stddev|                null|3.4177479824397454|\n",
      "|    min|0032fa0b-7143-41d...|                 0|\n",
      "|    max|fff6e772-5651-49d...|                45|\n",
      "+-------+--------------------+------------------+\n",
      "\n",
      "+-------+--------------------+------------------+\n",
      "|summary|           device_id|   count(event_ed)|\n",
      "+-------+--------------------+------------------+\n",
      "|  count|                 914|               914|\n",
      "|   mean|                null| 1.298687089715536|\n",
      "| stddev|                null|3.5325831834483523|\n",
      "|    min|00589dc6-8909-468...|                 0|\n",
      "|    max|fffcdd0e-61fd-4fe...|                62|\n",
      "+-------+--------------------+------------------+\n",
      "\n"
     ]
    }
   ],
   "source": [
    "//mean, stdev summary (editor_open, editor_done)\n",
    "frame.filter(col(\"variant\")===\"original\").groupBy(\"device_id\").agg(count(col(\"event_eo\"))).\n",
    "        describe().show()\n",
    "frame.filter(col(\"variant\")===\"with_remix\").groupBy(\"device_id\").agg(count(col(\"event_eo\"))).\n",
    "        describe().show()\n",
    "frame.filter(col(\"variant\")===\"original\").groupBy(\"device_id\").agg(count(col(\"event_ed\"))).\n",
    "        describe().show()\n",
    "frame.filter(col(\"variant\")===\"with_remix\").groupBy(\"device_id\").agg(count(col(\"event_ed\"))).\n",
    "        describe().show()"
   ]
  },
  {
   "cell_type": "code",
   "execution_count": 58,
   "metadata": {},
   "outputs": [
    {
     "name": "stdout",
     "output_type": "stream",
     "text": [
      "+----------+---------------+\n",
      "|   variant|count_device_id|\n",
      "+----------+---------------+\n",
      "|with_remix|            914|\n",
      "|  original|            917|\n",
      "+----------+---------------+\n",
      "\n"
     ]
    }
   ],
   "source": [
    "//total counts\n",
    "group_count(df_1, Array(\"variant\"), Array(\"device_id\")).show()"
   ]
  },
  {
   "cell_type": "code",
   "execution_count": null,
   "metadata": {},
   "outputs": [],
   "source": []
  },
  {
   "cell_type": "code",
   "execution_count": null,
   "metadata": {},
   "outputs": [],
   "source": []
  },
  {
   "cell_type": "code",
   "execution_count": null,
   "metadata": {},
   "outputs": [],
   "source": []
  },
  {
   "cell_type": "code",
   "execution_count": null,
   "metadata": {},
   "outputs": [],
   "source": []
  },
  {
   "cell_type": "code",
   "execution_count": null,
   "metadata": {},
   "outputs": [],
   "source": []
  },
  {
   "cell_type": "code",
   "execution_count": null,
   "metadata": {},
   "outputs": [],
   "source": []
  },
  {
   "cell_type": "code",
   "execution_count": null,
   "metadata": {},
   "outputs": [],
   "source": []
  },
  {
   "cell_type": "code",
   "execution_count": null,
   "metadata": {},
   "outputs": [],
   "source": []
  },
  {
   "cell_type": "code",
   "execution_count": null,
   "metadata": {},
   "outputs": [],
   "source": []
  },
  {
   "cell_type": "code",
   "execution_count": null,
   "metadata": {},
   "outputs": [],
   "source": []
  },
  {
   "cell_type": "code",
   "execution_count": null,
   "metadata": {},
   "outputs": [],
   "source": []
  },
  {
   "cell_type": "code",
   "execution_count": null,
   "metadata": {},
   "outputs": [],
   "source": []
  },
  {
   "cell_type": "code",
   "execution_count": null,
   "metadata": {},
   "outputs": [],
   "source": []
  },
  {
   "cell_type": "code",
   "execution_count": null,
   "metadata": {},
   "outputs": [],
   "source": []
  },
  {
   "cell_type": "code",
   "execution_count": null,
   "metadata": {},
   "outputs": [],
   "source": []
  },
  {
   "cell_type": "code",
   "execution_count": null,
   "metadata": {},
   "outputs": [],
   "source": []
  },
  {
   "cell_type": "code",
   "execution_count": null,
   "metadata": {},
   "outputs": [],
   "source": []
  },
  {
   "cell_type": "code",
   "execution_count": null,
   "metadata": {},
   "outputs": [],
   "source": []
  },
  {
   "cell_type": "code",
   "execution_count": null,
   "metadata": {},
   "outputs": [],
   "source": []
  },
  {
   "cell_type": "code",
   "execution_count": 14,
   "metadata": {},
   "outputs": [
    {
     "data": {
      "text/plain": [
       "defined \u001b[32mfunction\u001b[39m \u001b[36mgroup_count\u001b[39m\r\n",
       "defined \u001b[32mfunction\u001b[39m \u001b[36mretention\u001b[39m"
      ]
     },
     "execution_count": 14,
     "metadata": {},
     "output_type": "execute_result"
    }
   ],
   "source": [
    "def group_count(dataframe:DataFrame, group_col:Array[String], count:Array[String]):DataFrame = {\n",
    "        var count_col:Array[Column] = count.map(c => countDistinct(col(c)).as(\"count_\"+c))\n",
    "        var grouped_frame = dataframe.groupBy(group_col.head, group_col.tail:_*).agg(count_col.head, count_col.tail:_*)\n",
    "        grouped_frame\n",
    "}\n",
    "def retention(dataframe:DataFrame, number_of_days:Int):Unit = {\n",
    "        var frame = dataframe.withColumn(\"date\", to_date(dataframe(\"timestamp\")))\n",
    "        var device_id_col = frame(\"device_id\")\n",
    "        var date_col = frame(\"date\")\n",
    "        var df_1 = group_count(frame, Array(\"date\"), Array(\"device_id\")).withColumnRenamed(\"date\", \"date1\")\n",
    "        var df_2 = frame.select(\"date\", \"device_id\").groupBy(date_col).agg(collect_set(device_id_col).as(\"device_id_set\"))\n",
    "        var df_join = df_1.join(df_2, df_1(\"date1\") <=> df_2(\"date\"), \"inner\")\n",
    "        var window_spec = Window.orderBy(date_col)\n",
    "        var df_3 = df_join.withColumn(\"set_after_days\", lead(\"device_id_set\", number_of_days) over window_spec)\n",
    "        var df_4 = df_3.withColumn(\"common_id_set\", array_intersect(col(\"device_id_set\"), col(\"set_after_days\")))\n",
    "        var df_5 = df_4.withColumn(\"count_ret_ids\", size(col(\"common_id_set\"))).withColumn(\"retention_rate\",\n",
    "                    round(col(\"count_ret_ids\")*100/col(\"count_device_id\"), 2)).drop(\"date1\", \"device_id_set\", \n",
    "                    \"set_after_days\", \"common_id_set\")\n",
    "        var avg_ret_rate = df_5.agg(round(avg(col(\"retention_rate\")), 1).as(\"avg_retention_rate_over_time_period\"))\n",
    "        println(avg_ret_rate.show())\n",
    "    }"
   ]
  }
 ],
 "metadata": {
  "kernelspec": {
   "display_name": "Scala",
   "language": "scala",
   "name": "scala"
  },
  "language_info": {
   "codemirror_mode": "text/x-scala",
   "file_extension": ".scala",
   "mimetype": "text/x-scala",
   "name": "scala",
   "nbconvert_exporter": "script",
   "version": "2.12.10"
  }
 },
 "nbformat": 4,
 "nbformat_minor": 2
}
