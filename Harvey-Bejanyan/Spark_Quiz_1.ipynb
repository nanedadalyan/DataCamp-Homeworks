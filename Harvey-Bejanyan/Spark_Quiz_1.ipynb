{
 "cells": [
  {
   "cell_type": "code",
   "execution_count": null,
   "metadata": {},
   "outputs": [],
   "source": [
    "//code, insight, storytelling\n",
    "/*\n",
    "Calculate first 10 event after editor_open (hint:lag lead window functions)\n",
    "Calculate daily active users trend over month\n",
    "Calculate weekly seasonality\n",
    "Social Users description\n",
    "calculate editor_open -> editor_done_click -> photo_upload funnel\n",
    "describe user activity (active users, session info, etc)\n",
    "Calculate D7 retention of editor_open\n",
    "*/"
   ]
  },
  {
   "cell_type": "code",
   "execution_count": null,
   "metadata": {},
   "outputs": [],
   "source": []
  }
 ],
 "metadata": {
  "kernelspec": {
   "display_name": "Scala",
   "language": "scala",
   "name": "scala"
  },
  "language_info": {
   "codemirror_mode": "text/x-scala",
   "file_extension": ".scala",
   "mimetype": "text/x-scala",
   "name": "scala",
   "nbconvert_exporter": "script",
   "version": "2.12.10"
  }
 },
 "nbformat": 4,
 "nbformat_minor": 4
}
